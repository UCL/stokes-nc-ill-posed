{
 "cells": [
  {
   "cell_type": "code",
   "execution_count": 1,
   "id": "554176ac-1c6f-4827-a0dc-163c0e559206",
   "metadata": {},
   "outputs": [],
   "source": [
    "import dolfinx\n",
    "#import dxh\n",
    "import ufl\n",
    "import numpy as np\n",
    "import matplotlib.pyplot as plt\n",
    "from mpi4py import MPI\n",
    "from petsc4py import PETSc\n",
    "from scipy.sparse import csr_matrix\n",
    "import logging\n",
    "logger = logging.getLogger()\n",
    "logger.setLevel(logging.WARNING)"
   ]
  },
  {
   "cell_type": "markdown",
   "id": "410228dd-4c31-4edc-ade2-cdc7745cf6d7",
   "metadata": {},
   "source": [
    "Define experiment parameters"
   ]
  },
  {
   "cell_type": "code",
   "execution_count": 2,
   "id": "bb61670a-8015-4bbe-91e4-5139cdb5b6fd",
   "metadata": {},
   "outputs": [],
   "source": [
    "final_time = 0.9\n",
    "number_of_time_slices = 16\n",
    "number_spatial_mesh_cells = 32\n",
    "time_step = final_time / number_of_time_slices\n",
    "include_initial_condition = False\n",
    "spatial_element_degree = 1\n",
    "temporal_element_degree = 1\n",
    "# stabilization parameters\n",
    "lambda_nitsche = 5 * spatial_element_degree**2\n",
    "gamma_0 = 1\n",
    "gamma_1 = 1\n",
    "gamma_m = 1\n",
    "#gamma_primal_jump = gamma_primal\n",
    "gamma_dual = 1\n",
    "gamma_data = 1e4"
   ]
  },
  {
   "cell_type": "markdown",
   "id": "4b48b181-b7e5-44b4-8a9c-9e6fb9eace85",
   "metadata": {},
   "source": [
    "Set up temporal basis functions for trial and test function spaces"
   ]
  },
  {
   "cell_type": "code",
   "execution_count": 3,
   "id": "3d5d47f7-a483-490c-8a8a-9982f42b9104",
   "metadata": {},
   "outputs": [],
   "source": [
    "phi_test = phi_trial = (lambda t: 1-t, lambda t: t)\n",
    "dt_phi_test = dt_phi_trial = (lambda t: -1, lambda t: 1)"
   ]
  },
  {
   "cell_type": "markdown",
   "id": "c77288e4-1fe2-4cca-ae71-0fe98ed9f332",
   "metadata": {},
   "source": [
    "Define integrals in time of temporal basis functions, hardcoded here for simplicity"
   ]
  },
  {
   "cell_type": "code",
   "execution_count": 4,
   "id": "57e2b619-e8e4-4774-bc9b-a5b4e7879293",
   "metadata": {},
   "outputs": [],
   "source": [
    "integral_phi_phi = np.array([[1/3, 1/6], [1/6, 1/3]])\n",
    "integral_dphi_phi = np.array([[-1/2, 1/2], [-1/2, 1/2]])\n",
    "integral_dphi_dphi = np.array([[1.0, -1.0], [-1.0, 1.0]])"
   ]
  },
  {
   "cell_type": "markdown",
   "id": "fbea2f73-06aa-4d4c-bc8f-41277dc59829",
   "metadata": {},
   "source": [
    "Define quadrature rule for integrating right-hand side with respect to time"
   ]
  },
  {
   "cell_type": "code",
   "execution_count": 5,
   "id": "aa9b4028-0250-49b8-b5f5-63767ba8391e",
   "metadata": {},
   "outputs": [],
   "source": [
    "class GaussRadauQuadratureRule:\n",
    "\n",
    "    def __init__(self, number_of_points):\n",
    "        self.number_of_points = number_of_points\n",
    "        gauss_radau = {\n",
    "            3: (\n",
    "                [-1, (1 - np.sqrt(6)) / 5, (1 + np.sqrt(6)) / 5],\n",
    "                [2 / 9, (16 + np.sqrt(6)) / 18, (16 - np.sqrt(6)) / 18]\n",
    "            ),\n",
    "            4: (\n",
    "                [-1, -0.575319, 0.181066, 0.822824],\n",
    "                [0.125, 0.657689, 0.776387, 0.440924]\n",
    "            )\n",
    "        }\n",
    "        self.points, self.weights = gauss_radau[number_of_points]\n",
    "        \n",
    "    def current_pts(self, a, b):\n",
    "        return [0.5 * (b - a) * pt + 0.5 * (b + a)  for pt in self.points]\n",
    "    \n",
    "    def t_weights(self, delta_t):\n",
    "        return [0.5 * delta_t * w for w in self.weights]\n",
    "\n",
    "quadrature_rule = GaussRadauQuadratureRule(4) # quad rule for integrating rhs"
   ]
  },
  {
   "cell_type": "markdown",
   "id": "fb930835-0415-4b69-895a-58cab11494b1",
   "metadata": {},
   "source": [
    "Construct mesh on one-dimensional unit interval spatial domain"
   ]
  },
  {
   "cell_type": "code",
   "execution_count": 6,
   "id": "9ed0e6da-82c9-44d9-8c57-8c8534d2ed2f",
   "metadata": {},
   "outputs": [],
   "source": [
    "communicator = MPI.COMM_WORLD\n",
    "#mesh = dolfinx.mesh.create_unit_interval(communicator, number_spatial_mesh_cells)\n",
    "mesh = dolfinx.mesh.create_unit_square(communicator, number_spatial_mesh_cells,number_spatial_mesh_cells)"
   ]
  },
  {
   "cell_type": "markdown",
   "id": "1216491b-d8b9-4da8-b99f-46a0c2c665a2",
   "metadata": {},
   "source": [
    "Create base vector finite element with continuous Galerkin family and dimension proportional to number slices temporal interval is split into"
   ]
  },
  {
   "cell_type": "code",
   "execution_count": 7,
   "id": "fb8cc193-8622-458b-b4a2-dc8bf91fd0a3",
   "metadata": {},
   "outputs": [],
   "source": [
    "vector_element = ufl.VectorElement(\n",
    "    family=\"CR\",\n",
    "    cell=mesh.ufl_cell(),\n",
    "    degree=spatial_element_degree,\n",
    "    dim=2 * number_of_time_slices\n",
    ")"
   ]
  },
  {
   "cell_type": "markdown",
   "id": "51c62e87-0f5a-4668-92a9-accc035f125a",
   "metadata": {},
   "source": [
    "Create a mixed element corresponding to outer level of nesting for each of four variables (displacement primal, velocity primal, displacement dual, velocity dual) and corresponding function space"
   ]
  },
  {
   "cell_type": "code",
   "execution_count": 8,
   "id": "eefb6ebe-f54c-42be-a48c-42aaf0f235de",
   "metadata": {},
   "outputs": [],
   "source": [
    "mixed_element = ufl.MixedElement([vector_element] * 2)\n",
    "mixed_function_space = dolfinx.fem.FunctionSpace(mesh, mixed_element)"
   ]
  },
  {
   "cell_type": "markdown",
   "id": "69e65731-8f38-4824-ae63-2cf5c010eb48",
   "metadata": {},
   "source": [
    "Construct trial and test functions for primal and dual variables (for both displacement and velocity)"
   ]
  },
  {
   "cell_type": "code",
   "execution_count": 9,
   "id": "fd7ab99d-3d71-4016-9db7-9957b16ed581",
   "metadata": {},
   "outputs": [],
   "source": [
    "(\n",
    "    velocity_primal_trial_function,\n",
    "    velocity_dual_trial_function,\n",
    ") = ufl.TrialFunctions(mixed_function_space)\n",
    "(\n",
    "    velocity_primal_test_function,\n",
    "    velocity_dual_test_function,\n",
    ") = ufl.TestFunctions(mixed_function_space)"
   ]
  },
  {
   "cell_type": "markdown",
   "id": "9915eacd-f2fe-4d3a-8765-7e9e401e11f9",
   "metadata": {},
   "source": [
    "Create indicator function on spatial domain for where data is available"
   ]
  },
  {
   "cell_type": "code",
   "execution_count": 10,
   "id": "1fbf8d35-74f7-4f77-bdcf-b4111dba3338",
   "metadata": {},
   "outputs": [],
   "source": [
    "def data_domain_indicator(spatial_coordinate, lower_bound=0.2, upper_bound=0.8):\n",
    "    return ((spatial_coordinate[0] <= lower_bound) | (spatial_coordinate[0] >= upper_bound)) * 1\n",
    "\n",
    "indicator_function_space = dolfinx.fem.FunctionSpace(mesh, (\"DG\", 0))\n",
    "data_domain_indicator_function = dolfinx.fem.Function(indicator_function_space)\n",
    "data_domain_indicator_function.interpolate(data_domain_indicator)"
   ]
  },
  {
   "cell_type": "markdown",
   "id": "1d3682f3-fe66-4ce5-97e7-74aa68b269c8",
   "metadata": {},
   "source": [
    "Define function for constructing required measures / integrals on spatial domain and create instances of measures for mesh"
   ]
  },
  {
   "cell_type": "code",
   "execution_count": 11,
   "id": "e449311b-592e-4707-a75e-3b0cd9776c63",
   "metadata": {},
   "outputs": [],
   "source": [
    "def construct_measures(mesh, spatial_element_degree):\n",
    "    metadata = {\"quadrature_degree\": 2 * spatial_element_degree + 3}\n",
    "    cell_integral = ufl.Measure(\"cell\", domain=mesh, metadata=metadata)\n",
    "    exterior_facet_integral = ufl.Measure(\"exterior_facet\", domain=mesh, metadata=metadata)\n",
    "    interior_facet_integral = ufl.Measure(\"interior_facet\", domain=mesh, metadata=metadata)\n",
    "    return cell_integral, exterior_facet_integral, interior_facet_integral\n",
    "\n",
    "cell_integral, exterior_facet_integral, interior_facet_integral = construct_measures(mesh, spatial_element_degree)\n",
    "spatial_coordinate = ufl.SpatialCoordinate(mesh)"
   ]
  },
  {
   "cell_type": "markdown",
   "id": "50030cf4-93c8-4807-8a56-eaee38375adb",
   "metadata": {},
   "source": [
    "$A_1(u,w)=\\tau \\sum^{N}_{n=1}((\\partial_{\\tau}u^n,w^n)+a_h(u^n,w^n))$"
   ]
  },
  {
   "cell_type": "code",
   "execution_count": 12,
   "id": "f30c9252-bc9a-46de-a59e-d0647c68bdf9",
   "metadata": {},
   "outputs": [],
   "source": [
    "def problem_bilinear_form( \n",
    "    #velocity_primal_trial_function,\n",
    "    velocity_primal_trial_function_current,\n",
    "    velocity_primal_trial_function_previous,\n",
    "    velocity_primal_test_function,\n",
    "    #integral_phi_phi,\n",
    "    #integral_dphi_phi,\n",
    "    time_step,\n",
    "    mesh,\n",
    "    spatial_element_degree,\n",
    "):\n",
    "    cell_integral, exterior_facet_integral, _ = construct_measures(\n",
    "        mesh, spatial_element_degree\n",
    "    )\n",
    "    facet_normal = ufl.FacetNormal(mesh)\n",
    "    return (\n",
    "        #integral_dphi_phi\n",
    "         ufl.inner(\n",
    "            velocity_primal_trial_function_current-velocity_primal_trial_function_previous,\n",
    "            velocity_primal_test_function,\n",
    "        )\n",
    "        * cell_integral\n",
    "        + time_step\n",
    "        * ufl.inner(\n",
    "            ufl.grad(velocity_primal_trial_function_current),\n",
    "            ufl.grad(velocity_primal_test_function),\n",
    "        )\n",
    "        * cell_integral\n",
    "     )"
   ]
  },
  {
   "cell_type": "markdown",
   "id": "9499646d-2655-4c2a-9800-19d6d639d759",
   "metadata": {},
   "source": [
    "$A_{2}((u,z),v)= \\gamma_M\\tau \\sum^{N}_{n=1}(u^n,v^n)_{\\omega}+\\gamma_0(h \\nabla u^0,h \\nabla v^0) +\\gamma_1 \\tau\\sum^{N}_{n=1}(\\tau \\nabla \\partial_{\\tau}u^n, \\tau \\nabla \\partial_{\\tau}v^n) +\\tau\\sum^{N}_{n=1}\\sum_{F \\in \\mathcal{F}_h}\\frac{1}{h}(\\mathcal{J}(u^n),\\mathcal{J}({v^n}))_F+\\tau \\sum^{N}_{n=1}((\\partial_{\\tau}v^n,z^n)+a_h(v^n,z^n))$"
   ]
  },
  {
   "cell_type": "code",
   "execution_count": 13,
   "id": "1a1d53ee-76c1-4aef-a3b3-181727b054e0",
   "metadata": {},
   "outputs": [],
   "source": [
    "def primal_stabilizer_bilinear_form(\n",
    "    velocity_primal_trial_function_current,\n",
    "    velocity_primal_trial_function_previous,\n",
    "    velocity_primal_test_function_current,\n",
    "    velocity_primal_test_function_previous,\n",
    "    velocity_dual_trial_function,\n",
    "    time_step,\n",
    "    mesh,\n",
    "    spatial_element_degree,\n",
    "    gamma_0,\n",
    "    gamma_1,\n",
    "    gamma_m,\n",
    "):\n",
    "    (\n",
    "        cell_integral,\n",
    "        exterior_facet_integral,\n",
    "        interior_facet_integral\n",
    "    ) = construct_measures(mesh, spatial_element_degree)\n",
    "    cell_diameter = ufl.CellDiameter(mesh)\n",
    "    return (\n",
    "        #subdomain indicator term\n",
    "        gamma_m\n",
    "        * time_step\n",
    "        #* integral_phi_phi\n",
    "        * data_domain_indicator_function\n",
    "        * ufl.inner(\n",
    "                    velocity_primal_trial_function_current,\n",
    "                    velocity_primal_test_function_current,\n",
    "                )\n",
    "        * cell_integral\n",
    "        #  initial gradient velocity term\n",
    "        # + gamma_0\n",
    "        # * cell_diameter**2\n",
    "        # * ufl.inner(\n",
    "        #     ufl.grad(velocity_primal_trial_function_initial),\n",
    "        #     ufl.grad(velocity_primal_test_function_initial),\n",
    "        # )\n",
    "        # * cell_integral\n",
    "        # time gradient velocity term\n",
    "        + gamma_1\n",
    "        * time_step\n",
    "        * ufl.inner(\n",
    "             ufl.grad(velocity_primal_trial_function_current-velocity_primal_trial_function_previous),\n",
    "            ufl.grad(velocity_primal_test_function_current-velocity_primal_test_function_previous),\n",
    "        )\n",
    "        * cell_integral\n",
    "        # jump term\n",
    "        + time_step\n",
    "        * (1 / cell_diameter)\n",
    "        * ufl.inner(\n",
    "            ufl.jump(velocity_primal_trial_function_current),\n",
    "            ufl.jump(velocity_primal_test_function_current),\n",
    "        )\n",
    "        * exterior_facet_integral\n",
    "        #+ integral_dphi_phi\n",
    "        + ufl.inner(\n",
    "            velocity_primal_test_function_current-velocity_primal_test_function_previous,\n",
    "            velocity_dual_trial_function,\n",
    "        )\n",
    "        * cell_integral\n",
    "        + time_step\n",
    "        #* integral_phi_phi\n",
    "        * ufl.inner(\n",
    "            ufl.grad(velocity_primal_test_function_current),\n",
    "            ufl.grad(velocity_dual_trial_function),\n",
    "        )\n",
    "        * cell_integral\n",
    "         \n",
    "    )"
   ]
  },
  {
   "cell_type": "code",
   "execution_count": 19,
   "id": "686102b7-a9a8-42ce-9240-185544762965",
   "metadata": {},
   "outputs": [
    {
     "ename": "IndentationError",
     "evalue": "unexpected indent (3002443929.py, line 18)",
     "output_type": "error",
     "traceback": [
      "\u001b[0;36m  Cell \u001b[0;32mIn [19], line 18\u001b[0;36m\u001b[0m\n\u001b[0;31m    bilinear_form += problem_bilinear_form(\u001b[0m\n\u001b[0m    ^\u001b[0m\n\u001b[0;31mIndentationError\u001b[0m\u001b[0;31m:\u001b[0m unexpected indent\n"
     ]
    }
   ],
   "source": [
    "\n",
    "bilinear_form = 0\n",
    "\n",
    "linear_form = 0\n",
    "\n",
    "for time_slice_index in range(1,number_of_time_slices+1):\n",
    "    time_slice = time_slice_index * time_step\n",
    "    # A_1[primal_trial, primal_test]\n",
    "    bilinear_form += problem_bilinear_form(\n",
    "        velocity_primal_trial_function[time_slice_index],\n",
    "        velocity_primal_trial_function[time_slice_index-1],\n",
    "        velocity_primal_test_function[time_slice_index],\n",
    "        time_step,\n",
    "        mesh,\n",
    "        spatial_element_degree,\n",
    "    )\n",
    "    # A_2[(primal_trial, dual_trial), primal_test]\n",
    "    bilinear_form += primal_stabilizer_bilinear_form(\n",
    "        velocity_primal_trial_function[time_slice_index],\n",
    "        velocity_primal_trial_function[time_slice_index-1],\n",
    "        velocity_primal_test_function[time_slice_index],\n",
    "        velocity_primal_test_function[time_slice_index-1],\n",
    "        velocity_dual_trial_function[time_slice_index],\n",
    "        time_step,\n",
    "        mesh,\n",
    "        spatial_element_degree,\n",
    "        gamma_0,\n",
    "        gamma_1,\n",
    "        gamma_m,\n",
    "    )\n",
    "    # right hand side\n",
    "    linear_form +=\n",
    "    "
   ]
  },
  {
   "cell_type": "code",
   "execution_count": null,
   "id": "bbe5d0d9-971e-470e-a70c-6e6f5ea8a37e",
   "metadata": {},
   "outputs": [],
   "source": [
    "if include_initial_condition:\n",
    "    initial_velocity_function_space, dofmap_initial_displacement_to_mixed = (\n",
    "        mixed_function_space.sub(0).sub(0).collapse()\n",
    "    )\n",
    "    #initial_displacement = dolfinx.fem.Function(initial_displacement_function_space)\n",
    "    initial_velocity = dolfinx.fem.Function(initial_velocity_function_space)\n",
    "    # initial_velocity_expression = dolfinx.fem.Expression(\n",
    "    #     ufl.pi * ufl.sin(ufl.pi * spatial_coordinate[0]),\n",
    "    #     initial_velocity_function_space.element.interpolation_points(),\n",
    "    # )\n",
    "    # initial_velocity.interpolate(initial_velocity_expression)\n",
    "    initial_velocity.x.array[:] = 0.0\n",
    "    # I_1(primal_trial, primal_test)\n",
    "    # bilinear_form += (\n",
    "    #     gamma_primal_jump\n",
    "    #     * (1 / time_step)\n",
    "    #     * ufl.inner(\n",
    "    #         displacement_primal_trial_function[0], displacement_primal_test_function[0]\n",
    "    #     )\n",
    "    #     * cell_integral\n",
    "    #     + gamma_primal_jump\n",
    "    #     * time_step\n",
    "    #     * ufl.inner(\n",
    "    #         ufl.grad(displacement_primal_trial_function[0]),\n",
    "    #         ufl.grad(displacement_primal_test_function[0]),\n",
    "    #     )\n",
    "    #     * cell_integral\n",
    "    # ) #\n",
    "    # I_2(primal_trial, primal_test)\n",
    "    bilinear_form += (\n",
    "        gamma_0\n",
    "        * (1 / time_step)\n",
    "        * ufl.inner(\n",
    "            velocity_primal_trial_function[0], velocity_primal_test_function[0]\n",
    "        )\n",
    "        * cell_integral\n",
    "    ) #\n",
    "    # linear_form += (\n",
    "    #     gamma_primal_jump\n",
    "    #     * (1 / time_step)\n",
    "    #     * ufl.inner(initial_displacement, displacement_primal_test_function[0])\n",
    "    #     * cell_integral\n",
    "    #     + gamma_primal_jump\n",
    "    #     * time_step\n",
    "    #     * ufl.inner(\n",
    "    #         ufl.grad(initial_displacement),\n",
    "    #         ufl.grad(displacement_primal_test_function[0]),\n",
    "    #     )\n",
    "    #     * cell_integral\n",
    "    # )\n",
    "    linear_form += (\n",
    "        gamma_primal_jump\n",
    "        * (1 / time_step)\n",
    "        * ufl.inner(initial_velocity, velocity_primal_test_function[0])\n",
    "        * cell_integral\n",
    "    )"
   ]
  },
  {
   "cell_type": "markdown",
   "id": "a388cb4f-e3b2-4d4a-a8ef-6b6681b09073",
   "metadata": {},
   "source": [
    "Assemble matrix for bilinear form (left-hand side of linear system)"
   ]
  },
  {
   "cell_type": "code",
   "execution_count": null,
   "id": "18b7303c-da27-4e94-b5b0-b62a37ece732",
   "metadata": {},
   "outputs": [],
   "source": []
  },
  {
   "cell_type": "markdown",
   "id": "3b87249f-1d41-442c-bfe8-11048719d9ae",
   "metadata": {},
   "source": [
    "Set up solver"
   ]
  },
  {
   "cell_type": "code",
   "execution_count": null,
   "id": "a3845c69-8cc0-4e13-bcae-476956243cb5",
   "metadata": {},
   "outputs": [],
   "source": []
  },
  {
   "cell_type": "code",
   "execution_count": null,
   "id": "44dd3415-a8da-4a6d-ba2f-88df8db0dd14",
   "metadata": {},
   "outputs": [],
   "source": []
  }
 ],
 "metadata": {
  "kernelspec": {
   "display_name": "Python 3 (ipykernel)",
   "language": "python",
   "name": "python3"
  },
  "language_info": {
   "codemirror_mode": {
    "name": "ipython",
    "version": 3
   },
   "file_extension": ".py",
   "mimetype": "text/x-python",
   "name": "python",
   "nbconvert_exporter": "python",
   "pygments_lexer": "ipython3",
   "version": "3.10.4"
  }
 },
 "nbformat": 4,
 "nbformat_minor": 5
}
