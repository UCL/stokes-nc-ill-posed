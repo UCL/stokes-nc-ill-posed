{
 "cells": [
  {
   "cell_type": "code",
   "execution_count": 13,
   "id": "089c0049",
   "metadata": {},
   "outputs": [
    {
     "name": "stdout",
     "output_type": "stream",
     "text": [
      "eoc =  [0.5834522696329542, 0.8722565866066359, 0.9388995468150477, 0.9206172578698364]\n"
     ]
    }
   ],
   "source": [
    "from math import log \n",
    "\n",
    "l2_errors = [ ] \n",
    "#l2_errors = [0.04461430100037091,0.02977401883858153,0.01626529941729014,0.008484478155054119,0.004482205113082067 ] \n",
    "l2_errors =  [6.501426973429426,2.140336443226877,1.0794581975900324,0.5562036912912285, 0.37308722757322427 ]\n",
    "#eoc = [ log(l2_errors[i-1]/l2_errors[i])/log(2) for i in range(1,len(l2_errors))]\n",
    "print(\"eoc = \", eoc)"
   ]
  },
  {
   "cell_type": "code",
   "execution_count": 9,
   "id": "1d970b55",
   "metadata": {},
   "outputs": [
    {
     "data": {
      "text/plain": [
       "1.9170653892957534"
      ]
     },
     "execution_count": 9,
     "metadata": {},
     "output_type": "execute_result"
    }
   ],
   "source": [
    "0.01626529941729014/0.008484478155054119"
   ]
  },
  {
   "cell_type": "code",
   "execution_count": null,
   "id": "e022b8dc",
   "metadata": {},
   "outputs": [],
   "source": []
  }
 ],
 "metadata": {
  "kernelspec": {
   "display_name": "Python 3 (ipykernel)",
   "language": "python",
   "name": "python3"
  },
  "language_info": {
   "codemirror_mode": {
    "name": "ipython",
    "version": 3
   },
   "file_extension": ".py",
   "mimetype": "text/x-python",
   "name": "python",
   "nbconvert_exporter": "python",
   "pygments_lexer": "ipython3",
   "version": "3.7.9"
  }
 },
 "nbformat": 4,
 "nbformat_minor": 5
}
