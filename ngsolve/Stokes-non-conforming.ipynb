{
 "cells": [
  {
   "cell_type": "markdown",
   "metadata": {},
   "source": [
    "Poisson Equation\n",
    "==="
   ]
  },
  {
   "cell_type": "markdown",
   "metadata": {},
   "source": [
    "Import Netgen/NGSolve Python modules:"
   ]
  },
  {
   "cell_type": "code",
   "execution_count": 1,
   "metadata": {},
   "outputs": [],
   "source": [
    "from ngsolve import *\n",
    "from netgen.geom2d import SplineGeometry\n",
    "from ngsolve.webgui import Draw\n",
    "from math import log"
   ]
  },
  {
   "cell_type": "code",
   "execution_count": 2,
   "metadata": {},
   "outputs": [],
   "source": [
    "N = 2\n",
    "T = 0.2\n",
    "tau = T/N \n",
    "gamma0 = 1\n",
    "gamma1 = 1\n",
    "gamma_dual = 1e-5\n",
    "gamma_M = 1\n",
    "maxh = 0.4\n",
    "solver = \"pardiso\""
   ]
  },
  {
   "cell_type": "markdown",
   "metadata": {},
   "source": [
    "The unit_square is a predefined domain, use Netgen to generate a mesh:"
   ]
  },
  {
   "cell_type": "code",
   "execution_count": null,
   "metadata": {},
   "outputs": [],
   "source": []
  },
  {
   "cell_type": "code",
   "execution_count": 3,
   "metadata": {},
   "outputs": [],
   "source": [
    "def GetMeshDataAllAround(maxh):\n",
    "    geo = SplineGeometry()\n",
    "    # data domain\n",
    "    p1 = geo.AppendPoint (0,0)\n",
    "    p2 = geo.AppendPoint (1,0)\n",
    "    p4 = geo.AppendPoint (0.75,0.75)\n",
    "    p5 = geo.AppendPoint (0.75,0.25)\n",
    "    p6 = geo.AppendPoint (0.25,0.25)\n",
    "    p7 = geo.AppendPoint (0.25,0.75)\n",
    "    p11 = geo.AppendPoint(1.0,1.0)\n",
    "    p12 = geo.AppendPoint(0.0,1.0)\n",
    "    # omega\n",
    "    geo.Append ([\"line\", p1, p2], leftdomain=1, rightdomain=0,bc=\"bc_Omega\")\n",
    "    geo.Append ([\"line\", p2, p11], leftdomain=1, rightdomain=0,bc=\"bc_Omega\")\n",
    "    geo.Append ([\"line\", p11, p12], leftdomain=1, rightdomain=0,bc=\"bc_Omega\")\n",
    "    geo.Append ([\"line\", p12, p1], leftdomain=1, rightdomain=0,bc=\"bc_Omega\")\n",
    "    # only B\n",
    "    geo.Append ([\"line\", p6, p5], leftdomain=2, rightdomain=1)\n",
    "    geo.Append ([\"line\", p5, p4], leftdomain=2, rightdomain=1)\n",
    "    geo.Append ([\"line\", p4, p7], leftdomain=2, rightdomain=1)\n",
    "    geo.Append ([\"line\", p7, p6], leftdomain=2, rightdomain=1)\n",
    "    geo.SetMaterial(1, \"omega\")\n",
    "    geo.SetMaterial(2, \"only_B\")\n",
    "    return geo.GenerateMesh(maxh=maxh)"
   ]
  },
  {
   "cell_type": "code",
   "execution_count": 4,
   "metadata": {},
   "outputs": [
    {
     "data": {
      "application/vnd.jupyter.widget-view+json": {
       "model_id": "c0ce517c029740e1a25412e77cab0b81",
       "version_major": 2,
       "version_minor": 0
      },
      "text/plain": [
       "WebGuiWidget(layout=Layout(height='50vh', width='100%'), value={'gui_settings': {}, 'ngsolve_version': '6.2.23…"
      ]
     },
     "metadata": {},
     "output_type": "display_data"
    }
   ],
   "source": [
    "#mesh = Mesh(unit_square.GenerateMesh(maxh=0.2))\n",
    "mesh = Mesh(GetMeshDataAllAround(maxh) )\n",
    "h = specialcf.mesh_size\n",
    "n = specialcf.normal(2)\n",
    "Draw (mesh);"
   ]
  },
  {
   "cell_type": "code",
   "execution_count": 5,
   "metadata": {},
   "outputs": [],
   "source": [
    "t = Parameter(0.0)\n",
    "\n",
    "u_sol = CoefficientFunction( (  2*x**2*y*(2*y-1)*(x-1)**2*(y-1)*exp(-t), \n",
    "                            -2*x*y**2*(2*x-1)*(x-1)*(y-1)**2*exp(-t) ) )\n",
    "p_sol = 2*cos(x)*sin(y) - 2*sin(1)*(1 - cos(1))\n",
    "rhs = CoefficientFunction( ( 2*(-x**2*y*(x - 1)**2*(y - 1)*(2*y - 1) + 6*x**2*(1 - 2*y)*(x - 1)**2 \n",
    "              - 2*y*(y - 1)*(2*y - 1)*(x**2 + 4*x*(x - 1) + (x - 1)**2) - sin(x)*sin(y))*exp(-t)  , \n",
    "                           2*(x*y**2*(x - 1)*(2*x - 1)*(y - 1)**2 + 2*x*(x - 1)*(2*x - 1)*(y**2 + 4*y*(y - 1) \n",
    "                    + (y - 1)**2) + 6*y**2*(2*x - 1)*(y - 1)**2 + cos(x)*cos(y))*exp(-t)\n",
    "                           )  )"
   ]
  },
  {
   "cell_type": "markdown",
   "metadata": {},
   "source": [
    "Define a finite element space on that mesh. "
   ]
  },
  {
   "cell_type": "code",
   "execution_count": 6,
   "metadata": {},
   "outputs": [
    {
     "name": "stdout",
     "output_type": "stream",
     "text": [
      "X-ndof = 406\n"
     ]
    }
   ],
   "source": [
    "#fes = H1(mesh, order=3, dirichlet=\"left|right|bottom|top\")\n",
    "fes_NC = FESpace(\"nonconforming\",mesh, dirichlet=\"bc_Omega\", dgjumps = True) \n",
    "fes_lam = NumberSpace(mesh)\n",
    "fes_L2 = L2(mesh, order=0)\n",
    "fes_primal_vel = FESpace([fes_NC*fes_NC for i in range(N+1) ])\n",
    "fes_primal_pressure = FESpace([ fes_L2 for i in range(N) ])\n",
    "fes_dual_vel = FESpace([fes_NC*fes_NC for i in range(N) ])\n",
    "fes_dual_pressure = FESpace([ fes_L2 for i in range(N) ])\n",
    "fes_primal_lam = FESpace([fes_lam for i in range(N)])\n",
    "fes_dual_lam = FESpace([fes_lam for i in range(N)])\n",
    "X = FESpace( [fes_primal_vel, fes_primal_pressure,fes_primal_lam, fes_dual_vel, fes_dual_pressure,fes_dual_lam])\n",
    "print (\"X-ndof = {0}\".format(X.ndof ))"
   ]
  },
  {
   "cell_type": "code",
   "execution_count": 7,
   "metadata": {},
   "outputs": [],
   "source": [
    "#gfu = GridFunction(X)\n",
    "#Draw( gfu.components[0].components[N].components[1], mesh)\n",
    "#print(gfu.components[0].dim)\n",
    "#help(gfu)\n",
    "#help(gfu.components[1])\n",
    "#print(gfu.components[0][0].FV().NumPy())\n",
    "#print(gfu.components[0][0].dim)\n",
    "#help( gfu.components[0][0])\n",
    "#print(len(gfu.components[0][0] ))\n",
    "#Draw(gfu.components[1],mesh )"
   ]
  },
  {
   "cell_type": "code",
   "execution_count": 8,
   "metadata": {},
   "outputs": [],
   "source": [
    "#help(gfu.components[0].components[0].components[0])"
   ]
  },
  {
   "cell_type": "code",
   "execution_count": null,
   "metadata": {},
   "outputs": [],
   "source": []
  },
  {
   "cell_type": "code",
   "execution_count": 9,
   "metadata": {},
   "outputs": [
    {
     "data": {
      "text/plain": [
       "6"
      ]
     },
     "execution_count": 9,
     "metadata": {},
     "output_type": "execute_result"
    }
   ],
   "source": [
    "len(X.TrialFunction()) "
   ]
  },
  {
   "cell_type": "code",
   "execution_count": 10,
   "metadata": {},
   "outputs": [],
   "source": [
    "u, pp, llam, zz, yyy, xxi =  X.TrialFunction()\n",
    "v, qq, mmu, ww, xxx, eeta =  X.TestFunction()\n",
    "#print(len(u[0]) )\n",
    "#print\n",
    "\n",
    "p = [None] + [pp[i] for i in range(len(pp)) ]\n",
    "z = [None] + [zz[i] for i in range(len(zz)) ]\n",
    "yy = [None] + [yyy[i] for i in range(len(yyy)) ]\n",
    "lam = [None] + [llam[i] for i in range(len(llam)) ]\n",
    "xi = [None] + [xxi[i] for i in range(len(xxi)) ]\n",
    "\n",
    "q = [None] + [qq[i] for i in range(len(qq)) ]\n",
    "w = [None] + [ww[i] for i in range(len(ww)) ]\n",
    "xx = [None] + [xxx[i] for i in range(len(xxx)) ]\n",
    "mu = [None] + [mmu[i] for i in range(len(mmu)) ]\n",
    "eta = [None] + [eeta[i] for i in range(len(eeta)) ]\n",
    "\n",
    "#help(xx)"
   ]
  },
  {
   "cell_type": "code",
   "execution_count": null,
   "metadata": {},
   "outputs": [],
   "source": []
  },
  {
   "cell_type": "code",
   "execution_count": 11,
   "metadata": {},
   "outputs": [],
   "source": [
    "def IP(u,v,nabla=False):\n",
    "    if nabla:\n",
    "        return sum( [ grad(u[i])*grad(v[i]) for i in range(len(u))] )\n",
    "    else:\n",
    "        return sum( [u[i]*v[i] for i in range(len(u))] )\n",
    "def IP_ut_v(u_cur,u_prev,v):\n",
    "    return sum( [ (u_cur[i] - u_prev[i] ) * v[i] for i in range(len(u_cur))] )\n",
    "    #help(IP(u[0],v[0]))\n",
    "def IP_mixed_stab(u_cur,u_prev,v_cur,v_prev):\n",
    "    return sum( [ ( grad(u_cur[i]) - grad(u_prev[i]) ) * ( grad(v_cur[i]) - grad(v_prev[i]) )  for i in range(len(u_cur))] )\n",
    "\n",
    "def IP_CIP(u,v):\n",
    "    return sum( [ (u[i] - u[i].Other()) * (v[i] - v[i].Other()) for i in range(len(u))  ] )\n",
    "\n",
    "def IP_divu_q(u,q):\n",
    "    u1_dx = grad(u[0])[0]\n",
    "    u2_dy = grad(u[1])[1]\n",
    "    div_u = u1_dx + u2_dy\n",
    "    return div_u * q  "
   ]
  },
  {
   "cell_type": "code",
   "execution_count": null,
   "metadata": {},
   "outputs": [],
   "source": []
  },
  {
   "cell_type": "code",
   "execution_count": 12,
   "metadata": {},
   "outputs": [],
   "source": [
    "a = BilinearForm(X,symmetric=False)\n",
    "\n",
    "# add mean value pressure constraint \n",
    "for i in range(1,N+1):\n",
    "    a += (mu[i] * p[i] + lam[i] * q[i]) * dx  \n",
    "    a += (eta[i] * yy[i] + xi[i] * xx[i]) * dx \n",
    "\n",
    "# A1 \n",
    "for i in range(1,N+1):\n",
    "    a += IP_ut_v(u[i],u[i-1],w[i]) * dx\n",
    "    a += tau * IP(u[i],w[i],nabla=True) * dx \n",
    "    a += tau *(-1)*IP_divu_q(w[i],p[i]) * dx\n",
    "    a += tau * IP_divu_q(u[i],xx[i]) * dx \n",
    "\n",
    "# A2 \n",
    "a += gamma0 * h**2 * IP(u[0],v[0],nabla=True) * dx\n",
    "for i in range(1,N+1):\n",
    "    a += gamma_M * tau * IP(u[i],v[i]) * dx(definedon=mesh.Materials(\"omega\"))\n",
    "    a += gamma1 * tau * IP_mixed_stab(u[i],u[i-1],v[i],v[i-1]) * dx \n",
    "    a +=  tau * (1/h) *  IP_CIP(u[i],v[i]) * dx(skeleton=True)\n",
    "    a += IP_ut_v(v[i],v[i-1],z[i]) * dx\n",
    "    a += tau * IP(v[i],z[i],nabla=True) * dx \n",
    "    \n",
    "    a += (-1)*IP_divu_q(z[i],q[i]) * dx \n",
    "    a += IP_divu_q(v[i],yy[i]) * dx\n",
    "\n",
    "    \n",
    "# dual stabilization (to be removed ...)\n",
    "\n",
    "for i in range(1,N+1):\n",
    "    a += (-1)* gamma_dual * IP(z[i],w[i]) * dx \n",
    "    a += (-1)* gamma_dual * yy[i] * xx[i] * dx "
   ]
  },
  {
   "cell_type": "code",
   "execution_count": null,
   "metadata": {},
   "outputs": [],
   "source": []
  },
  {
   "cell_type": "markdown",
   "metadata": {},
   "source": [
    "Define linear and bilinear-forms. \n",
    "\n",
    "$$\n",
    "a(u,v) = \\int \\nabla u \\nabla v\n",
    "\\qquad \\text{and} \\qquad\n",
    "f(v) = \\int f v\n",
    "$$\n",
    "\n",
    "Forms are expressed in terms of trial and test-functions:"
   ]
  },
  {
   "cell_type": "code",
   "execution_count": 13,
   "metadata": {},
   "outputs": [],
   "source": [
    "f = LinearForm(X)\n",
    "for i in range(1,N+1):\n",
    "    t.Set(tau*i)\n",
    "    f += tau * IP(w[i],rhs,nabla=False)  * dx\n",
    "    f +=  gamma_M * tau * IP(v[i],u_sol) * dx(definedon=mesh.Materials(\"omega\"))\n",
    "\n",
    "with TaskManager():\n",
    "    a.Assemble()\n",
    "    f.Assemble()"
   ]
  },
  {
   "cell_type": "markdown",
   "metadata": {},
   "source": [
    "Solve the problem:"
   ]
  },
  {
   "cell_type": "code",
   "execution_count": 14,
   "metadata": {},
   "outputs": [],
   "source": [
    "gfu = GridFunction(X)\n",
    "gfu.vec.data = a.mat.Inverse(X.FreeDofs(),inverse=solver) * f.vec"
   ]
  },
  {
   "cell_type": "code",
   "execution_count": 15,
   "metadata": {},
   "outputs": [],
   "source": [
    "uhx = gfu.components[0].components[N].components[0]\n",
    "uhy = gfu.components[0].components[N].components[1]\n",
    "uh = [uhx,uhy]\n",
    "p_primal = gfu.components[1].components[N-1]\n",
    "p_dual = gfu.components[4].components[N-1]"
   ]
  },
  {
   "cell_type": "markdown",
   "metadata": {},
   "source": [
    "Plot the solution:"
   ]
  },
  {
   "cell_type": "code",
   "execution_count": 16,
   "metadata": {},
   "outputs": [
    {
     "data": {
      "application/vnd.jupyter.widget-view+json": {
       "model_id": "f593686b8fb04fbe88cbfa9861016dc9",
       "version_major": 2,
       "version_minor": 0
      },
      "text/plain": [
       "WebGuiWidget(layout=Layout(height='50vh', width='100%'), value={'gui_settings': {}, 'ngsolve_version': '6.2.23…"
      ]
     },
     "metadata": {},
     "output_type": "display_data"
    }
   ],
   "source": [
    "Draw (uhx, mesh);"
   ]
  },
  {
   "cell_type": "code",
   "execution_count": 17,
   "metadata": {},
   "outputs": [
    {
     "data": {
      "application/vnd.jupyter.widget-view+json": {
       "model_id": "c564dbb57f3a40bd95d38eb1c20bc060",
       "version_major": 2,
       "version_minor": 0
      },
      "text/plain": [
       "WebGuiWidget(layout=Layout(height='50vh', width='100%'), value={'gui_settings': {}, 'ngsolve_version': '6.2.23…"
      ]
     },
     "metadata": {},
     "output_type": "display_data"
    }
   ],
   "source": [
    "t.Set(tau*N)\n",
    "Draw (u_sol[0] , mesh);"
   ]
  },
  {
   "cell_type": "markdown",
   "metadata": {},
   "source": [
    "Calculate error:"
   ]
  },
  {
   "cell_type": "code",
   "execution_count": 18,
   "metadata": {},
   "outputs": [],
   "source": [
    "#exact = 16*x*(1-x)*y*(1-y)#\n",
    "#print (\"L2-error:\", sqrt(Integrate((gfu-exact)**2, mesh)))"
   ]
  },
  {
   "cell_type": "code",
   "execution_count": 19,
   "metadata": {},
   "outputs": [
    {
     "name": "stdout",
     "output_type": "stream",
     "text": [
      "pressure primal mean : -2.0816681711721685e-17\n",
      "pressure dual mean : 5.963111948670274e-19\n"
     ]
    }
   ],
   "source": [
    "# compute mean value of pressure \n",
    "print (\"pressure primal mean :\", Integrate(p_primal, mesh)  )\n",
    "print (\"pressure dual mean :\", Integrate( p_dual, mesh)  )"
   ]
  },
  {
   "cell_type": "code",
   "execution_count": 20,
   "metadata": {},
   "outputs": [
    {
     "name": "stdout",
     "output_type": "stream",
     "text": [
      "L2-error: 0.011824383595587509\n"
     ]
    }
   ],
   "source": [
    "# compute error \n",
    "t.Set(tau*N)\n",
    "print (\"L2-error:\", sqrt(Integrate( (u_sol[0]-uhx)**2 + (u_sol[1]-uhy)**2 , mesh)))"
   ]
  },
  {
   "cell_type": "code",
   "execution_count": 21,
   "metadata": {},
   "outputs": [
    {
     "name": "stdout",
     "output_type": "stream",
     "text": [
      "[0.2374944528670344, 1.1017677051598385, 2.5301772467218915, 1.862664338927717]\n"
     ]
    }
   ],
   "source": [
    "l2_errors = [ 0.013940278954281436, 0.011824383595587509,0.00550951516429729, 0.0009537930139828654,0.0002622625618920038 ]\n",
    "hm = [ 0.8,0.4,0.2,0.1,0.06]\n",
    "Ns = [1,2,4,8,16]\n",
    "eoc = [ log(l2_errors[i-1]/l2_errors[i])/log(2) for i in range(1,len(l2_errors))]\n",
    "print(eoc)"
   ]
  },
  {
   "cell_type": "code",
   "execution_count": 22,
   "metadata": {},
   "outputs": [
    {
     "ename": "ModuleNotFoundError",
     "evalue": "No module named 'maptlotlib'",
     "output_type": "error",
     "traceback": [
      "\u001b[1;31m---------------------------------------------------------------------------\u001b[0m",
      "\u001b[1;31mModuleNotFoundError\u001b[0m                       Traceback (most recent call last)",
      "\u001b[1;32m~\\AppData\\Local\\Temp\\ipykernel_7276\\2678421279.py\u001b[0m in \u001b[0;36m<module>\u001b[1;34m\u001b[0m\n\u001b[1;32m----> 1\u001b[1;33m \u001b[1;32mimport\u001b[0m \u001b[0mmaptlotlib\u001b[0m\u001b[1;33m.\u001b[0m\u001b[0mpyplot\u001b[0m \u001b[1;32mas\u001b[0m \u001b[0mplt\u001b[0m\u001b[1;33m\u001b[0m\u001b[1;33m\u001b[0m\u001b[0m\n\u001b[0m",
      "\u001b[1;31mModuleNotFoundError\u001b[0m: No module named 'maptlotlib'"
     ]
    }
   ],
   "source": [
    "import maptlotlib.pyplot as plt "
   ]
  },
  {
   "cell_type": "code",
   "execution_count": null,
   "metadata": {},
   "outputs": [],
   "source": []
  }
 ],
 "metadata": {
  "kernelspec": {
   "display_name": "Python 3 (ipykernel)",
   "language": "python",
   "name": "python3"
  },
  "language_info": {
   "codemirror_mode": {
    "name": "ipython",
    "version": 3
   },
   "file_extension": ".py",
   "mimetype": "text/x-python",
   "name": "python",
   "nbconvert_exporter": "python",
   "pygments_lexer": "ipython3",
   "version": "3.7.9"
  }
 },
 "nbformat": 4,
 "nbformat_minor": 2
}
