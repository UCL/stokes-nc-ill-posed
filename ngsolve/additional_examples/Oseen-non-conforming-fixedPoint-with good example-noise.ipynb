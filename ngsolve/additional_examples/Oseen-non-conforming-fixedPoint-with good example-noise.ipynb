{
 "cells": [
  {
   "cell_type": "markdown",
   "metadata": {},
   "source": [
    "Oseen Equation\n",
    "==="
   ]
  },
  {
   "cell_type": "markdown",
   "metadata": {},
   "source": [
    "Import Netgen/NGSolve Python modules:"
   ]
  },
  {
   "cell_type": "code",
   "execution_count": 1,
   "metadata": {},
   "outputs": [],
   "source": [
    "from ngsolve import *\n",
    "from netgen.geom2d import SplineGeometry\n",
    "from ngsolve.webgui import Draw\n",
    "from math import log\n",
    "import numpy as np\n",
    "import scipy.sparse as sp\n",
    "SetHeapSize(int(1e9))   "
   ]
  },
  {
   "cell_type": "code",
   "execution_count": 2,
   "metadata": {},
   "outputs": [
    {
     "data": {
      "text/plain": [
       "0.0625"
      ]
     },
     "execution_count": 2,
     "metadata": {},
     "output_type": "execute_result"
    }
   ],
   "source": [
    "1/16"
   ]
  },
  {
   "cell_type": "code",
   "execution_count": 3,
   "metadata": {},
   "outputs": [],
   "source": [
    "N = 16\n",
    "T = 0.2\n",
    "tau = T/N \n",
    "gamma0 = 1\n",
    "gamma1 = 1\n",
    "gamma_dual = 1e-5\n",
    "gamma_M = 1e5\n",
    "#maxh = 0.0375 + (0.075-0.0375)/2\n",
    "#print(maxh)\n",
    "maxh = 0.05\n",
    "solver = \"pardiso\"\n",
    "#solver = \"umfpack\"\n",
    "noise_lvl = 0.5\n",
    "epsilon = T/2\n",
    "sample_points = np.linspace(epsilon,T,100)"
   ]
  },
  {
   "cell_type": "code",
   "execution_count": 4,
   "metadata": {},
   "outputs": [],
   "source": [
    "class quad_rule:\n",
    "    def __init__(self,name,npoints):\n",
    "        self.name = name\n",
    "        self.npoints = npoints\n",
    "\n",
    "        gauss_lobatto = {\n",
    "            3: ( [ -1, 0, 1 ],\n",
    "                 [ 1/3, 4/3, 1/3 ] ),\n",
    "            4: ( [ -1, -np.sqrt(1/5), np.sqrt(1/5), 1],\n",
    "                 [ 1/6, 5/6, 5/6, 1/6 ] ),\n",
    "            5: ( [ -1, -(1/7)*np.sqrt(21),0.0, (1/7)*np.sqrt(21), 1.0 ],\n",
    "                 [ 1/10,49/90,32/45, 49/90, 1/10  ] ),\n",
    "            6: ( [ -1, -np.sqrt((1/21)*(7+2*np.sqrt(7))), -np.sqrt((1/21)*(7-2*np.sqrt(7))), np.sqrt((1/21)*(7-2*np.sqrt(7))), np.sqrt((1/21)*(7+2*np.sqrt(7))), 1.0 ],\n",
    "                 [ 1/15, (1/30)*(14-np.sqrt(7)), (1/30)*(14+np.sqrt(7)), (1/30)*(14+np.sqrt(7)), (1/30)*(14-np.sqrt(7)),  1/15 ] ),\n",
    "        }\n",
    "\n",
    "        if name == \"Gauss-Lobatto\":\n",
    "            self.points = gauss_lobatto[npoints][0]\n",
    "            self.weights = gauss_lobatto[npoints][1]\n",
    "        \n",
    "    def current_pts(self,a,b):\n",
    "        if self.name == \"Gauss-Radau\" or self.name == \"Gauss\" or self.name == \"Gauss-Lobatto\":\n",
    "            return [0.5*(b-a) * pt + 0.5*(b+a)  for pt in self.points]\n",
    "    \n",
    "    def t_weights(self,delta_t):\n",
    "        if self.name == \"Gauss-Radau\" or self.name == \"Gauss\" or self.name == \"Gauss-Lobatto\":\n",
    "            return [0.5*delta_t*w for w in self.weights]\n",
    "        \n",
    "qr = quad_rule(\"Gauss-Lobatto\",5)"
   ]
  },
  {
   "cell_type": "markdown",
   "metadata": {},
   "source": [
    "The unit_square is a predefined domain, use Netgen to generate a mesh:"
   ]
  },
  {
   "cell_type": "code",
   "execution_count": 5,
   "metadata": {},
   "outputs": [],
   "source": [
    "def freedofs_converter(fd):\n",
    "    frees = [] \n",
    "    for i in range(len(fd)):\n",
    "        if fd[i]:\n",
    "            frees.append(i)\n",
    "    return frees\n",
    "\n",
    "def cond_est(a,frees):\n",
    "    rows,cols,vals = a.mat.COO()\n",
    "    A = sp.csr_matrix((vals,(rows,cols)))\n",
    "    A_red = A.todense()[frees,:][:,frees] \n",
    "    return np.linalg.cond(A_red)"
   ]
  },
  {
   "cell_type": "code",
   "execution_count": 6,
   "metadata": {},
   "outputs": [],
   "source": [
    "def GetMeshDataAllAround(maxh):\n",
    "    geo = SplineGeometry()\n",
    "    # data domain\n",
    "    p1 = geo.AppendPoint (0,0)\n",
    "    p2 = geo.AppendPoint (1,0)\n",
    "    p4 = geo.AppendPoint (0.75,0.75)\n",
    "    p5 = geo.AppendPoint (0.75,0.25)\n",
    "    p6 = geo.AppendPoint (0.25,0.25)\n",
    "    p7 = geo.AppendPoint (0.25,0.75)\n",
    "    p11 = geo.AppendPoint(1.0,1.0)\n",
    "    p12 = geo.AppendPoint(0.0,1.0)\n",
    "    # omega\n",
    "    geo.Append ([\"line\", p1, p2], leftdomain=1, rightdomain=0,bc=\"bc_Omega\")\n",
    "    geo.Append ([\"line\", p2, p11], leftdomain=1, rightdomain=0,bc=\"bc_Omega\")\n",
    "    geo.Append ([\"line\", p11, p12], leftdomain=1, rightdomain=0,bc=\"bc_Omega\")\n",
    "    geo.Append ([\"line\", p12, p1], leftdomain=1, rightdomain=0,bc=\"bc_Omega\")\n",
    "    # only_B\n",
    "    geo.Append ([\"line\", p6, p5], leftdomain=2, rightdomain=1)\n",
    "    geo.Append ([\"line\", p5, p4], leftdomain=2, rightdomain=1)\n",
    "    geo.Append ([\"line\", p4, p7], leftdomain=2, rightdomain=1)\n",
    "    geo.Append ([\"line\", p7, p6], leftdomain=2, rightdomain=1)\n",
    "    geo.SetMaterial(1, \"omega\")\n",
    "    geo.SetMaterial(2, \"only_B\")\n",
    "    return geo.GenerateMesh(maxh=maxh)"
   ]
  },
  {
   "cell_type": "code",
   "execution_count": 7,
   "metadata": {},
   "outputs": [],
   "source": [
    "def GetMeshDataLeft(maxh):\n",
    "    geo = SplineGeometry()\n",
    "    p1 = geo.AppendPoint (0,0)\n",
    "    p2 = geo.AppendPoint (0.25,0)\n",
    "    p3 = geo.AppendPoint (0.25,1)\n",
    "    p4 = geo.AppendPoint (0,1)\n",
    "    p5 = geo.AppendPoint (1,0)\n",
    "    p6 = geo.AppendPoint (1,1)\n",
    "    # omega \n",
    "    geo.Append ([\"line\", p1, p2], leftdomain=1, rightdomain=0,bc=\"bc_Omega\")\n",
    "    geo.Append ([\"line\", p2, p3], leftdomain=1, rightdomain=2)\n",
    "    geo.Append ([\"line\", p3, p4], leftdomain=1, rightdomain=0,bc=\"bc_Omega\")\n",
    "    geo.Append ([\"line\", p4, p1], leftdomain=1, rightdomain=0,bc=\"bc_Omega\")\n",
    "    # only_B \n",
    "    geo.Append ([\"line\", p2, p5], leftdomain=2, rightdomain=0,bc=\"bc_Omega\")\n",
    "    geo.Append ([\"line\", p5, p6], leftdomain=2, rightdomain=0,bc=\"bc_Omega\")\n",
    "    geo.Append ([\"line\", p6, p3], leftdomain=2, rightdomain=0,bc=\"bc_Omega\")\n",
    "    geo.SetMaterial(1, \"omega\")\n",
    "    geo.SetMaterial(2, \"only_B\")\n",
    "    return geo.GenerateMesh(maxh=maxh)"
   ]
  },
  {
   "cell_type": "code",
   "execution_count": 8,
   "metadata": {},
   "outputs": [
    {
     "data": {
      "application/vnd.jupyter.widget-view+json": {
       "model_id": "d8c1022559694a2b80557e08c42046a4",
       "version_major": 2,
       "version_minor": 0
      },
      "text/plain": [
       "WebGuiWidget(layout=Layout(height='50vh', width='100%'), value={'gui_settings': {}, 'ngsolve_version': '6.2.23…"
      ]
     },
     "metadata": {},
     "output_type": "display_data"
    }
   ],
   "source": [
    "#mesh = Mesh(unit_square.GenerateMesh(maxh=0.2))\n",
    "mesh = Mesh(GetMeshDataAllAround(maxh) )\n",
    "# mesh = Mesh(GetMeshDataLeft(maxh))\n",
    "h = specialcf.mesh_size\n",
    "normal = specialcf.normal(2)\n",
    "Draw (mesh);"
   ]
  },
  {
   "cell_type": "code",
   "execution_count": 9,
   "metadata": {},
   "outputs": [],
   "source": [
    "t = Parameter(0.0)\n",
    "\n",
    "# u_sol = CoefficientFunction( (  2*x**2*y*(2*y-1)*(x-1)**2*(y-1)*exp(-t), \n",
    "#                             -2*x*y**2*(2*x-1)*(x-1)*(y-1)**2*exp(-t) ) )\n",
    "# p_sol = (2*cos(x)*sin(y) - 2*sin(1)*(1 - cos(1)))*exp(-t) \n",
    "u_sol = CoefficientFunction( (  sin(3*pi*x)**2*sin(6*pi*y)*t*exp(-t**2), \n",
    "                            -sin(3*pi*y)**2*sin(6*pi*x)*t*exp(-t**2) ) )\n",
    "\n",
    "grad_u_sol_x = CoefficientFunction( (u_sol[0].Diff(x)  , \n",
    "                                     u_sol[0].Diff(y)) )\n",
    "grad_u_sol_y = CoefficientFunction( (u_sol[1].Diff(x)  , \n",
    "                                     u_sol[1].Diff(y)) )\n",
    "\n",
    "p_sol = sin(2*pi*x)*sin(2*pi*y)*t*exp(-t) \n",
    "#beta = CoefficientFunction( ( 1.0 , 1.0 ) )\n",
    "beta_ref = u_sol \n",
    "nu = 1 \n",
    "u_exact = u_sol\n",
    "p_exact = p_sol\n",
    "rhs = CoefficientFunction(( u_exact[0].Diff(t) + (u_exact[0]*u_exact[0].Diff(x) + u_exact[1]*u_exact[0].Diff(y)) \n",
    "                           - nu* ( u_exact[0].Diff(x).Diff(x) + u_exact[0].Diff(y).Diff(y) ) +  p_exact.Diff(x) ,\n",
    "                           u_exact[1].Diff(t) + (u_exact[0]*u_exact[1].Diff(x) + u_exact[1]*u_exact[1].Diff(y)) \n",
    "                           - nu* ( u_exact[1].Diff(x).Diff(x) + u_exact[1].Diff(y).Diff(y) ) +  p_exact.Diff(y)\n",
    "                          ) )\n",
    "# rhs = CoefficientFunction( ( 2*(-x**2*y*(x - 1)**2*(y - 1)*(2*y - 1) + 6*x**2*(1 - 2*y)*(x - 1)**2 \n",
    "#               - 2*y*(y - 1)*(2*y - 1)*(x**2 + 4*x*(x - 1) + (x - 1)**2) - sin(x)*sin(y)\n",
    "#               + beta_ref[0]*2*(2*y**3 - 3*y**2 + y)*(4*x**3-6*x**2+2*x)\n",
    "#               + beta_ref[1]*2*(6*y**2-6*y+1)*(x**4-2*x**3+x**2) )*exp(-t)  , \n",
    "#                            2*(x*y**2*(x - 1)*(2*x - 1)*(y - 1)**2 + 2*x*(x - 1)*(2*x - 1)*(y**2 + 4*y*(y - 1) \n",
    "#                     + (y - 1)**2) + 6*y**2*(2*x - 1)*(y - 1)**2 + cos(x)*cos(y)\n",
    "#                     - beta_ref[0]*2*(6*x**2-6*x+1)*(y**4-2*y**3+y**2)\n",
    "#                     - beta_ref[1]*2*(2*x**3-3*x**2+x)*(4*y**3-6*y**2+2*y))*exp(-t)  )  )\n",
    "\n",
    "# u_sol = CoefficientFunction( (   2*cos(t)*sin(pi*x)*sin(pi*x)*y*(1-y)*(1-2*y), \n",
    "#                             (-pi)*(cos(t))*sin(2*pi*x)*(y**4-2*y**3+y**2) ) )\n",
    "# p_sol = sin(pi*x)*cos(pi*y)*cos(t) \n",
    "# beta = CoefficientFunction( ( 1.0 , 1.0 ) )\n",
    "# rhs = CoefficientFunction( ( -2*sin(t)*sin(pi*x)*sin(pi*x)*y*(1-y)*(1-2*y)\n",
    "#        -4*pi**2*cos(2*pi*x)*cos(t)*(2*y**3-3*y**2+y)-2*sin(pi*x)**2*cos(t)*(12*y-6)+pi*cos(pi*x)*cos(pi*y)*cos(t)  , \n",
    "#                            pi*sin(2*pi*x)*(y**4-2*y**3+y**2)*sin(t)\n",
    "#       -(4*pi**3*sin(2*pi*x)*(y**4-2*y**3+y**2)*cos(t)-pi*sin(2*pi*x)*(12*y**2-12*y+2)*cos(t))\n",
    "#       -pi*sin(pi*x)*sin(pi*y)*cos(t) )  )\n",
    "\n"
   ]
  },
  {
   "cell_type": "markdown",
   "metadata": {},
   "source": [
    "Define a finite element space on that mesh. "
   ]
  },
  {
   "cell_type": "code",
   "execution_count": 10,
   "metadata": {},
   "outputs": [
    {
     "name": "stdout",
     "output_type": "stream",
     "text": [
      "X-ndof = 119786\n"
     ]
    }
   ],
   "source": [
    "#fes = H1(mesh, order=3, dirichlet=\"left|right|bottom|top\")\n",
    "fes_NC = FESpace(\"nonconforming\",mesh, dirichlet=\"bc_Omega\", dgjumps = True) \n",
    "fes_lam = NumberSpace(mesh)\n",
    "fes_L2 = L2(mesh, order=0)\n",
    "fes_primal_vel = FESpace([fes_NC*fes_NC for i in range(N+1) ])\n",
    "fes_primal_pressure = FESpace([ fes_L2 for i in range(N) ])\n",
    "fes_dual_vel = FESpace([fes_NC*fes_NC for i in range(N) ])\n",
    "fes_dual_pressure = FESpace([ fes_L2 for i in range(N) ])\n",
    "fes_primal_lam = FESpace([fes_lam for i in range(N)])\n",
    "fes_dual_lam = FESpace([fes_lam for i in range(N)])\n",
    "X = FESpace( [fes_primal_vel, fes_primal_pressure,fes_primal_lam, fes_dual_vel, fes_dual_pressure,fes_dual_lam])\n",
    "print (\"X-ndof = {0}\".format(X.ndof ))"
   ]
  },
  {
   "cell_type": "code",
   "execution_count": 11,
   "metadata": {},
   "outputs": [],
   "source": [
    "#gfu = GridFunction(X)\n",
    "#Draw( gfu.components[0].components[N].components[1], mesh)\n",
    "#print(gfu.components[0].dim)\n",
    "#help(gfu)\n",
    "#help(gfu.components[1])\n",
    "#print(gfu.components[0][0].FV().NumPy())\n",
    "#print(gfu.components[0][0].dim)\n",
    "#help( gfu.components[0][0])\n",
    "#print(len(gfu.components[0][0] ))\n",
    "#Draw(gfu.components[1],mesh )"
   ]
  },
  {
   "cell_type": "code",
   "execution_count": 12,
   "metadata": {},
   "outputs": [],
   "source": [
    "#help(gfu.components[0].components[0].components[0])"
   ]
  },
  {
   "cell_type": "code",
   "execution_count": null,
   "metadata": {},
   "outputs": [],
   "source": []
  },
  {
   "cell_type": "code",
   "execution_count": 13,
   "metadata": {},
   "outputs": [
    {
     "data": {
      "text/plain": [
       "6"
      ]
     },
     "execution_count": 13,
     "metadata": {},
     "output_type": "execute_result"
    }
   ],
   "source": [
    "len(X.TrialFunction()) "
   ]
  },
  {
   "cell_type": "code",
   "execution_count": 14,
   "metadata": {},
   "outputs": [],
   "source": [
    "u, pp, llam, zz, yyy, xxi =  X.TrialFunction()\n",
    "v, qq, mmu, ww, xxx, eeta =  X.TestFunction()\n",
    "#print(len(u[0]) )\n",
    "#print\n",
    "\n",
    "p = [None] + [pp[i] for i in range(len(pp)) ]\n",
    "z = [None] + [zz[i] for i in range(len(zz)) ]\n",
    "yy = [None] + [yyy[i] for i in range(len(yyy)) ]\n",
    "lam = [None] + [llam[i] for i in range(len(llam)) ]\n",
    "xi = [None] + [xxi[i] for i in range(len(xxi)) ]\n",
    "\n",
    "q = [None] + [qq[i] for i in range(len(qq)) ]\n",
    "w = [None] + [ww[i] for i in range(len(ww)) ]\n",
    "xx = [None] + [xxx[i] for i in range(len(xxx)) ]\n",
    "mu = [None] + [mmu[i] for i in range(len(mmu)) ]\n",
    "eta = [None] + [eeta[i] for i in range(len(eeta)) ]\n",
    "\n",
    "#help(xx)"
   ]
  },
  {
   "cell_type": "code",
   "execution_count": null,
   "metadata": {},
   "outputs": [],
   "source": []
  },
  {
   "cell_type": "code",
   "execution_count": 15,
   "metadata": {},
   "outputs": [],
   "source": [
    "def IP(u,v,nabla=False):\n",
    "    if nabla:\n",
    "        return sum( [ grad(u[i])*grad(v[i]) for i in range(len(u))] )\n",
    "    else:\n",
    "        return sum( [u[i]*v[i] for i in range(len(u))] )\n",
    "\n",
    "def IP_conv(u,v,beta):\n",
    "    return beta[0]*grad(u[0])[0]*v[0]+beta[1]*grad(u[0])[1]*v[0]+beta[0]*grad(u[1])[0]*v[1]+beta[1]*grad(u[1])[1]*v[1]\n",
    "    \n",
    "def IP_ut_v(u_cur,u_prev,v):\n",
    "    return sum( [ (u_cur[i] - u_prev[i] ) * v[i] for i in range(len(u_cur))] )\n",
    "    #help(IP(u[0],v[0]))\n",
    "def IP_mixed_stab(u_cur,u_prev,v_cur,v_prev):\n",
    "    return sum( [ ( grad(u_cur[i]) - grad(u_prev[i]) ) * ( grad(v_cur[i]) - grad(v_prev[i]) )  for i in range(len(u_cur))] )\n",
    "\n",
    "def IP_CIP(u,v):\n",
    "    return sum( [ (u[i] - u[i].Other()) * (v[i] - v[i].Other()) for i in range(len(u))  ] )\n",
    "\n",
    "def IP_jump_avg(u,v):\n",
    "    return sum( [ (u[i] - u[i].Other()) * 0.5 * (v[i] + v[i].Other()) for i in range(len(u))  ] )\n",
    "\n",
    "def IP_divu_q(u,q):\n",
    "    u1_dx = grad(u[0])[0]\n",
    "    u2_dy = grad(u[1])[1]\n",
    "    div_u = u1_dx + u2_dy\n",
    "    return div_u * q  "
   ]
  },
  {
   "cell_type": "code",
   "execution_count": 16,
   "metadata": {},
   "outputs": [],
   "source": [
    "gfu = GridFunction(X)\n",
    "beta_prev = GridFunction(X)\n",
    "#beta_prev.vec.FV().NumPy()[:] = 1e1*np.random.rand(len( beta_prev.vec.FV().NumPy() ))[:]\n",
    "beta_prev.vec.FV().NumPy()[:] = 0.0"
   ]
  },
  {
   "cell_type": "code",
   "execution_count": 17,
   "metadata": {},
   "outputs": [
    {
     "name": "stdout",
     "output_type": "stream",
     "text": [
      "norm_perturbations = 0.18796006892790315\n",
      "norm_perturbations = 2.7266933334936643\n"
     ]
    }
   ],
   "source": [
    "if abs(noise_lvl) > 1e-15:\n",
    "    V_perturb = H1(mesh, order=1, dirichlet=\"bc_Omega\")\n",
    "    fes_perturb = FESpace([V_perturb * V_perturb  for i in range(N) ])\n",
    "    data_perturb = GridFunction(fes_perturb)\n",
    "    rhs_perturb  = GridFunction(fes_perturb)\n",
    "    # fill in vector with random values\n",
    "    data_perturb.vec.FV().NumPy()[:] = np.random.rand(len( data_perturb.vec.FV().NumPy()) )[:] \n",
    "    rhs_perturb.vec.FV().NumPy()[:] = np.random.rand(len( rhs_perturb.vec.FV().NumPy()) )[:] \n",
    "    # compute L2L2 norm and normalize to one \n",
    "    norm_perturb = 0.0\n",
    "    norm_rhs_perturb = 0.0\n",
    "    #norm_u_data_set = 0.0\n",
    "    #norm_rhs = 0.0\n",
    "    for i in range(N):\n",
    "        t.Set(tau*i)\n",
    "        for j in range(2):\n",
    "            norm_perturb += tau * Integrate(  data_perturb.components[i].components[j]**2  , mesh, definedon=mesh.Materials(\"only_B\"))\n",
    "            norm_rhs_perturb += tau * Integrate(  rhs_perturb.components[i].components[j]**2  , mesh)\n",
    "            #norm_u_data_set +=  tau * Integrate(u_sol**2, mesh, definedon=mesh.Materials(\"only_B\"))\n",
    "            #norm_rhs +=  tau * Integrate(rhs**2 , mesh)                        \n",
    "        #print(\"i = {0}, norm_perturb = {1}\".format(i,norm_perturb))\n",
    "    norm_perturb = sqrt(norm_perturb)\n",
    "    norm_rhs_perturb = sqrt(norm_rhs_perturb)\n",
    "    norm_perturbations = norm_perturb + maxh * norm_rhs_perturb\n",
    "    print(\"norm_perturbations =\", norm_perturbations)\n",
    "    data_perturb.vec.FV().NumPy()[:] *= 1/norm_perturbations\n",
    "    rhs_perturb.vec.FV().NumPy()[:] *= 1/norm_perturbations\n",
    "    \n",
    "    norm_perturb = 0.0\n",
    "    norm_rhs_perturb = 0.0\n",
    "    for i in range(N):\n",
    "        t.Set(tau*i)\n",
    "        for j in range(2):\n",
    "            norm_perturb += tau * Integrate(  data_perturb.components[i].components[j]**2  , mesh, definedon=mesh.Materials(\"only_B\"))\n",
    "            norm_rhs_perturb +=  tau  * Integrate( rhs_perturb.components[i].components[j]**2  , mesh)\n",
    "    norm_perturb = sqrt(norm_perturb)\n",
    "    norm_rhs_perturb = sqrt(norm_rhs_perturb)\n",
    "    norm_perturbations = norm_perturb + norm_rhs_perturb\n",
    "    print(\"norm_perturbations =\", norm_perturbations)"
   ]
  },
  {
   "cell_type": "code",
   "execution_count": 18,
   "metadata": {},
   "outputs": [],
   "source": [
    "f = LinearForm(X)\n",
    "for i in range(1,N+1):\n",
    "    t.Set(tau*i)\n",
    "    f += tau * IP(w[i],rhs,nabla=False)  * dx\n",
    "    f +=  gamma_M * tau * IP(v[i],u_sol) * dx(definedon=mesh.Materials(\"only_B\"))\n",
    "    \n",
    "    if abs(noise_lvl) > 1e-15:\n",
    "        for j in range(2):\n",
    "            f += noise_lvl * gamma_M *  tau * v[i][j] * data_perturb.components[i-1].components[j]  * dx(definedon=mesh.Materials(\"only_B\"))\n",
    "            f +=  noise_lvl * tau * w[i][j] * rhs_perturb.components[i-1].components[j] * dx\n",
    "\n",
    "with TaskManager():\n",
    "    f.Assemble()"
   ]
  },
  {
   "cell_type": "code",
   "execution_count": 19,
   "metadata": {},
   "outputs": [],
   "source": [
    "def get_linear_interpolation(n,t_sample,t_n,t_nn,take_gradient=False): \n",
    "    if take_gradient:\n",
    "        uhx_n = grad(gfu.components[0].components[n].components[0])\n",
    "        uhy_n = grad(gfu.components[0].components[n].components[1])\n",
    "        uhx_nn = grad(gfu.components[0].components[n+1].components[0])\n",
    "        uhy_nn = grad(gfu.components[0].components[n+1].components[1])\n",
    "    else:\n",
    "        uhx_n = gfu.components[0].components[n].components[0]\n",
    "        uhy_n = gfu.components[0].components[n].components[1]\n",
    "        uhx_nn = gfu.components[0].components[n+1].components[0]\n",
    "        uhy_nn = gfu.components[0].components[n+1].components[1]\n",
    "    uhx_at_t_sample = uhx_nn * (t_sample-t_n)/tau +  uhx_n * (t_nn-t_sample  )/tau\n",
    "    uhy_at_t_sample = uhy_nn * (t_sample-t_n)/tau +  uhy_n * (t_nn-t_sample  )/tau\n",
    "    return uhx_at_t_sample, uhy_at_t_sample"
   ]
  },
  {
   "cell_type": "code",
   "execution_count": 20,
   "metadata": {},
   "outputs": [],
   "source": [
    "def SolveOseen(beta_prev):\n",
    "    \n",
    "    a = BilinearForm(X,symmetric=False)\n",
    "\n",
    "    # add mean value pressure constraint \n",
    "    for i in range(1,N+1):\n",
    "        a += (mu[i] * p[i] + lam[i] * q[i]) * dx  \n",
    "        a += (eta[i] * yy[i] + xi[i] * xx[i]) * dx \n",
    "\n",
    "    # A1 \n",
    "    for i in range(1,N+1):\n",
    "        beta = CoefficientFunction((beta_prev.components[0].components[i-1].components[0], beta_prev.components[0].components[i-1].components[1] ) ) \n",
    "        \n",
    "        a += IP_ut_v(u[i],u[i-1],w[i]) * dx\n",
    "        a += tau * IP(u[i],w[i],nabla=True) * dx \n",
    "        a += tau * IP_conv(u[i], w[i],beta) * dx \n",
    "        a += tau *(-1)*IP_divu_q(w[i],p[i]) * dx\n",
    "        a += tau * IP_divu_q(u[i],xx[i]) * dx \n",
    "        a +=  (-1)*tau * InnerProduct(beta , normal ) * IP_jump_avg(u[i],w[i]) * dx(skeleton=True)\n",
    "        #a +=  tau * (0.5*IfPos(InnerProduct(beta,n),InnerProduct(beta,n),-InnerProduct(beta,n))) * IP_CIP(u[i],w[i]) * dx(skeleton=True)\n",
    "\n",
    "    # A2 \n",
    "    a += gamma0 * h**2 * IP(u[0],v[0],nabla=True) * dx\n",
    "    for i in range(1,N+1):\n",
    "        beta = CoefficientFunction((beta_prev.components[0].components[i-1].components[0], beta_prev.components[0].components[i-1].components[1] ) ) \n",
    "    #     a += gamma_M * tau * IP(u[i],v[i]) * dx(definedon=mesh.Materials(\"omega\"))\n",
    "        a += gamma_M * tau * IP(u[i],v[i]) * dx(definedon=mesh.Materials(\"only_B\"))\n",
    "        a += gamma1 * tau * IP_mixed_stab(u[i],u[i-1],v[i],v[i-1]) * dx \n",
    "        a +=  tau * (1/h)  * IP_CIP(u[i],v[i]) * dx(skeleton=True)\n",
    "        a +=  (-1)*tau * InnerProduct(beta , normal ) * IP_jump_avg(v[i],z[i]) * dx(skeleton=True)\n",
    "        #a +=  tau * (0.5*IfPos(InnerProduct(beta,n),InnerProduct(beta,n),-InnerProduct(beta,n))) * IP_CIP(v[i],z[i]) * dx(skeleton=True)\n",
    "        a += IP_ut_v(v[i],v[i-1],z[i]) * dx\n",
    "        a += tau * IP(v[i],z[i],nabla=True) * dx \n",
    "        a += tau * IP_conv(v[i], z[i],beta) * dx \n",
    "\n",
    "        a += (-1)*IP_divu_q(z[i],q[i]) * dx \n",
    "        a += IP_divu_q(v[i],yy[i]) * dx\n",
    "        \n",
    "    with TaskManager():\n",
    "        a.Assemble()\n",
    "        #f.Assemble()\n",
    "    \n",
    "    gfu.vec.data = a.mat.Inverse(X.FreeDofs(),inverse=solver) * f.vec\n",
    "    \n",
    "    uhx = gfu.components[0].components[N].components[0]\n",
    "    uhy = gfu.components[0].components[N].components[1]\n",
    "    uh = [uhx,uhy]\n",
    "    p_primal = gfu.components[1].components[N-1]\n",
    "    p_dual = gfu.components[4].components[N-1]\n",
    "    \n",
    "    t.Set(tau*N)\n",
    "    Draw (u_sol[0] , mesh);\n",
    "    \n",
    "    Draw (uhx, mesh);\n",
    "    \n",
    "    # compute error \n",
    "    t.Set(tau*N)\n",
    "    error=sqrt(Integrate( (u_sol[0]-uhx)**2 + (u_sol[1]-uhy)**2 , mesh))\n",
    "    ref_error=sqrt(Integrate( (u_sol[0])**2 + (u_sol[1])**2 , mesh))\n",
    "    print (\"L2-error velocity final time:\", error)\n",
    "    error_pressure=sqrt(Integrate( (p_sol-p_primal)**2  , mesh))\n",
    "    print(\"L2-error pressure final time:\", error_pressure)\n",
    "#     print (\"L2-error:\", error/ref_error)\n",
    "    beta_prev.vec.data = gfu.vec.data \n",
    "    \n",
    "    # error computation for velocity at initial time\n",
    "    t.Set(0*N)\n",
    "    uhx0 = gfu.components[0].components[0].components[0]\n",
    "    uhy0 = gfu.components[0].components[0].components[1]\n",
    "    error0 =sqrt(Integrate( (u_sol[0]-uhx0)**2 + (u_sol[1]-uhy0)**2 , mesh))\n",
    "    print (\"L2-error velocity initial time:\", error0)\n",
    "    t.Set(tau*N)\n",
    "    \n",
    "    \n",
    "    l2_norm_at_sample_points = [ ]\n",
    "    for t_sample in sample_points:\n",
    "        #print(\"t_sample =\", t_sample)\n",
    "        for n in range(0,N):\n",
    "            t_n = n*tau\n",
    "            t_nn = (n+1)*tau\n",
    "            if t_sample >= t_n and t_sample <= t_nn:\n",
    "                #print(\"t_sample = \", t_sample)\n",
    "                t.Set(t_sample)\n",
    "                uhx_at_t_sample, uhy_at_t_sample = get_linear_interpolation(n,t_sample,t_n,t_nn)\n",
    "                u_error_at_sample = sqrt(Integrate( (u_sol[0]-uhx_at_t_sample)**2 + (u_sol[1]-uhy_at_t_sample)**2 , mesh))\n",
    "                l2_norm_at_sample_points.append(u_error_at_sample )\n",
    "    #print(\"l2_norm_at_sample_points =\", l2_norm_at_sample_points )   \n",
    "    print(\"max(l2_norm_at_sample_points) = \", max(l2_norm_at_sample_points ))\n",
    "\n",
    "    # find out in which interval is epsilon\n",
    "    n_epsilon = 0\n",
    "    for n in range(0,N):\n",
    "        t_n = n*tau\n",
    "        t_nn = (n+1)*tau\n",
    "        if epsilon >= t_n and epsilon <= t_nn:\n",
    "            n_epsilon = n\n",
    "    #print(\"n_epsilon =\", n_epsilon)  \n",
    "    \n",
    "    l2_norm_time_nabla = 0 \n",
    "    interval_length = (n_epsilon+1)*tau - epsilon \n",
    "    t_n = n_epsilon*tau\n",
    "    t_nn = (n_epsilon+1)*tau\n",
    "    for tau_i,omega_i in zip(qr.current_pts(epsilon,(n_epsilon+1)*tau),qr.t_weights(interval_length)):\n",
    "        t.Set(tau_i )\n",
    "        grad_uhx_at_t_sample, grad_uhy_at_t_sample = get_linear_interpolation(n, tau_i,t_n,t_nn,take_gradient=True)\n",
    "        l2_norm_time_nabla += omega_i * Integrate( (grad_uhx_at_t_sample - grad_u_sol_x)*(grad_uhx_at_t_sample - grad_u_sol_x) , mesh)\n",
    "        l2_norm_time_nabla += omega_i * Integrate( (grad_uhy_at_t_sample - grad_u_sol_y)*(grad_uhy_at_t_sample - grad_u_sol_y) , mesh)\n",
    "\n",
    "    for n in range(n_epsilon+1,N):\n",
    "        t_n = n*tau\n",
    "        t_nn = (n+1)*tau\n",
    "        for tau_i,omega_i in zip(qr.current_pts(n*tau ,(n+1)*tau),qr.t_weights(tau)):\n",
    "            #print(\"tau_i = \", tau_i)\n",
    "            t.Set(tau_i )\n",
    "            grad_uhx_at_t_sample, grad_uhy_at_t_sample = get_linear_interpolation(n, tau_i,t_n,t_nn,take_gradient=True)\n",
    "            l2_norm_time_nabla += omega_i * Integrate( (grad_uhx_at_t_sample - grad_u_sol_x)*(grad_uhx_at_t_sample - grad_u_sol_x) , mesh)\n",
    "            l2_norm_time_nabla += omega_i * Integrate( (grad_uhy_at_t_sample - grad_u_sol_y)*(grad_uhy_at_t_sample - grad_u_sol_y) , mesh)\n",
    "            #print(\" l2_norm_time_nabla =\", l2_norm_time_nabla)\n",
    "            #print(\"  omega_i  =\",  omega_i )\n",
    "    l2_norm_time_nabla = sqrt(l2_norm_time_nabla)\n",
    "    print(\"l2_norm_time_nabla \",l2_norm_time_nabla)\n",
    "    print(\"epsilon norm =  \", max(l2_norm_at_sample_points ) + l2_norm_time_nabla )\n",
    "    \n",
    "    return error\n",
    "#     return error/ref_error\n",
    "    "
   ]
  },
  {
   "cell_type": "code",
   "execution_count": 21,
   "metadata": {
    "scrolled": true
   },
   "outputs": [
    {
     "data": {
      "application/vnd.jupyter.widget-view+json": {
       "model_id": "a40443f5276e48c6958c4fef48429194",
       "version_major": 2,
       "version_minor": 0
      },
      "text/plain": [
       "WebGuiWidget(layout=Layout(height='50vh', width='100%'), value={'gui_settings': {}, 'ngsolve_version': '6.2.23…"
      ]
     },
     "metadata": {},
     "output_type": "display_data"
    },
    {
     "data": {
      "application/vnd.jupyter.widget-view+json": {
       "model_id": "fd9abdd70290472395be3648a4899398",
       "version_major": 2,
       "version_minor": 0
      },
      "text/plain": [
       "WebGuiWidget(layout=Layout(height='50vh', width='100%'), value={'gui_settings': {}, 'ngsolve_version': '6.2.23…"
      ]
     },
     "metadata": {},
     "output_type": "display_data"
    },
    {
     "name": "stdout",
     "output_type": "stream",
     "text": [
      "L2-error velocity final time: 0.007883363207834164\n",
      "L2-error pressure final time: 0.5682229065267014\n",
      "L2-error velocity initial time: 8.506794576446495\n",
      "max(l2_norm_at_sample_points) =  0.061913688826796154\n",
      "l2_norm_time_nabla  0.31187511492240116\n",
      "epsilon norm =   0.3737888037491973\n"
     ]
    },
    {
     "data": {
      "application/vnd.jupyter.widget-view+json": {
       "model_id": "69675755b0834d8c8c163292ce44676f",
       "version_major": 2,
       "version_minor": 0
      },
      "text/plain": [
       "WebGuiWidget(layout=Layout(height='50vh', width='100%'), value={'gui_settings': {}, 'ngsolve_version': '6.2.23…"
      ]
     },
     "metadata": {},
     "output_type": "display_data"
    },
    {
     "data": {
      "application/vnd.jupyter.widget-view+json": {
       "model_id": "5c4dc5c431af41e6b88f11e4325cf63d",
       "version_major": 2,
       "version_minor": 0
      },
      "text/plain": [
       "WebGuiWidget(layout=Layout(height='50vh', width='100%'), value={'gui_settings': {}, 'ngsolve_version': '6.2.23…"
      ]
     },
     "metadata": {},
     "output_type": "display_data"
    },
    {
     "name": "stdout",
     "output_type": "stream",
     "text": [
      "L2-error velocity final time: 0.007883574919736342\n",
      "L2-error pressure final time: 0.5681546976341035\n",
      "L2-error velocity initial time: 8.580811016556737\n",
      "max(l2_norm_at_sample_points) =  0.06191154965481677\n",
      "l2_norm_time_nabla  0.3118757070181132\n",
      "epsilon norm =   0.37378725667292995\n"
     ]
    },
    {
     "data": {
      "application/vnd.jupyter.widget-view+json": {
       "model_id": "9b846c2381414f279622e532e39898a8",
       "version_major": 2,
       "version_minor": 0
      },
      "text/plain": [
       "WebGuiWidget(layout=Layout(height='50vh', width='100%'), value={'gui_settings': {}, 'ngsolve_version': '6.2.23…"
      ]
     },
     "metadata": {},
     "output_type": "display_data"
    },
    {
     "data": {
      "application/vnd.jupyter.widget-view+json": {
       "model_id": "d5efb56a04e24e36827421696dae0cb8",
       "version_major": 2,
       "version_minor": 0
      },
      "text/plain": [
       "WebGuiWidget(layout=Layout(height='50vh', width='100%'), value={'gui_settings': {}, 'ngsolve_version': '6.2.23…"
      ]
     },
     "metadata": {},
     "output_type": "display_data"
    },
    {
     "name": "stdout",
     "output_type": "stream",
     "text": [
      "L2-error velocity final time: 0.007883576557733021\n",
      "L2-error pressure final time: 0.5681543318379261\n",
      "L2-error velocity initial time: 8.611201196020671\n",
      "max(l2_norm_at_sample_points) =  0.06191082514170537\n",
      "l2_norm_time_nabla  0.3118756947232205\n",
      "epsilon norm =   0.3737865198649259\n"
     ]
    },
    {
     "data": {
      "application/vnd.jupyter.widget-view+json": {
       "model_id": "f451ad5683444ceda69f5fa141ff093c",
       "version_major": 2,
       "version_minor": 0
      },
      "text/plain": [
       "WebGuiWidget(layout=Layout(height='50vh', width='100%'), value={'gui_settings': {}, 'ngsolve_version': '6.2.23…"
      ]
     },
     "metadata": {},
     "output_type": "display_data"
    },
    {
     "data": {
      "application/vnd.jupyter.widget-view+json": {
       "model_id": "c363e83659844ec79f4b2c2923cbf3f2",
       "version_major": 2,
       "version_minor": 0
      },
      "text/plain": [
       "WebGuiWidget(layout=Layout(height='50vh', width='100%'), value={'gui_settings': {}, 'ngsolve_version': '6.2.23…"
      ]
     },
     "metadata": {},
     "output_type": "display_data"
    },
    {
     "name": "stdout",
     "output_type": "stream",
     "text": [
      "L2-error velocity final time: 0.007883575984977471\n",
      "L2-error pressure final time: 0.5681543355460339\n",
      "L2-error velocity initial time: 8.610792327872712\n",
      "max(l2_norm_at_sample_points) =  0.06191087978278446\n",
      "l2_norm_time_nabla  0.31187569658201886\n",
      "epsilon norm =   0.37378657636480334\n"
     ]
    },
    {
     "data": {
      "application/vnd.jupyter.widget-view+json": {
       "model_id": "fa00482f164747a18de7d02e79bc1563",
       "version_major": 2,
       "version_minor": 0
      },
      "text/plain": [
       "WebGuiWidget(layout=Layout(height='50vh', width='100%'), value={'gui_settings': {}, 'ngsolve_version': '6.2.23…"
      ]
     },
     "metadata": {},
     "output_type": "display_data"
    },
    {
     "data": {
      "application/vnd.jupyter.widget-view+json": {
       "model_id": "2e6cfd4e101641f898b4ec387cd401cb",
       "version_major": 2,
       "version_minor": 0
      },
      "text/plain": [
       "WebGuiWidget(layout=Layout(height='50vh', width='100%'), value={'gui_settings': {}, 'ngsolve_version': '6.2.23…"
      ]
     },
     "metadata": {},
     "output_type": "display_data"
    },
    {
     "name": "stdout",
     "output_type": "stream",
     "text": [
      "L2-error velocity final time: 0.00788357647166723\n",
      "L2-error pressure final time: 0.568154334261927\n",
      "L2-error velocity initial time: 8.610950137173898\n",
      "max(l2_norm_at_sample_points) =  0.06191085031244041\n",
      "l2_norm_time_nabla  0.3118756956121947\n",
      "epsilon norm =   0.3737865459246351\n"
     ]
    }
   ],
   "source": [
    "l2_errors = [ ]\n",
    "# Fixed point iteration \n",
    "maxiter = 5 \n",
    "for i in range(maxiter): \n",
    "    l2err = SolveOseen(beta_prev)\n",
    "    l2_errors.append(l2err) "
   ]
  },
  {
   "cell_type": "code",
   "execution_count": 22,
   "metadata": {},
   "outputs": [
    {
     "data": {
      "text/plain": [
       "[0.007883363207834164,\n",
       " 0.007883574919736342,\n",
       " 0.007883576557733021,\n",
       " 0.007883575984977471,\n",
       " 0.00788357647166723]"
      ]
     },
     "execution_count": 22,
     "metadata": {},
     "output_type": "execute_result"
    }
   ],
   "source": [
    "l2_errors"
   ]
  },
  {
   "cell_type": "code",
   "execution_count": 23,
   "metadata": {},
   "outputs": [
    {
     "name": "stdout",
     "output_type": "stream",
     "text": [
      "[2.1326383306541352e-07, 1.5519308876194016e-09, 8.60657916462726e-11, 4.86689757939196e-10]\n"
     ]
    }
   ],
   "source": [
    "print([ abs(l2_errors[i] - l2_errors[-1] ) for i in range(len(l2_errors)-1 ) ])"
   ]
  },
  {
   "cell_type": "code",
   "execution_count": 24,
   "metadata": {},
   "outputs": [
    {
     "name": "stdout",
     "output_type": "stream",
     "text": [
      "[-0.8236813558496889, 1.7236114298568461, 2.537086851855437, 2.00586225477592]\n"
     ]
    }
   ],
   "source": [
    "# Oseen pardiso failed for N=16\n",
    "# l2_errors = [0.8250961364400698,0.9787851609597009,0.34084671037149683, 0.10168199089645942 ]\n",
    "l2_errors = [0.3434814015100059, 0.6079334237794947,0.184076047273199 ,0.031714512206010265,0.007896476188968517]\n",
    "#hm = [ 0.8,0.4,0.2,0.1,0.05]\n",
    "#Ns = [1,2,4,8,16]\n",
    "eoc = [ log(l2_errors[i-1]/l2_errors[i])/log(2) for i in range(1,len(l2_errors))]\n",
    "print(eoc)"
   ]
  },
  {
   "cell_type": "code",
   "execution_count": 25,
   "metadata": {},
   "outputs": [
    {
     "ename": "SyntaxError",
     "evalue": "invalid syntax (3742224666.py, line 1)",
     "output_type": "error",
     "traceback": [
      "\u001b[1;36m  File \u001b[1;32m\"C:\\Users\\deepi\\AppData\\Local\\Temp\\ipykernel_18488\\3742224666.py\"\u001b[1;36m, line \u001b[1;32m1\u001b[0m\n\u001b[1;33m    L2-error final time: 0.3434814015100059\u001b[0m\n\u001b[1;37m                 ^\u001b[0m\n\u001b[1;31mSyntaxError\u001b[0m\u001b[1;31m:\u001b[0m invalid syntax\n"
     ]
    }
   ],
   "source": [
    "L2-error final time: 0.3434814015100059\n",
    "L2-error pressure final time: 3.402433068653031\n",
    "L2-error initial time: 5.767744934536913\n",
    "\n",
    "L2-error velocity final time: 0.6079334237794947\n",
    "L2-error pressure final time: 1.9289243749343423\n",
    "L2-error velocity initial time: 4.1372481557270975\n",
    "\n",
    "L2-error velocity final time: 0.184076047273199\n",
    "L2-error pressure final time: 0.6869987249544074\n",
    "L2-error velocity initial time: 0.6551807876484467\n",
    "\n",
    "L2-error velocity final time: 0.031714512206010265\n",
    "L2-error pressure final time: 0.38896990232674644\n",
    "L2-error velocity initial time: 0.08613151908362635\n",
    "    \n",
    "    \n",
    "L2-error velocity final time: 0.007896476188968517\n",
    "L2-error pressure final time: 0.17212553594103372\n",
    "L2-error velocity initial time: 0.09770247438213957"
   ]
  },
  {
   "cell_type": "code",
   "execution_count": null,
   "metadata": {},
   "outputs": [],
   "source": [
    "# noise_level = 0.0\n",
    "epsilon_norm = [6.501426973429426,2.140336443226877,1.0794581975900324,0.5562036912912285, 0.37308722757322427 ]\n",
    "# noise_level = 0.1 \n",
    "epsilon_norm = [6.796345189993122,2.156032515581544,1.0806548825148117,0.5569303143291415 ] \n",
    "# noise_level = 0.4\n",
    "epsilon_norm = [8.33922260201342, 2.7569648433654956,1.228157999809505,0.5639963971176915 ] \n",
    "# noise_level = 0.8\n",
    "epsilon_norm = [11.00181647282849,3.771340964639326,1.4291207873175251, 0.5870813225013859 ] "
   ]
  }
 ],
 "metadata": {
  "kernelspec": {
   "display_name": "Python 3 (ipykernel)",
   "language": "python",
   "name": "python3"
  },
  "language_info": {
   "codemirror_mode": {
    "name": "ipython",
    "version": 3
   },
   "file_extension": ".py",
   "mimetype": "text/x-python",
   "name": "python",
   "nbconvert_exporter": "python",
   "pygments_lexer": "ipython3",
   "version": "3.7.9"
  }
 },
 "nbformat": 4,
 "nbformat_minor": 2
}
