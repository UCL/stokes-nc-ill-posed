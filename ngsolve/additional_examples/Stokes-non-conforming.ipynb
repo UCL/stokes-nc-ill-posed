{
 "cells": [
  {
   "cell_type": "markdown",
   "metadata": {},
   "source": [
    "Stokes Equation\n",
    "==="
   ]
  },
  {
   "cell_type": "markdown",
   "metadata": {},
   "source": [
    "Import Netgen/NGSolve Python modules:"
   ]
  },
  {
   "cell_type": "code",
   "execution_count": 1,
   "metadata": {},
   "outputs": [],
   "source": [
    "from ngsolve import *\n",
    "from netgen.geom2d import SplineGeometry\n",
    "from ngsolve.webgui import Draw\n",
    "from math import log\n",
    "import numpy as np\n",
    "import scipy.sparse as sp"
   ]
  },
  {
   "cell_type": "code",
   "execution_count": 2,
   "metadata": {},
   "outputs": [],
   "source": [
    "N = 1\n",
    "T = 0.2\n",
    "tau = T/N \n",
    "gamma0 = 1\n",
    "gamma1 = 0\n",
    "gamma_dual = 1e-5\n",
    "gamma_M = 1e4\n",
    "maxh = 0.06\n",
    "solver = \"pardiso\"\n",
    "noise_lvl = 0.0\n",
    "epsilon = T/2\n",
    "sample_points = np.linspace(epsilon,T,100)\n",
    "\n",
    "#sample_points = np.array([n*tau for n in range(0,N +1) ])\n",
    "#print(\"sample_points = \", sample_points)\n",
    "#solver = \"umfpack\""
   ]
  },
  {
   "cell_type": "code",
   "execution_count": 3,
   "metadata": {},
   "outputs": [],
   "source": [
    "class quad_rule:\n",
    "    def __init__(self,name,npoints):\n",
    "        self.name = name\n",
    "        self.npoints = npoints\n",
    "\n",
    "        gauss_lobatto = {\n",
    "            3: ( [ -1, 0, 1 ],\n",
    "                 [ 1/3, 4/3, 1/3 ] ),\n",
    "            4: ( [ -1, -np.sqrt(1/5), np.sqrt(1/5), 1],\n",
    "                 [ 1/6, 5/6, 5/6, 1/6 ] ),\n",
    "            5: ( [ -1, -(1/7)*np.sqrt(21),0.0, (1/7)*np.sqrt(21), 1.0 ],\n",
    "                 [ 1/10,49/90,32/45, 49/90, 1/10  ] ),\n",
    "            6: ( [ -1, -np.sqrt((1/21)*(7+2*np.sqrt(7))), -np.sqrt((1/21)*(7-2*np.sqrt(7))), np.sqrt((1/21)*(7-2*np.sqrt(7))), np.sqrt((1/21)*(7+2*np.sqrt(7))), 1.0 ],\n",
    "                 [ 1/15, (1/30)*(14-np.sqrt(7)), (1/30)*(14+np.sqrt(7)), (1/30)*(14+np.sqrt(7)), (1/30)*(14-np.sqrt(7)),  1/15 ] ),\n",
    "        }\n",
    "\n",
    "        if name == \"Gauss-Lobatto\":\n",
    "            self.points = gauss_lobatto[npoints][0]\n",
    "            self.weights = gauss_lobatto[npoints][1]\n",
    "        \n",
    "    def current_pts(self,a,b):\n",
    "        if self.name == \"Gauss-Radau\" or self.name == \"Gauss\" or self.name == \"Gauss-Lobatto\":\n",
    "            return [0.5*(b-a) * pt + 0.5*(b+a)  for pt in self.points]\n",
    "    \n",
    "    def t_weights(self,delta_t):\n",
    "        if self.name == \"Gauss-Radau\" or self.name == \"Gauss\" or self.name == \"Gauss-Lobatto\":\n",
    "            return [0.5*delta_t*w for w in self.weights]"
   ]
  },
  {
   "cell_type": "code",
   "execution_count": 4,
   "metadata": {},
   "outputs": [],
   "source": [
    "qr = quad_rule(\"Gauss-Lobatto\",5)"
   ]
  },
  {
   "cell_type": "markdown",
   "metadata": {},
   "source": [
    "The unit_square is a predefined domain, use Netgen to generate a mesh:"
   ]
  },
  {
   "cell_type": "code",
   "execution_count": 5,
   "metadata": {},
   "outputs": [],
   "source": [
    "def freedofs_converter(fd):\n",
    "    frees = [] \n",
    "    for i in range(len(fd)):\n",
    "        if fd[i]:\n",
    "            frees.append(i)\n",
    "    return frees\n",
    "\n",
    "def cond_est(a,frees):\n",
    "    rows,cols,vals = a.mat.COO()\n",
    "    A = sp.csr_matrix((vals,(rows,cols)))\n",
    "    A_red = A.todense()[frees,:][:,frees] \n",
    "    return np.linalg.cond(A_red)"
   ]
  },
  {
   "cell_type": "code",
   "execution_count": 6,
   "metadata": {},
   "outputs": [],
   "source": [
    "def GetMeshDataAllAround(maxh):\n",
    "    geo = SplineGeometry()\n",
    "    # data domain\n",
    "    p1 = geo.AppendPoint (0,0)\n",
    "    p2 = geo.AppendPoint (1,0)\n",
    "    p4 = geo.AppendPoint (0.75,0.75)\n",
    "    p5 = geo.AppendPoint (0.75,0.25)\n",
    "    p6 = geo.AppendPoint (0.25,0.25)\n",
    "    p7 = geo.AppendPoint (0.25,0.75)\n",
    "    p11 = geo.AppendPoint(1.0,1.0)\n",
    "    p12 = geo.AppendPoint(0.0,1.0)\n",
    "    # omega\n",
    "    geo.Append ([\"line\", p1, p2], leftdomain=1, rightdomain=0,bc=\"bc_Omega\")\n",
    "    geo.Append ([\"line\", p2, p11], leftdomain=1, rightdomain=0,bc=\"bc_Omega\")\n",
    "    geo.Append ([\"line\", p11, p12], leftdomain=1, rightdomain=0,bc=\"bc_Omega\")\n",
    "    geo.Append ([\"line\", p12, p1], leftdomain=1, rightdomain=0,bc=\"bc_Omega\")\n",
    "    # only_B\n",
    "    geo.Append ([\"line\", p6, p5], leftdomain=2, rightdomain=1)\n",
    "    geo.Append ([\"line\", p5, p4], leftdomain=2, rightdomain=1)\n",
    "    geo.Append ([\"line\", p4, p7], leftdomain=2, rightdomain=1)\n",
    "    geo.Append ([\"line\", p7, p6], leftdomain=2, rightdomain=1)\n",
    "    geo.SetMaterial(1, \"omega\")\n",
    "    geo.SetMaterial(2, \"only_B\")\n",
    "    return geo.GenerateMesh(maxh=maxh)"
   ]
  },
  {
   "cell_type": "code",
   "execution_count": 7,
   "metadata": {},
   "outputs": [],
   "source": [
    "def GetMeshDataLeft(maxh):\n",
    "    geo = SplineGeometry()\n",
    "    p1 = geo.AppendPoint (0,0)\n",
    "    p2 = geo.AppendPoint (0.25,0)\n",
    "    p3 = geo.AppendPoint (0.25,1)\n",
    "    p4 = geo.AppendPoint (0,1)\n",
    "    p5 = geo.AppendPoint (1,0)\n",
    "    p6 = geo.AppendPoint (1,1)\n",
    "    # omega \n",
    "    geo.Append ([\"line\", p1, p2], leftdomain=1, rightdomain=0,bc=\"bc_Omega\")\n",
    "    geo.Append ([\"line\", p2, p3], leftdomain=1, rightdomain=2)\n",
    "    geo.Append ([\"line\", p3, p4], leftdomain=1, rightdomain=0,bc=\"bc_Omega\")\n",
    "    geo.Append ([\"line\", p4, p1], leftdomain=1, rightdomain=0,bc=\"bc_Omega\")\n",
    "    # only_B \n",
    "    geo.Append ([\"line\", p2, p5], leftdomain=2, rightdomain=0,bc=\"bc_Omega\")\n",
    "    geo.Append ([\"line\", p5, p6], leftdomain=2, rightdomain=0,bc=\"bc_Omega\")\n",
    "    geo.Append ([\"line\", p6, p3], leftdomain=2, rightdomain=0,bc=\"bc_Omega\")\n",
    "    geo.SetMaterial(1, \"omega\")\n",
    "    geo.SetMaterial(2, \"only_B\")\n",
    "    return geo.GenerateMesh(maxh=maxh)"
   ]
  },
  {
   "cell_type": "code",
   "execution_count": 8,
   "metadata": {},
   "outputs": [
    {
     "data": {
      "application/vnd.jupyter.widget-view+json": {
       "model_id": "66d9d30cf3ff406b9b44c86db862c442",
       "version_major": 2,
       "version_minor": 0
      },
      "text/plain": [
       "WebGuiWidget(layout=Layout(height='50vh', width='100%'), value={'gui_settings': {}, 'ngsolve_version': '6.2.23…"
      ]
     },
     "metadata": {},
     "output_type": "display_data"
    }
   ],
   "source": [
    "#mesh = Mesh(unit_square.GenerateMesh(maxh=0.2))\n",
    "mesh = Mesh(GetMeshDataAllAround(maxh) )\n",
    "# mesh = Mesh(GetMeshDataLeft(maxh))\n",
    "h = specialcf.mesh_size\n",
    "n = specialcf.normal(2)\n",
    "Draw (mesh);"
   ]
  },
  {
   "cell_type": "code",
   "execution_count": 9,
   "metadata": {},
   "outputs": [],
   "source": [
    "t = Parameter(0.0)\n",
    "\n",
    "noise_t = exp(-t)\n",
    "\n",
    "u_sol = CoefficientFunction( (  2*x**2*y*(2*y-1)*(x-1)**2*(y-1)*exp(-t), \n",
    "                            -2*x*y**2*(2*x-1)*(x-1)*(y-1)**2*exp(-t) ) )\n",
    "\n",
    "grad_u_sol_x = CoefficientFunction( (  (2*(4*x**3-6*x**2+2*x))*(2*y**3-3*y**2+y)*exp(-t), \n",
    "                             (2*(x**4-2*x**3+x**2)*(6*y**2-6*y+1))*exp(-t) ) )\n",
    "grad_u_sol_y = CoefficientFunction( (-2*(6*x**2-6*x+1)*(y**4-2*y**3+y**2) *exp(-t), \n",
    "                            -2*(2*x**3-3*x**2+x)*(4*y**3-6*y**2+2*y)*exp(-t)) ) \n",
    "\n",
    "p_sol = (2*cos(x)*sin(y) - 2*sin(1)*(1 - cos(1)))*exp(-t) \n",
    "rhs = CoefficientFunction( ( 2*(-x**2*y*(x - 1)**2*(y - 1)*(2*y - 1) + 6*x**2*(1 - 2*y)*(x - 1)**2 \n",
    "              - 2*y*(y - 1)*(2*y - 1)*(x**2 + 4*x*(x - 1) + (x - 1)**2) - sin(x)*sin(y))*exp(-t)  , \n",
    "                           2*(x*y**2*(x - 1)*(2*x - 1)*(y - 1)**2 + 2*x*(x - 1)*(2*x - 1)*(y**2 + 4*y*(y - 1) \n",
    "                    + (y - 1)**2) + 6*y**2*(2*x - 1)*(y - 1)**2 + cos(x)*cos(y))*exp(-t)\n",
    "                           )  )\n",
    "\n",
    "\n",
    "\n",
    "# u_sol = CoefficientFunction( (   2*cos(t)*sin(pi*x)*sin(pi*x)*y*(1-y)*(1-2*y), \n",
    "#                             (-pi)*(cos(t))*sin(2*pi*x)*(y**4-2*y**3+y**2) ) )\n",
    "# p_sol = sin(pi*x)*cos(pi*y)*cos(t) \n",
    "# rhs = CoefficientFunction( ( -2*sin(t)*sin(pi*x)*sin(pi*x)*y*(1-y)*(1-2*y)\n",
    "#        -4*pi**2*cos(2*pi*x)*cos(t)*(2*y**3-3*y**2+y)-2*sin(pi*x)**2*cos(t)*(12*y-6)+pi*cos(pi*x)*cos(pi*y)*cos(t)  , \n",
    "#                            pi*sin(2*pi*x)*(y**4-2*y**3+y**2)*sin(t)\n",
    "#       -(4*pi**3*sin(2*pi*x)*(y**4-2*y**3+y**2)*cos(t)-pi*sin(2*pi*x)*(12*y**2-12*y+2)*cos(t))\n",
    "#       -pi*sin(pi*x)*sin(pi*y)*cos(t) )  )\n",
    "\n"
   ]
  },
  {
   "cell_type": "markdown",
   "metadata": {},
   "source": [
    "Define a finite element space on that mesh. "
   ]
  },
  {
   "cell_type": "code",
   "execution_count": 10,
   "metadata": {},
   "outputs": [
    {
     "name": "stdout",
     "output_type": "stream",
     "text": [
      "X-ndof = 6696\n"
     ]
    }
   ],
   "source": [
    "#fes = H1(mesh, order=3, dirichlet=\"left|right|bottom|top\")\n",
    "fes_NC = FESpace(\"nonconforming\",mesh, dirichlet=\"bc_Omega\", dgjumps = True) \n",
    "fes_lam = NumberSpace(mesh)\n",
    "fes_L2 = L2(mesh, order=0)\n",
    "fes_primal_vel = FESpace([fes_NC*fes_NC for i in range(N+1) ])\n",
    "fes_primal_pressure = FESpace([ fes_L2 for i in range(N) ])\n",
    "fes_dual_vel = FESpace([fes_NC*fes_NC for i in range(N) ])\n",
    "fes_dual_pressure = FESpace([ fes_L2 for i in range(N) ])\n",
    "fes_primal_lam = FESpace([fes_lam for i in range(N)])\n",
    "fes_dual_lam = FESpace([fes_lam for i in range(N)])\n",
    "X = FESpace( [fes_primal_vel, fes_primal_pressure,fes_primal_lam, fes_dual_vel, fes_dual_pressure,fes_dual_lam])\n",
    "print (\"X-ndof = {0}\".format(X.ndof ))"
   ]
  },
  {
   "cell_type": "code",
   "execution_count": 11,
   "metadata": {},
   "outputs": [],
   "source": [
    "#gfu = GridFunction(X)\n",
    "#Draw( gfu.components[0].components[N].components[1], mesh)\n",
    "#print(gfu.components[0].dim)\n",
    "#help(gfu)\n",
    "#help(gfu.components[1])\n",
    "#print(gfu.components[0][0].FV().NumPy())\n",
    "#print(gfu.components[0][0].dim)\n",
    "#help( gfu.components[0][0])\n",
    "#print(len(gfu.components[0][0] ))\n",
    "#Draw(gfu.components[1],mesh )"
   ]
  },
  {
   "cell_type": "code",
   "execution_count": 12,
   "metadata": {},
   "outputs": [],
   "source": [
    "#help(gfu.components[0].components[0].components[0])"
   ]
  },
  {
   "cell_type": "code",
   "execution_count": null,
   "metadata": {},
   "outputs": [],
   "source": []
  },
  {
   "cell_type": "code",
   "execution_count": 13,
   "metadata": {},
   "outputs": [
    {
     "data": {
      "text/plain": [
       "6"
      ]
     },
     "execution_count": 13,
     "metadata": {},
     "output_type": "execute_result"
    }
   ],
   "source": [
    "len(X.TrialFunction()) "
   ]
  },
  {
   "cell_type": "code",
   "execution_count": 14,
   "metadata": {},
   "outputs": [],
   "source": [
    "u, pp, llam, zz, yyy, xxi =  X.TrialFunction()\n",
    "v, qq, mmu, ww, xxx, eeta =  X.TestFunction()\n",
    "#print(len(u[0]) )\n",
    "#print\n",
    "\n",
    "p = [None] + [pp[i] for i in range(len(pp)) ]\n",
    "z = [None] + [zz[i] for i in range(len(zz)) ]\n",
    "yy = [None] + [yyy[i] for i in range(len(yyy)) ]\n",
    "lam = [None] + [llam[i] for i in range(len(llam)) ]\n",
    "xi = [None] + [xxi[i] for i in range(len(xxi)) ]\n",
    "\n",
    "q = [None] + [qq[i] for i in range(len(qq)) ]\n",
    "w = [None] + [ww[i] for i in range(len(ww)) ]\n",
    "xx = [None] + [xxx[i] for i in range(len(xxx)) ]\n",
    "mu = [None] + [mmu[i] for i in range(len(mmu)) ]\n",
    "eta = [None] + [eeta[i] for i in range(len(eeta)) ]\n",
    "\n",
    "#help(xx)"
   ]
  },
  {
   "cell_type": "code",
   "execution_count": null,
   "metadata": {},
   "outputs": [],
   "source": []
  },
  {
   "cell_type": "code",
   "execution_count": 15,
   "metadata": {},
   "outputs": [],
   "source": [
    "def IP(u,v,nabla=False):\n",
    "    if nabla:\n",
    "        return sum( [ grad(u[i])*grad(v[i]) for i in range(len(u))] )\n",
    "    else:\n",
    "        return sum( [u[i]*v[i] for i in range(len(u))] )\n",
    "def IP_ut_v(u_cur,u_prev,v):\n",
    "    return sum( [ (u_cur[i] - u_prev[i] ) * v[i] for i in range(len(u_cur))] )\n",
    "    #help(IP(u[0],v[0]))\n",
    "def IP_mixed_stab(u_cur,u_prev,v_cur,v_prev):\n",
    "    return sum( [ ( grad(u_cur[i]) - grad(u_prev[i]) ) * ( grad(v_cur[i]) - grad(v_prev[i]) )  for i in range(len(u_cur))] )\n",
    "\n",
    "def IP_CIP(u,v):\n",
    "    return sum( [ (u[i] - u[i].Other()) * (v[i] - v[i].Other()) for i in range(len(u))  ] )\n",
    "\n",
    "def IP_divu_q(u,q):\n",
    "    u1_dx = grad(u[0])[0]\n",
    "    u2_dy = grad(u[1])[1]\n",
    "    div_u = u1_dx + u2_dy\n",
    "    return div_u * q  "
   ]
  },
  {
   "cell_type": "code",
   "execution_count": null,
   "metadata": {},
   "outputs": [],
   "source": []
  },
  {
   "cell_type": "code",
   "execution_count": 16,
   "metadata": {},
   "outputs": [],
   "source": [
    "a = BilinearForm(X,symmetric=False)\n",
    "\n",
    "# add mean value pressure constraint \n",
    "for i in range(1,N+1):\n",
    "    a += (mu[i] * p[i] + lam[i] * q[i]) * dx  \n",
    "    a += (eta[i] * yy[i] + xi[i] * xx[i]) * dx \n",
    "\n",
    "# A1 \n",
    "for i in range(1,N+1):\n",
    "    a += IP_ut_v(u[i],u[i-1],w[i]) * dx\n",
    "    a += tau * IP(u[i],w[i],nabla=True) * dx \n",
    "    a += tau *(-1)*IP_divu_q(w[i],p[i]) * dx\n",
    "    a += tau * IP_divu_q(u[i],xx[i]) * dx \n",
    "\n",
    "# A2 \n",
    "a += gamma0 * h**2 * IP(u[0],v[0],nabla=True) * dx\n",
    "for i in range(1,N+1):\n",
    "#     a += gamma_M * tau * IP(u[i],v[i]) * dx(definedon=mesh.Materials(\"omega\"))\n",
    "    a += gamma_M * tau * IP(u[i],v[i]) * dx(definedon=mesh.Materials(\"only_B\"))\n",
    "    a += gamma1 * tau * IP_mixed_stab(u[i],u[i-1],v[i],v[i-1]) * dx \n",
    "    a +=  tau * (1/h) *  IP_CIP(u[i],v[i]) * dx(skeleton=True)\n",
    "    a += IP_ut_v(v[i],v[i-1],z[i]) * dx\n",
    "    a += tau * IP(v[i],z[i],nabla=True) * dx \n",
    "    \n",
    "    a += (-1)*IP_divu_q(z[i],q[i]) * dx \n",
    "    a += IP_divu_q(v[i],yy[i]) * dx\n",
    "\n",
    "    \n",
    "# dual stabilization (to be removed ...)\n",
    "\n",
    "for i in range(1,N+1):\n",
    "    pass\n",
    "    #a += (-1)* gamma_dual * IP(z[i],w[i]) * dx \n",
    "    #a += (-1)* gamma_dual * yy[i] * xx[i] * dx "
   ]
  },
  {
   "cell_type": "code",
   "execution_count": null,
   "metadata": {},
   "outputs": [],
   "source": []
  },
  {
   "cell_type": "markdown",
   "metadata": {},
   "source": [
    "Define linear and bilinear-forms. \n",
    "\n",
    "$$\n",
    "a(u,v) = \\int \\nabla u \\nabla v\n",
    "\\qquad \\text{and} \\qquad\n",
    "f(v) = \\int f v\n",
    "$$\n",
    "\n",
    "Forms are expressed in terms of trial and test-functions:"
   ]
  },
  {
   "cell_type": "code",
   "execution_count": 17,
   "metadata": {},
   "outputs": [],
   "source": [
    "if abs(noise_lvl) > 1e-15:\n",
    "    V_perturb = H1(mesh, order=1, dirichlet=\"bc_Omega\")\n",
    "    fes_perturb = FESpace([V_perturb * V_perturb  for i in range(N) ])\n",
    "    data_perturb = GridFunction(fes_perturb)\n",
    "    rhs_perturb  = GridFunction(fes_perturb)\n",
    "    # fill in vector with random values\n",
    "    data_perturb.vec.FV().NumPy()[:] = np.random.rand(len( data_perturb.vec.FV().NumPy()) )[:] \n",
    "    rhs_perturb.vec.FV().NumPy()[:] = np.random.rand(len( rhs_perturb.vec.FV().NumPy()) )[:] \n",
    "    # compute L2L2 norm and normalize to one \n",
    "    norm_perturb = 0.0\n",
    "    norm_rhs_perturb = 0.0\n",
    "    #norm_u_data_set = 0.0\n",
    "    #norm_rhs = 0.0\n",
    "    for i in range(N):\n",
    "        t.Set(tau*i)\n",
    "        for j in range(2):\n",
    "            norm_perturb += tau * Integrate(  data_perturb.components[i].components[j]**2  , mesh, definedon=mesh.Materials(\"only_B\"))\n",
    "            norm_rhs_perturb += tau * Integrate(  rhs_perturb.components[i].components[j]**2  , mesh)\n",
    "            #norm_u_data_set +=  tau * Integrate(u_sol**2, mesh, definedon=mesh.Materials(\"only_B\"))\n",
    "            #norm_rhs +=  tau * Integrate(rhs**2 , mesh)                        \n",
    "        #print(\"i = {0}, norm_perturb = {1}\".format(i,norm_perturb))\n",
    "    norm_perturb = sqrt(norm_perturb)\n",
    "    norm_rhs_perturb = sqrt(norm_rhs_perturb)\n",
    "    norm_perturbations = norm_perturb + maxh * norm_rhs_perturb\n",
    "    print(\"norm_perturbations =\", norm_perturbations)\n",
    "    data_perturb.vec.FV().NumPy()[:] *= 1/norm_perturbations\n",
    "    rhs_perturb.vec.FV().NumPy()[:] *= 1/norm_perturbations\n",
    "    \n",
    "    norm_perturb = 0.0\n",
    "    norm_rhs_perturb = 0.0\n",
    "    for i in range(N):\n",
    "        t.Set(tau*i)\n",
    "        for j in range(2):\n",
    "            norm_perturb += tau * Integrate(  data_perturb.components[i].components[j]**2  , mesh, definedon=mesh.Materials(\"only_B\"))\n",
    "            norm_rhs_perturb +=  tau  * Integrate( rhs_perturb.components[i].components[j]**2  , mesh)\n",
    "    norm_perturb = sqrt(norm_perturb)\n",
    "    norm_rhs_perturb = sqrt(norm_rhs_perturb)\n",
    "    norm_perturbations = norm_perturb + norm_rhs_perturb\n",
    "    print(\"norm_perturbations =\", norm_perturbations)\n",
    "    \n",
    "    #norm_u_data_set = sqrt(norm_u_data_set)\n",
    "    #norm_rhs = sqrt(norm_rhs)\n",
    "    #print(\"delta_preliminary =  \", delta_preliminary)\n",
    "    #noise_lvl *= 1/delta_preliminary\n",
    "    #print(\"norm_u_data_set = \", norm_u_data_set)\n",
    "    #print(\"norm_rhs = \", norm_rhs)\n",
    "    \n",
    "    #print(\"norm_perturb =\", norm_perturb )\n",
    "    #data_perturb.vec.FV().NumPy()[:] *= 1/norm_perturb\n",
    "    #print(\"norm_rhs_perturb \", norm_rhs_perturb)\n",
    "    #rhs_perturb.vec.FV().NumPy()[:] *= 1/norm_rhs_perturb\n",
    "    #for i in range(N):\n",
    "    #    print(\"data_perturb.components[i] =  \", data_perturb.components[i].vec.FV().NumPy()[:])\n",
    "              \n",
    "#input(\"a\")"
   ]
  },
  {
   "cell_type": "code",
   "execution_count": 18,
   "metadata": {},
   "outputs": [],
   "source": [
    "f = LinearForm(X)\n",
    "for i in range(1,N+1):\n",
    "    t.Set(tau*i)\n",
    "    f += tau * IP(w[i],rhs,nabla=False)  * dx\n",
    "#     f +=  gamma_M * tau * IP(v[i],u_sol) * dx(definedon=mesh.Materials(\"omega\"))\n",
    "    f +=  gamma_M * tau * IP(v[i],u_sol) * dx(definedon=mesh.Materials(\"only_B\"))\n",
    "    \n",
    "    #f +=  gamma_M * tau * IP(v[i],noise_lvl * CoefficientFunction((1.0,1.0))) * dx\n",
    "    #only_B\n",
    "    # data perturbation \n",
    "    if abs(noise_lvl) > 1e-15:\n",
    "        for j in range(2):\n",
    "            #print(\"i = {0}, j = {1}\".format(i,j))\n",
    "            f += noise_lvl * gamma_M *  tau * v[i][j] * data_perturb.components[i-1].components[j]  * dx(definedon=mesh.Materials(\"only_B\"))\n",
    "            f +=  noise_lvl * tau * w[i][j] * rhs_perturb.components[i-1].components[j] * dx\n",
    "            #f += noise_lvl * tau * w[i][j] * rhs_perturb.components[i-1].components[j] * dx\n",
    "\n",
    "with TaskManager():\n",
    "    a.Assemble()\n",
    "    f.Assemble()"
   ]
  },
  {
   "cell_type": "code",
   "execution_count": 19,
   "metadata": {},
   "outputs": [],
   "source": [
    "#for l in range(len(f.vec.FV().NumPy() )):\n",
    "#    print(\"f.vec.FV().NumPy()[{0}] = {1} \".format(l,f.vec.FV().NumPy()[l]  ))"
   ]
  },
  {
   "cell_type": "code",
   "execution_count": 20,
   "metadata": {},
   "outputs": [],
   "source": [
    "#print(\"max(f.vec.FV().NumPy() ) = \",max(f.vec.FV().NumPy() )  )\n",
    "#idx_max = np.argmax( f.vec.FV().NumPy())\n",
    "#print(\"np.argmax( f.vec.FV().NumPy()) =\", np.argmax( f.vec.FV().NumPy()))\n",
    "#f.vec.FV().NumPy()[idx_max] += noise_lvl\n",
    "#print(\"f.vec.FV().NumPy()[idx_max] \" , f.vec.FV().NumPy()[idx_max] )\n",
    "#f.vec.FV().NumPy()[:] = noise_lvl"
   ]
  },
  {
   "cell_type": "code",
   "execution_count": 21,
   "metadata": {},
   "outputs": [],
   "source": [
    "#input(\"\")"
   ]
  },
  {
   "cell_type": "code",
   "execution_count": 22,
   "metadata": {},
   "outputs": [],
   "source": [
    "#fi = LinearForm(X)\n",
    "#for i in range(1,N+1):\n",
    "#    if abs(noise_lvl) > 1e-15:\n",
    "#        for j in range(2):\n",
    "#            fi += noise_lvl * gamma_M *  tau * v[i][j] * data_perturb.components[i-1].components[j]  * dx(definedon=mesh.Materials(\"only_B\"))\n",
    "#            fi += h * noise_lvl * tau * w[i][j] * rhs_perturb.components[i-1].components[j] * dx\n",
    "#fi.Assemble()\n",
    "#for l in range(len(fi.vec.FV().NumPy() )):\n",
    "#   print(\"fi.vec.FV().NumPy()[{0}] = {1}  \".format(l,fi.vec.FV().NumPy()[l])  )"
   ]
  },
  {
   "cell_type": "code",
   "execution_count": 23,
   "metadata": {},
   "outputs": [],
   "source": [
    "#print(\"max(fi.vec.FV().NumPy() ) = \",max(fi.vec.FV().NumPy() )  )\n",
    "#print(\"np.argmax( fi.vec.FV().NumPy()) =\", np.argmax( fi.vec.FV().NumPy()))"
   ]
  },
  {
   "cell_type": "code",
   "execution_count": 24,
   "metadata": {},
   "outputs": [],
   "source": [
    "#f.vec.FV().NumPy()[:] += fi.vec.FV().NumPy()[:] "
   ]
  },
  {
   "cell_type": "code",
   "execution_count": 25,
   "metadata": {},
   "outputs": [],
   "source": [
    "#for l in range(len(f.vec.FV().NumPy() )):\n",
    "#    print(\"f.vec.FV().NumPy()[{0}] = {1} \".format(l,f.vec.FV().NumPy()[l]  ))"
   ]
  },
  {
   "cell_type": "code",
   "execution_count": 26,
   "metadata": {},
   "outputs": [],
   "source": [
    "#input(\"\")"
   ]
  },
  {
   "cell_type": "code",
   "execution_count": 27,
   "metadata": {},
   "outputs": [],
   "source": [
    "# cond = cond_est(a, freedofs_converter( X.FreeDofs() ) )\n",
    "# print(\"cond = \",cond)"
   ]
  },
  {
   "cell_type": "markdown",
   "metadata": {},
   "source": [
    "Solve the problem:"
   ]
  },
  {
   "cell_type": "code",
   "execution_count": 28,
   "metadata": {},
   "outputs": [],
   "source": [
    "gfu = GridFunction(X)"
   ]
  },
  {
   "cell_type": "code",
   "execution_count": 29,
   "metadata": {},
   "outputs": [],
   "source": [
    "gfu = GridFunction(X)\n",
    "gfu.vec.data = a.mat.Inverse(X.FreeDofs(),inverse=solver) * f.vec"
   ]
  },
  {
   "cell_type": "code",
   "execution_count": 30,
   "metadata": {},
   "outputs": [],
   "source": [
    "uhx = gfu.components[0].components[N].components[0]\n",
    "uhy = gfu.components[0].components[N].components[1]\n",
    "uh = [uhx,uhy]\n",
    "p_primal = gfu.components[1].components[N-1]\n",
    "p_dual = gfu.components[4].components[N-1]"
   ]
  },
  {
   "cell_type": "markdown",
   "metadata": {},
   "source": [
    "Plot the solution:"
   ]
  },
  {
   "cell_type": "code",
   "execution_count": 31,
   "metadata": {},
   "outputs": [
    {
     "data": {
      "application/vnd.jupyter.widget-view+json": {
       "model_id": "cdc969e827af4199968f39dee2d1ca31",
       "version_major": 2,
       "version_minor": 0
      },
      "text/plain": [
       "WebGuiWidget(layout=Layout(height='50vh', width='100%'), value={'gui_settings': {}, 'ngsolve_version': '6.2.23…"
      ]
     },
     "metadata": {},
     "output_type": "display_data"
    }
   ],
   "source": [
    "Draw (uhx, mesh);"
   ]
  },
  {
   "cell_type": "code",
   "execution_count": 32,
   "metadata": {},
   "outputs": [
    {
     "data": {
      "application/vnd.jupyter.widget-view+json": {
       "model_id": "d2781e90278a4e24af8e1a231e4b0032",
       "version_major": 2,
       "version_minor": 0
      },
      "text/plain": [
       "WebGuiWidget(layout=Layout(height='50vh', width='100%'), value={'gui_settings': {}, 'ngsolve_version': '6.2.23…"
      ]
     },
     "metadata": {},
     "output_type": "display_data"
    }
   ],
   "source": [
    "uhx = gfu.components[0].components[0].components[0]\n",
    "uhy = gfu.components[0].components[0].components[1]\n",
    "Draw (uhx, mesh);"
   ]
  },
  {
   "cell_type": "code",
   "execution_count": 33,
   "metadata": {},
   "outputs": [
    {
     "data": {
      "application/vnd.jupyter.widget-view+json": {
       "model_id": "7c61e874dd3b4d6babf79296ac700647",
       "version_major": 2,
       "version_minor": 0
      },
      "text/plain": [
       "WebGuiWidget(layout=Layout(height='50vh', width='100%'), value={'gui_settings': {}, 'ngsolve_version': '6.2.23…"
      ]
     },
     "metadata": {},
     "output_type": "display_data"
    }
   ],
   "source": [
    "t.Set(tau*0)\n",
    "Draw (u_sol[0] , mesh);"
   ]
  },
  {
   "cell_type": "code",
   "execution_count": 34,
   "metadata": {},
   "outputs": [
    {
     "data": {
      "application/vnd.jupyter.widget-view+json": {
       "model_id": "2e9d211f47f24e69bcbb9c252c8a1e36",
       "version_major": 2,
       "version_minor": 0
      },
      "text/plain": [
       "WebGuiWidget(layout=Layout(height='50vh', width='100%'), value={'gui_settings': {}, 'ngsolve_version': '6.2.23…"
      ]
     },
     "metadata": {},
     "output_type": "display_data"
    }
   ],
   "source": [
    "t.Set(tau*N)\n",
    "Draw (u_sol[0] , mesh);"
   ]
  },
  {
   "cell_type": "code",
   "execution_count": 35,
   "metadata": {},
   "outputs": [
    {
     "data": {
      "application/vnd.jupyter.widget-view+json": {
       "model_id": "68aee89e474d4c68a390bfbb8186513c",
       "version_major": 2,
       "version_minor": 0
      },
      "text/plain": [
       "WebGuiWidget(layout=Layout(height='50vh', width='100%'), value={'gui_settings': {}, 'ngsolve_version': '6.2.23…"
      ]
     },
     "metadata": {},
     "output_type": "display_data"
    }
   ],
   "source": [
    "Draw (uhy, mesh);"
   ]
  },
  {
   "cell_type": "code",
   "execution_count": 36,
   "metadata": {},
   "outputs": [
    {
     "data": {
      "application/vnd.jupyter.widget-view+json": {
       "model_id": "bc7194928a6140c6b5a396deec51477c",
       "version_major": 2,
       "version_minor": 0
      },
      "text/plain": [
       "WebGuiWidget(layout=Layout(height='50vh', width='100%'), value={'gui_settings': {}, 'ngsolve_version': '6.2.23…"
      ]
     },
     "metadata": {},
     "output_type": "display_data"
    }
   ],
   "source": [
    "t.Set(tau*N)\n",
    "Draw (u_sol[1] , mesh);"
   ]
  },
  {
   "cell_type": "code",
   "execution_count": 37,
   "metadata": {},
   "outputs": [
    {
     "data": {
      "application/vnd.jupyter.widget-view+json": {
       "model_id": "044162cdeba8406d92cad6c9eaaeeb7b",
       "version_major": 2,
       "version_minor": 0
      },
      "text/plain": [
       "WebGuiWidget(layout=Layout(height='50vh', width='100%'), value={'gui_settings': {}, 'ngsolve_version': '6.2.23…"
      ]
     },
     "metadata": {},
     "output_type": "display_data"
    }
   ],
   "source": [
    "Draw (p_primal, mesh);"
   ]
  },
  {
   "cell_type": "code",
   "execution_count": 38,
   "metadata": {},
   "outputs": [
    {
     "data": {
      "application/vnd.jupyter.widget-view+json": {
       "model_id": "5e2e6d3dc86043d4b92b12867b183a3e",
       "version_major": 2,
       "version_minor": 0
      },
      "text/plain": [
       "WebGuiWidget(layout=Layout(height='50vh', width='100%'), value={'gui_settings': {}, 'ngsolve_version': '6.2.23…"
      ]
     },
     "metadata": {},
     "output_type": "display_data"
    }
   ],
   "source": [
    "t.Set(tau*N)\n",
    "Draw (p_sol , mesh);"
   ]
  },
  {
   "cell_type": "code",
   "execution_count": null,
   "metadata": {},
   "outputs": [],
   "source": []
  },
  {
   "cell_type": "markdown",
   "metadata": {},
   "source": [
    "Calculate error:"
   ]
  },
  {
   "cell_type": "code",
   "execution_count": 39,
   "metadata": {},
   "outputs": [],
   "source": [
    "#exact = 16*x*(1-x)*y*(1-y)#\n",
    "#print (\"L2-error:\", sqrt(Integrate((gfu-exact)**2, mesh)))"
   ]
  },
  {
   "cell_type": "code",
   "execution_count": 40,
   "metadata": {},
   "outputs": [
    {
     "name": "stdout",
     "output_type": "stream",
     "text": [
      "pressure primal mean : 2.2123335905203587e-11\n",
      "pressure dual mean : -1.0460240242341975e-10\n",
      "divergence uh : -1.8228149024912543e-18\n"
     ]
    }
   ],
   "source": [
    "# compute mean value of pressure \n",
    "print (\"pressure primal mean :\", Integrate(p_primal, mesh)  )\n",
    "print (\"pressure dual mean :\", Integrate( p_dual, mesh)  )\n",
    "print (\"divergence uh :\", Integrate(  grad(uhx)[0] + grad(uhy)[1]  , mesh)  )"
   ]
  },
  {
   "cell_type": "code",
   "execution_count": 41,
   "metadata": {},
   "outputs": [
    {
     "name": "stdout",
     "output_type": "stream",
     "text": [
      "L2-error: 1.6976152208590856\n"
     ]
    }
   ],
   "source": [
    "# compute error \n",
    "t.Set(tau*N)\n",
    "error=sqrt(Integrate( (u_sol[0]-uhx)**2 + (u_sol[1]-uhy)**2 , mesh))\n",
    "ref_error=sqrt(Integrate( (u_sol[0])**2 + (u_sol[1])**2 , mesh))\n",
    "print (\"L2-error:\", error/ref_error)"
   ]
  },
  {
   "cell_type": "code",
   "execution_count": 42,
   "metadata": {},
   "outputs": [
    {
     "name": "stdout",
     "output_type": "stream",
     "text": [
      "[1.0922419600314257, 1.5947903631472458, 1.745818696755115, 1.8973248131850506]\n"
     ]
    }
   ],
   "source": [
    "# relative l2 error\n",
    "l2_errors = [ 2.197472471641423, 1.030684751140721, 0.3412291424039124, 0.1017424801107248, 0.027311819881453286 ]\n",
    "hm = [ 0.8,0.4,0.2,0.1,0.06]\n",
    "Ns = [1,2,4,8,16]\n",
    "eoc = [ log(l2_errors[i-1]/l2_errors[i])/log(2) for i in range(1,len(l2_errors))]\n",
    "print(eoc)"
   ]
  },
  {
   "cell_type": "code",
   "execution_count": 43,
   "metadata": {},
   "outputs": [
    {
     "name": "stdout",
     "output_type": "stream",
     "text": [
      "f = [2.39914802 1.91136356 1.72602671 1.62133772 1.55187047]\n"
     ]
    },
    {
     "data": {
      "image/png": "[encoded data removed]",
      "text/plain": [
       "<Figure size 640x480 with 1 Axes>"
      ]
     },
     "metadata": {},
     "output_type": "display_data"
    }
   ],
   "source": [
    " import numpy as np\n",
    "import matplotlib.pyplot as plt\n",
    "hm = np.array( [0.6,0.3,0.15,0.075,0.0375])\n",
    " pressure_errors = 1.5*np.array( [0.20209034943866283,0.1469503899590114,0.10407885476068714,0.08782829969091777,0.08195020236874698 ]) # to be replaced\n",
    "pressure_errors_1 = 1.5*np.array( [0.45791622127624976,0.332974668263161,0.23583212093610845,0.19901001257124998,0.1856908406631415 ]) # to be replaced\n",
    "velocity_errors = 1.5*np.array( [1.8003567644937561,0.8581240142573686,0.33394619889505534,0.2070744108124048,0.19586592352567223 ]) # to be replaced\n",
    "\n",
    "a = 1.0\n",
    "b = 1.0\n",
    "c = 1.0\n",
    "alpha = 0.5\n",
    "g=np.abs(np.log(hm))**(-1) \n",
    "f = a*np.abs(np.log(c*hm))**(-0.5) + b\n",
    "print(\"f =\", f)\n",
    "plt.loglog(hm,f,label=\"fit\")\n",
    "plt.loglog(hm,pressure_errors,label=\" L2 p-error \")\n",
    "plt.loglog(hm,pressure_errors_1,label=\" relative p-error \")\n",
    "plt.loglog(hm,velocity_errors,label=\" rel v-error initial\")\n",
    "# plt.loglog(g,f,label=\"fit\")\n",
    "# plt.loglog(g,pressure_errors,label=\"p-error\")\n",
    "#  plt.loglog(g,velocity_errors,label=\"v-error initial\")\n",
    "plt.legend()\n",
    "plt.show()"
   ]
  },
  {
   "cell_type": "code",
   "execution_count": 44,
   "metadata": {},
   "outputs": [
    {
     "name": "stdout",
     "output_type": "stream",
     "text": [
      "L2-error: 0.010849189280695459\n"
     ]
    }
   ],
   "source": [
    "# compute error \n",
    "t.Set(0)\n",
    "print (\"L2-error:\", sqrt(Integrate( (u_sol[0]-uhx)**2 + (u_sol[1]-uhy)**2 , mesh)))"
   ]
  },
  {
   "cell_type": "code",
   "execution_count": 45,
   "metadata": {},
   "outputs": [
    {
     "name": "stdout",
     "output_type": "stream",
     "text": [
      "L2-error pressure: 0.026078870353957898\n"
     ]
    }
   ],
   "source": [
    "# compute error \n",
    "t.Set(tau*N)\n",
    "print (\"L2-error pressure:\", sqrt(Integrate( (p_sol-p_primal)**2  , mesh)))"
   ]
  },
  {
   "cell_type": "code",
   "execution_count": 46,
   "metadata": {},
   "outputs": [
    {
     "name": "stdout",
     "output_type": "stream",
     "text": [
      "L2-error pressure: 0.23060200877024964\n"
     ]
    }
   ],
   "source": [
    "# compute error \n",
    "t.Set(0)\n",
    "P_error= sqrt(Integrate( (p_sol-p_primal)**2  , mesh))\n",
    "ref_error= sqrt(Integrate( (p_sol)**2  , mesh))\n",
    "print (\"L2-error pressure:\", P_error/ ref_error )"
   ]
  },
  {
   "cell_type": "code",
   "execution_count": 47,
   "metadata": {},
   "outputs": [
    {
     "name": "stdout",
     "output_type": "stream",
     "text": [
      "[0.2374944528670344, 1.1017677051598385, 2.5301772467218915, 1.862664338927717]\n"
     ]
    }
   ],
   "source": [
    "l2_errors = [ 0.013940278954281436, 0.011824383595587509,0.00550951516429729, 0.0009537930139828654,0.0002622625618920038 ]\n",
    "hm = [ 0.8,0.4,0.2,0.1,0.06]\n",
    "Ns = [1,2,4,8,16]\n",
    "eoc = [ log(l2_errors[i-1]/l2_errors[i])/log(2) for i in range(1,len(l2_errors))]\n",
    "print(eoc)"
   ]
  },
  {
   "cell_type": "markdown",
   "metadata": {},
   "source": [
    "BEST REFINEMENT!!! data all around "
   ]
  },
  {
   "cell_type": "code",
   "execution_count": 48,
   "metadata": {},
   "outputs": [
    {
     "name": "stdout",
     "output_type": "stream",
     "text": [
      "[1.0924901112040575, 1.5947866161616693, 1.7458039610601082, 1.8853885957439567]\n"
     ]
    }
   ],
   "source": [
    "l2_errors = [0.01399291706564905,0.006561996081179727,0.002172487861396676,0.0006477657773567502,0.0001753313104973358  ]\n",
    "hm = [0.6,0.3,0.15,0.075,0.0375]\n",
    "Ns = [1,2,4,8,16]\n",
    "eoc = [ log(l2_errors[i-1]/l2_errors[i])/log(2) for i in range(1,len(l2_errors))]\n",
    "print(eoc)"
   ]
  },
  {
   "cell_type": "markdown",
   "metadata": {},
   "source": [
    "inclusion setup "
   ]
  },
  {
   "cell_type": "code",
   "execution_count": 49,
   "metadata": {},
   "outputs": [
    {
     "name": "stdout",
     "output_type": "stream",
     "text": [
      "[1.0925207228301397, 1.5947962835062912, 1.7458187399515435, 1.8973248132196356]\n"
     ]
    }
   ],
   "source": [
    "l2_errors = [0.013993144840385708,0.006561963660829753,0.0021724625704654965,0.0006477516008501623, 0.00017388287596946137 ]\n",
    "hm = [0.6,0.3,0.15,0.075,0.0375]\n",
    "Ns = [1,2,4,8,16]\n",
    "eoc = [ log(l2_errors[i-1]/l2_errors[i])/log(2) for i in range(1,len(l2_errors))]\n",
    "print(eoc)"
   ]
  },
  {
   "cell_type": "markdown",
   "metadata": {},
   "source": [
    " data left "
   ]
  },
  {
   "cell_type": "code",
   "execution_count": 50,
   "metadata": {},
   "outputs": [
    {
     "name": "stdout",
     "output_type": "stream",
     "text": [
      "[0.18237651835452368, 2.355584980658514, 1.8739254889479438, 1.7494014714803332]\n"
     ]
    }
   ],
   "source": [
    "l2_errors = [0.011901921914946264,0.010488570317028333,0.0020493425514925717,0.0005591222508503087, 0.00016629701677763187  ]\n",
    "hm = [0.6,0.3,0.15,0.075,0.0375]\n",
    "Ns = [1,2,4,8,16]\n",
    "eoc = [ log(l2_errors[i-1]/l2_errors[i])/log(2) for i in range(1,len(l2_errors))]\n",
    "print(eoc)"
   ]
  },
  {
   "cell_type": "code",
   "execution_count": 51,
   "metadata": {},
   "outputs": [],
   "source": [
    "import matplotlib.pyplot as plt \n"
   ]
  },
  {
   "cell_type": "code",
   "execution_count": 52,
   "metadata": {},
   "outputs": [
    {
     "data": {
      "image/png": "[encoded data removed]",
      "text/plain": [
       "<Figure size 640x480 with 1 Axes>"
      ]
     },
     "metadata": {},
     "output_type": "display_data"
    }
   ],
   "source": [
    "hnp = np.array(hm)\n",
    "plt.loglog(hnp,l2_errors,label=\"error\",marker= '+' ) \n",
    "plt.loglog(hnp,0.025*hnp**1.5,label=\"$\\mathcal{O}(h^{1.5})$\")\n",
    "#plt.loglog(hnp,0.5*hnp**2,label=\"$\\mathcal{O}(h^2)$\")\n",
    "plt.legend()\n",
    "plt.show()"
   ]
  },
  {
   "cell_type": "code",
   "execution_count": 53,
   "metadata": {},
   "outputs": [
    {
     "name": "stdout",
     "output_type": "stream",
     "text": [
      "[2.5081740010899045, 1.859363403519923, 0.7396933486415684]\n"
     ]
    }
   ],
   "source": [
    "hm = [ 1/5,1/10,1/20,1/40 ]\n",
    "Ns = [1,2,4,8]\n",
    "l2_errors = [0.005429633926597932,0.0009544099122872821,0.0002630333304316255,0.00015752188432953458 ]\n",
    "eoc = [ log(l2_errors[i-1]/l2_errors[i])/log(2) for i in range(1,len(l2_errors))]\n",
    "print(eoc)"
   ]
  },
  {
   "cell_type": "code",
   "execution_count": 54,
   "metadata": {},
   "outputs": [
    {
     "name": "stdout",
     "output_type": "stream",
     "text": [
      "[2.5081740010899045, 1.859363403519923, 0.7396933486415684]\n"
     ]
    }
   ],
   "source": [
    "print(eoc)"
   ]
  },
  {
   "cell_type": "code",
   "execution_count": 55,
   "metadata": {},
   "outputs": [
    {
     "data": {
      "text/plain": [
       "0.03125"
      ]
     },
     "execution_count": 55,
     "metadata": {},
     "output_type": "execute_result"
    }
   ],
   "source": [
    "1/32"
   ]
  },
  {
   "cell_type": "code",
   "execution_count": 56,
   "metadata": {},
   "outputs": [],
   "source": [
    "# conda = [ 1451.6151663808907,4549.610908080406,30027.705626469724 ]\n",
    "# eoc = [ log(conda[i-1]/conda[i])/log(2) for i in range(1,len(conda))]"
   ]
  },
  {
   "cell_type": "code",
   "execution_count": 57,
   "metadata": {},
   "outputs": [],
   "source": [
    "# l2_errors_at_nodes = []\n",
    "# l2_errors_pressure_at_nodes = []\n",
    "# for n in range(0,N+1):\n",
    "#     t.Set(n*tau)\n",
    "#     uhx = gfu.components[0].components[N].components[0]\n",
    "#     uhy = gfu.components[0].components[N].components[1]\n",
    "#     p_primal = gfu.components[1].components[N-1]\n",
    "#     u_error= sqrt(Integrate( (u_sol[0]-uhx)**2 + (u_sol[1]-uhy)**2 , mesh))\n",
    "#     u_ref=sqrt(Integrate( (u_sol[0])**2 + (u_sol[1])**2 , mesh))\n",
    "#     p_error= sqrt(Integrate( (p_sol-p_primal)**2  , mesh))\n",
    "#     p_ref= sqrt(Integrate( (p_sol)**2  , mesh))\n",
    "#     l2_errors_at_nodes.append(u_error/u_ref)\n",
    "#     l2_errors_pressure_at_nodes.append(p_error/p_ref)\n",
    "#     print(\"L2 error velocity at time step {0} = {1}\".format(n,l2_errors_at_nodes[-1] ))\n",
    "#     print(\"L2 error pressure at time step {0} = {1}\".format(n,l2_errors_pressure_at_nodes[-1] ))\n",
    "# print(\"\\n L2 error at time steps = \",l2_errors_at_nodes  )  \n",
    "# print(\"\\n L2 error pressure at time steps = \",l2_errors_pressure_at_nodes  )  "
   ]
  },
  {
   "cell_type": "code",
   "execution_count": 58,
   "metadata": {
    "scrolled": true
   },
   "outputs": [
    {
     "name": "stdout",
     "output_type": "stream",
     "text": [
      "L2 error velocity at time step 0 = 0.010849189280695459\n",
      "L2 error velocity at time step 1 = 0.00034950042137316757\n",
      "L2 error pressure at time step 1 = 0.07217522122828936\n",
      "\n",
      " L2 error velocity at time steps =  [0.010849189280695459, 0.00034950042137316757]\n",
      "\n",
      " L2 error pressure at time steps =  [0.07217522122828936]\n"
     ]
    }
   ],
   "source": [
    "l2_errors_at_nodes = []\n",
    "l2_errors_pressure_at_nodes = []\n",
    "for n in range(0,N+1):\n",
    "    t.Set(n*tau)\n",
    "    uhx = gfu.components[0].components[n].components[0]\n",
    "    uhy = gfu.components[0].components[n].components[1]\n",
    "    u_error= sqrt(Integrate( (u_sol[0]-uhx)**2 + (u_sol[1]-uhy)**2 , mesh))\n",
    "    u_ref=sqrt(Integrate( (u_sol[0])**2 + (u_sol[1])**2 , mesh))\n",
    "    #l2_errors_at_nodes.append(u_error/u_ref)\n",
    "    l2_errors_at_nodes.append(u_error)\n",
    "    print(\"L2 error velocity at time step {0} = {1}\".format(n,l2_errors_at_nodes[-1] ))\n",
    "    \n",
    "    if n >= 1: \n",
    "        p_primal = gfu.components[1].components[n-1]\n",
    "        p_error= sqrt(Integrate( (p_sol-p_primal)**2  , mesh))\n",
    "        p_ref= sqrt(Integrate( (p_sol)**2  , mesh))\n",
    "        l2_errors_pressure_at_nodes.append(p_error/p_ref)\n",
    "        print(\"L2 error pressure at time step {0} = {1}\".format(n,l2_errors_pressure_at_nodes[-1] ))\n",
    "    \n",
    "print(\"\\n L2 error velocity at time steps = \",l2_errors_at_nodes  )  \n",
    "print(\"\\n L2 error pressure at time steps = \",l2_errors_pressure_at_nodes  )  "
   ]
  },
  {
   "cell_type": "code",
   "execution_count": 59,
   "metadata": {},
   "outputs": [],
   "source": [
    "def get_linear_interpolation(n,t_sample,t_n,t_nn,take_gradient=False): \n",
    "    if take_gradient:\n",
    "        uhx_n = grad(gfu.components[0].components[n].components[0])\n",
    "        uhy_n = grad(gfu.components[0].components[n].components[1])\n",
    "        uhx_nn = grad(gfu.components[0].components[n+1].components[0])\n",
    "        uhy_nn = grad(gfu.components[0].components[n+1].components[1])\n",
    "    else:\n",
    "        uhx_n = gfu.components[0].components[n].components[0]\n",
    "        uhy_n = gfu.components[0].components[n].components[1]\n",
    "        uhx_nn = gfu.components[0].components[n+1].components[0]\n",
    "        uhy_nn = gfu.components[0].components[n+1].components[1]\n",
    "    uhx_at_t_sample = uhx_nn * (t_sample-t_n)/tau +  uhx_n * (t_nn-t_sample  )/tau\n",
    "    uhy_at_t_sample = uhy_nn * (t_sample-t_n)/tau +  uhy_n * (t_nn-t_sample  )/tau\n",
    "    return uhx_at_t_sample, uhy_at_t_sample"
   ]
  },
  {
   "cell_type": "code",
   "execution_count": 60,
   "metadata": {},
   "outputs": [],
   "source": [
    "# measuring epsilon norm\n",
    "#l2_norm_at_sample_points = [ ]\n",
    "#for t_sample in sample_points:\n",
    "#    for n in range(0,N):\n",
    "#        t_n = n*tau\n",
    "#        t_nn = (n+1)*tau\n",
    "#        if t_sample >= t_n and t_sample <= t_n:\n",
    "#            t.Set(t"
   ]
  },
  {
   "cell_type": "code",
   "execution_count": 61,
   "metadata": {},
   "outputs": [
    {
     "name": "stdout",
     "output_type": "stream",
     "text": [
      "max(l2_norm_at_sample_points) =  0.005362477751810096\n",
      "l2_norm_time_nabla  0.006954810635471322\n",
      "epsilon norm =   0.012317288387281418\n"
     ]
    }
   ],
   "source": [
    "# measuring epsilon norm\n",
    "l2_norm_at_sample_points = [ ]\n",
    "for t_sample in sample_points:\n",
    "    #print(\"t_sample =\", t_sample)\n",
    "    for n in range(0,N):\n",
    "        t_n = n*tau\n",
    "        t_nn = (n+1)*tau\n",
    "        if t_sample >= t_n and t_sample <= t_nn:\n",
    "            #print(\"t_sample = \", t_sample)\n",
    "            t.Set(t_sample)\n",
    "            uhx_at_t_sample, uhy_at_t_sample = get_linear_interpolation(n,t_sample,t_n,t_nn)\n",
    "            u_error_at_sample = sqrt(Integrate( (u_sol[0]-uhx_at_t_sample)**2 + (u_sol[1]-uhy_at_t_sample)**2 , mesh))\n",
    "            l2_norm_at_sample_points.append(u_error_at_sample )\n",
    "#print(\"l2_norm_at_sample_points =\", l2_norm_at_sample_points )   \n",
    "print(\"max(l2_norm_at_sample_points) = \", max(l2_norm_at_sample_points ))\n",
    "\n",
    "# find out in which interval is epsilon\n",
    "n_epsilon = 0\n",
    "for n in range(0,N):\n",
    "    t_n = n*tau\n",
    "    t_nn = (n+1)*tau\n",
    "    if epsilon >= t_n and epsilon <= t_nn:\n",
    "        n_epsilon = n\n",
    "#print(\"n_epsilon =\", n_epsilon)  \n",
    "    \n",
    "l2_norm_time_nabla = 0 \n",
    "interval_length = (n_epsilon+1)*tau - epsilon \n",
    "t_n = n_epsilon*tau\n",
    "t_nn = (n_epsilon+1)*tau\n",
    "for tau_i,omega_i in zip(qr.current_pts(epsilon,(n_epsilon+1)*tau),qr.t_weights(interval_length)):\n",
    "    t.Set(tau_i )\n",
    "    grad_uhx_at_t_sample, grad_uhy_at_t_sample = get_linear_interpolation(n, tau_i,t_n,t_nn,take_gradient=True)\n",
    "    l2_norm_time_nabla += omega_i * Integrate( (grad_uhx_at_t_sample - grad_u_sol_x)*(grad_uhx_at_t_sample - grad_u_sol_x) , mesh)\n",
    "    l2_norm_time_nabla += omega_i * Integrate( (grad_uhy_at_t_sample - grad_u_sol_y)*(grad_uhy_at_t_sample - grad_u_sol_y) , mesh)\n",
    "\n",
    "for n in range(n_epsilon+1,N):\n",
    "    t_n = n*tau\n",
    "    t_nn = (n+1)*tau\n",
    "    for tau_i,omega_i in zip(qr.current_pts(n*tau ,(n+1)*tau),qr.t_weights(tau)):\n",
    "        #print(\"tau_i = \", tau_i)\n",
    "        t.Set(tau_i )\n",
    "        grad_uhx_at_t_sample, grad_uhy_at_t_sample = get_linear_interpolation(n, tau_i,t_n,t_nn,take_gradient=True)\n",
    "        l2_norm_time_nabla += omega_i * Integrate( (grad_uhx_at_t_sample - grad_u_sol_x)*(grad_uhx_at_t_sample - grad_u_sol_x) , mesh)\n",
    "        l2_norm_time_nabla += omega_i * Integrate( (grad_uhy_at_t_sample - grad_u_sol_y)*(grad_uhy_at_t_sample - grad_u_sol_y) , mesh)\n",
    "        #print(\" l2_norm_time_nabla =\", l2_norm_time_nabla)\n",
    "        #print(\"  omega_i  =\",  omega_i )\n",
    "l2_norm_time_nabla = sqrt(l2_norm_time_nabla)\n",
    "print(\"l2_norm_time_nabla \",l2_norm_time_nabla)\n",
    "print(\"epsilon norm =  \", max(l2_norm_at_sample_points ) + l2_norm_time_nabla )\n",
    "    "
   ]
  },
  {
   "cell_type": "code",
   "execution_count": 62,
   "metadata": {},
   "outputs": [],
   "source": [
    "#[0.009760372638809738,0.010958150405335113,0.014886031231727591,0.024682281908539317 ]"
   ]
  },
  {
   "cell_type": "code",
   "execution_count": 63,
   "metadata": {},
   "outputs": [],
   "source": [
    "#0.010958150405335113/0.009760372638809738"
   ]
  },
  {
   "cell_type": "code",
   "execution_count": 64,
   "metadata": {},
   "outputs": [],
   "source": [
    "#0.014886031231727591/0.010958150405335113"
   ]
  },
  {
   "cell_type": "code",
   "execution_count": 65,
   "metadata": {},
   "outputs": [],
   "source": [
    "#0.024682281908539317/0.014886031231727591"
   ]
  },
  {
   "cell_type": "code",
   "execution_count": 66,
   "metadata": {},
   "outputs": [],
   "source": [
    "# epsilon = 0.1 \n",
    "#max_norm = [0.013993144840385708,0.006561963660829753,0.0023341088595322523,0.0010424690858177748,0.0008244514695075892 ]\n",
    "epsilon_errors =  [0.04461430100037091,0.02977401883858153,0.01626529941729014,0.008484478155054119,0.004482205113082067 ] \n",
    "\n",
    "# epsilon = 0.05\n",
    "#max_norm = [0.013993144840385708,0.006561963660829753,0.002734163090065406,0.0016785746570811492,0.0014021225808225205 ]\n",
    "#epsilon_errors =  [0.04964001736620738,0.03515945419533762,0.019873446825001834, 0.010927237485741191,0.006129374640963829 ]\n",
    "\n",
    "# epsilon = 0.02\n",
    "#max_norm = [ 0.00270035938146212,0.002252321181422798]\n",
    "#epsilon_errors = [0.05192735187441899,0.03790882356542787,0.02225123072811623,0.013097064634086702,0.007788370522288313  ]"
   ]
  },
  {
   "cell_type": "code",
   "execution_count": 67,
   "metadata": {},
   "outputs": [],
   "source": [
    "#noise_lvl = 0.0\n",
    "epsilon_errors =  [0.04461430100037091,0.02977401883858153,0.01626529941729014,0.008484478155054119,0.004482205113082067 ] \n",
    "# perturbation, noise_lvl = 0.1\n",
    "epsilon_errors =  [ 0.04699381631224313,0.030223041406075367,0.016483793992797164,0.008531362640089362 ] "
   ]
  },
  {
   "cell_type": "code",
   "execution_count": 68,
   "metadata": {},
   "outputs": [],
   "source": [
    "#nodes =  ( [ -1, -np.sqrt(1/5), np.sqrt(1/5), 1],\n",
    "# weights =      [ 1/6, 5/6, 5/6, 1/6 ] ),\n",
    "#\n",
    "#for tau_i,omega_i in zip(self.qr_ho.current_pts(0,1),self.qr_ho.t_weights(1)):\n",
    "#0.009441616453170404"
   ]
  }
 ],
 "metadata": {
  "kernelspec": {
   "display_name": "Python 3 (ipykernel)",
   "language": "python",
   "name": "python3"
  },
  "language_info": {
   "codemirror_mode": {
    "name": "ipython",
    "version": 3
   },
   "file_extension": ".py",
   "mimetype": "text/x-python",
   "name": "python",
   "nbconvert_exporter": "python",
   "pygments_lexer": "ipython3",
   "version": "3.7.9"
  }
 },
 "nbformat": 4,
 "nbformat_minor": 2
}
