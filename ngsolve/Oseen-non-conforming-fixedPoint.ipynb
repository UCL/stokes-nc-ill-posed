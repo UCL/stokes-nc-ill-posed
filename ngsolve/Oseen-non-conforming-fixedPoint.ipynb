{
 "cells": [
  {
   "cell_type": "markdown",
   "metadata": {},
   "source": [
    "Oseen Equation\n",
    "==="
   ]
  },
  {
   "cell_type": "markdown",
   "metadata": {},
   "source": [
    "Import Netgen/NGSolve Python modules:"
   ]
  },
  {
   "cell_type": "code",
   "execution_count": 1,
   "metadata": {},
   "outputs": [],
   "source": [
    "from ngsolve import *\n",
    "from netgen.geom2d import SplineGeometry\n",
    "from ngsolve.webgui import Draw\n",
    "from math import log\n",
    "import numpy as np\n",
    "import scipy.sparse as sp\n",
    "SetHeapSize(int(1e9))   "
   ]
  },
  {
   "cell_type": "code",
   "execution_count": 2,
   "metadata": {},
   "outputs": [
    {
     "data": {
      "text/plain": [
       "0.0625"
      ]
     },
     "execution_count": 2,
     "metadata": {},
     "output_type": "execute_result"
    }
   ],
   "source": [
    "1/16"
   ]
  },
  {
   "cell_type": "code",
   "execution_count": 3,
   "metadata": {},
   "outputs": [],
   "source": [
    "N = 1\n",
    "T = 0.2\n",
    "tau = T/N \n",
    "gamma0 = 1\n",
    "gamma1 = 1\n",
    "gamma_dual = 1e-5\n",
    "gamma_M = 1e5\n",
    "#maxh = 0.0375 + (0.075-0.0375)/2\n",
    "#print(maxh)\n",
    "maxh = 0.8\n",
    "solver = \"pardiso\"\n",
    "#solver = \"umfpack\""
   ]
  },
  {
   "cell_type": "code",
   "execution_count": 4,
   "metadata": {},
   "outputs": [],
   "source": [
    "#maxh"
   ]
  },
  {
   "cell_type": "markdown",
   "metadata": {},
   "source": [
    "The unit_square is a predefined domain, use Netgen to generate a mesh:"
   ]
  },
  {
   "cell_type": "code",
   "execution_count": 5,
   "metadata": {},
   "outputs": [],
   "source": [
    "def freedofs_converter(fd):\n",
    "    frees = [] \n",
    "    for i in range(len(fd)):\n",
    "        if fd[i]:\n",
    "            frees.append(i)\n",
    "    return frees\n",
    "\n",
    "def cond_est(a,frees):\n",
    "    rows,cols,vals = a.mat.COO()\n",
    "    A = sp.csr_matrix((vals,(rows,cols)))\n",
    "    A_red = A.todense()[frees,:][:,frees] \n",
    "    return np.linalg.cond(A_red)"
   ]
  },
  {
   "cell_type": "code",
   "execution_count": 6,
   "metadata": {},
   "outputs": [],
   "source": [
    "def GetMeshDataAllAround(maxh):\n",
    "    geo = SplineGeometry()\n",
    "    # data domain\n",
    "    p1 = geo.AppendPoint (0,0)\n",
    "    p2 = geo.AppendPoint (1,0)\n",
    "    p4 = geo.AppendPoint (0.75,0.75)\n",
    "    p5 = geo.AppendPoint (0.75,0.25)\n",
    "    p6 = geo.AppendPoint (0.25,0.25)\n",
    "    p7 = geo.AppendPoint (0.25,0.75)\n",
    "    p11 = geo.AppendPoint(1.0,1.0)\n",
    "    p12 = geo.AppendPoint(0.0,1.0)\n",
    "    # omega\n",
    "    geo.Append ([\"line\", p1, p2], leftdomain=1, rightdomain=0,bc=\"bc_Omega\")\n",
    "    geo.Append ([\"line\", p2, p11], leftdomain=1, rightdomain=0,bc=\"bc_Omega\")\n",
    "    geo.Append ([\"line\", p11, p12], leftdomain=1, rightdomain=0,bc=\"bc_Omega\")\n",
    "    geo.Append ([\"line\", p12, p1], leftdomain=1, rightdomain=0,bc=\"bc_Omega\")\n",
    "    # only_B\n",
    "    geo.Append ([\"line\", p6, p5], leftdomain=2, rightdomain=1)\n",
    "    geo.Append ([\"line\", p5, p4], leftdomain=2, rightdomain=1)\n",
    "    geo.Append ([\"line\", p4, p7], leftdomain=2, rightdomain=1)\n",
    "    geo.Append ([\"line\", p7, p6], leftdomain=2, rightdomain=1)\n",
    "    geo.SetMaterial(1, \"omega\")\n",
    "    geo.SetMaterial(2, \"only_B\")\n",
    "    return geo.GenerateMesh(maxh=maxh)"
   ]
  },
  {
   "cell_type": "code",
   "execution_count": 7,
   "metadata": {},
   "outputs": [],
   "source": [
    "def GetMeshDataLeft(maxh):\n",
    "    geo = SplineGeometry()\n",
    "    p1 = geo.AppendPoint (0,0)\n",
    "    p2 = geo.AppendPoint (0.25,0)\n",
    "    p3 = geo.AppendPoint (0.25,1)\n",
    "    p4 = geo.AppendPoint (0,1)\n",
    "    p5 = geo.AppendPoint (1,0)\n",
    "    p6 = geo.AppendPoint (1,1)\n",
    "    # omega \n",
    "    geo.Append ([\"line\", p1, p2], leftdomain=1, rightdomain=0,bc=\"bc_Omega\")\n",
    "    geo.Append ([\"line\", p2, p3], leftdomain=1, rightdomain=2)\n",
    "    geo.Append ([\"line\", p3, p4], leftdomain=1, rightdomain=0,bc=\"bc_Omega\")\n",
    "    geo.Append ([\"line\", p4, p1], leftdomain=1, rightdomain=0,bc=\"bc_Omega\")\n",
    "    # only_B \n",
    "    geo.Append ([\"line\", p2, p5], leftdomain=2, rightdomain=0,bc=\"bc_Omega\")\n",
    "    geo.Append ([\"line\", p5, p6], leftdomain=2, rightdomain=0,bc=\"bc_Omega\")\n",
    "    geo.Append ([\"line\", p6, p3], leftdomain=2, rightdomain=0,bc=\"bc_Omega\")\n",
    "    geo.SetMaterial(1, \"omega\")\n",
    "    geo.SetMaterial(2, \"only_B\")\n",
    "    return geo.GenerateMesh(maxh=maxh)"
   ]
  },
  {
   "cell_type": "code",
   "execution_count": 8,
   "metadata": {},
   "outputs": [
    {
     "data": {
      "application/vnd.jupyter.widget-view+json": {
       "model_id": "d44a411e05544eeeb49abf253a0aaf56",
       "version_major": 2,
       "version_minor": 0
      },
      "text/plain": [
       "WebGuiWidget(layout=Layout(height='50vh', width='100%'), value={'gui_settings': {}, 'ngsolve_version': '6.2.23…"
      ]
     },
     "metadata": {},
     "output_type": "display_data"
    }
   ],
   "source": [
    "#mesh = Mesh(unit_square.GenerateMesh(maxh=0.2))\n",
    "mesh = Mesh(GetMeshDataAllAround(maxh) )\n",
    "# mesh = Mesh(GetMeshDataLeft(maxh))\n",
    "h = specialcf.mesh_size\n",
    "n = specialcf.normal(2)\n",
    "Draw (mesh);"
   ]
  },
  {
   "cell_type": "code",
   "execution_count": 9,
   "metadata": {},
   "outputs": [],
   "source": [
    "t = Parameter(0.0)\n",
    "\n",
    "u_sol = CoefficientFunction( (  2*x**2*y*(2*y-1)*(x-1)**2*(y-1)*exp(-t), \n",
    "                            -2*x*y**2*(2*x-1)*(x-1)*(y-1)**2*exp(-t) ) )\n",
    "p_sol = (2*cos(x)*sin(y) - 2*sin(1)*(1 - cos(1)))*exp(-t) \n",
    "#beta = CoefficientFunction( ( 1.0 , 1.0 ) )\n",
    "beta_ref = u_sol \n",
    "rhs = CoefficientFunction( ( 2*(-x**2*y*(x - 1)**2*(y - 1)*(2*y - 1) + 6*x**2*(1 - 2*y)*(x - 1)**2 \n",
    "              - 2*y*(y - 1)*(2*y - 1)*(x**2 + 4*x*(x - 1) + (x - 1)**2) - sin(x)*sin(y)\n",
    "              + beta_ref[0]*2*(2*y**3 - 3*y**2 + y)*(4*x**3-6*x**2+2*x)\n",
    "              + beta_ref[1]*2*(6*y**2-6*y+1)*(x**4-2*x**3+x**2) )*exp(-t)  , \n",
    "                           2*(x*y**2*(x - 1)*(2*x - 1)*(y - 1)**2 + 2*x*(x - 1)*(2*x - 1)*(y**2 + 4*y*(y - 1) \n",
    "                    + (y - 1)**2) + 6*y**2*(2*x - 1)*(y - 1)**2 + cos(x)*cos(y)\n",
    "                    - beta_ref[0]*2*(6*x**2-6*x+1)*(y**4-2*y**3+y**2)\n",
    "                    - beta_ref[1]*2*(2*x**3-3*x**2+x)*(4*y**3-6*y**2+2*y))*exp(-t))  )\n",
    "\n",
    "# u_sol = CoefficientFunction( (   2*cos(t)*sin(pi*x)*sin(pi*x)*y*(1-y)*(1-2*y), \n",
    "#                             (-pi)*(cos(t))*sin(2*pi*x)*(y**4-2*y**3+y**2) ) )\n",
    "# p_sol = sin(pi*x)*cos(pi*y)*cos(t) \n",
    "# beta = CoefficientFunction( ( 1.0 , 1.0 ) )\n",
    "# rhs = CoefficientFunction( ( -2*sin(t)*sin(pi*x)*sin(pi*x)*y*(1-y)*(1-2*y)\n",
    "#        -4*pi**2*cos(2*pi*x)*cos(t)*(2*y**3-3*y**2+y)-2*sin(pi*x)**2*cos(t)*(12*y-6)+pi*cos(pi*x)*cos(pi*y)*cos(t)  , \n",
    "#                            pi*sin(2*pi*x)*(y**4-2*y**3+y**2)*sin(t)\n",
    "#       -(4*pi**3*sin(2*pi*x)*(y**4-2*y**3+y**2)*cos(t)-pi*sin(2*pi*x)*(12*y**2-12*y+2)*cos(t))\n",
    "#       -pi*sin(pi*x)*sin(pi*y)*cos(t) )  )\n",
    "\n"
   ]
  },
  {
   "cell_type": "markdown",
   "metadata": {},
   "source": [
    "Define a finite element space on that mesh. "
   ]
  },
  {
   "cell_type": "code",
   "execution_count": 10,
   "metadata": {},
   "outputs": [
    {
     "name": "stdout",
     "output_type": "stream",
     "text": [
      "X-ndof = 180\n"
     ]
    }
   ],
   "source": [
    "#fes = H1(mesh, order=3, dirichlet=\"left|right|bottom|top\")\n",
    "fes_NC = FESpace(\"nonconforming\",mesh, dirichlet=\"bc_Omega\", dgjumps = True) \n",
    "fes_lam = NumberSpace(mesh)\n",
    "fes_L2 = L2(mesh, order=0)\n",
    "fes_primal_vel = FESpace([fes_NC*fes_NC for i in range(N+1) ])\n",
    "fes_primal_pressure = FESpace([ fes_L2 for i in range(N) ])\n",
    "fes_dual_vel = FESpace([fes_NC*fes_NC for i in range(N) ])\n",
    "fes_dual_pressure = FESpace([ fes_L2 for i in range(N) ])\n",
    "fes_primal_lam = FESpace([fes_lam for i in range(N)])\n",
    "fes_dual_lam = FESpace([fes_lam for i in range(N)])\n",
    "X = FESpace( [fes_primal_vel, fes_primal_pressure,fes_primal_lam, fes_dual_vel, fes_dual_pressure,fes_dual_lam])\n",
    "print (\"X-ndof = {0}\".format(X.ndof ))"
   ]
  },
  {
   "cell_type": "code",
   "execution_count": 11,
   "metadata": {},
   "outputs": [],
   "source": [
    "#gfu = GridFunction(X)\n",
    "#Draw( gfu.components[0].components[N].components[1], mesh)\n",
    "#print(gfu.components[0].dim)\n",
    "#help(gfu)\n",
    "#help(gfu.components[1])\n",
    "#print(gfu.components[0][0].FV().NumPy())\n",
    "#print(gfu.components[0][0].dim)\n",
    "#help( gfu.components[0][0])\n",
    "#print(len(gfu.components[0][0] ))\n",
    "#Draw(gfu.components[1],mesh )"
   ]
  },
  {
   "cell_type": "code",
   "execution_count": 12,
   "metadata": {},
   "outputs": [],
   "source": [
    "#help(gfu.components[0].components[0].components[0])"
   ]
  },
  {
   "cell_type": "code",
   "execution_count": null,
   "metadata": {},
   "outputs": [],
   "source": []
  },
  {
   "cell_type": "code",
   "execution_count": 13,
   "metadata": {},
   "outputs": [
    {
     "data": {
      "text/plain": [
       "6"
      ]
     },
     "execution_count": 13,
     "metadata": {},
     "output_type": "execute_result"
    }
   ],
   "source": [
    "len(X.TrialFunction()) "
   ]
  },
  {
   "cell_type": "code",
   "execution_count": 14,
   "metadata": {},
   "outputs": [],
   "source": [
    "u, pp, llam, zz, yyy, xxi =  X.TrialFunction()\n",
    "v, qq, mmu, ww, xxx, eeta =  X.TestFunction()\n",
    "#print(len(u[0]) )\n",
    "#print\n",
    "\n",
    "p = [None] + [pp[i] for i in range(len(pp)) ]\n",
    "z = [None] + [zz[i] for i in range(len(zz)) ]\n",
    "yy = [None] + [yyy[i] for i in range(len(yyy)) ]\n",
    "lam = [None] + [llam[i] for i in range(len(llam)) ]\n",
    "xi = [None] + [xxi[i] for i in range(len(xxi)) ]\n",
    "\n",
    "q = [None] + [qq[i] for i in range(len(qq)) ]\n",
    "w = [None] + [ww[i] for i in range(len(ww)) ]\n",
    "xx = [None] + [xxx[i] for i in range(len(xxx)) ]\n",
    "mu = [None] + [mmu[i] for i in range(len(mmu)) ]\n",
    "eta = [None] + [eeta[i] for i in range(len(eeta)) ]\n",
    "\n",
    "#help(xx)"
   ]
  },
  {
   "cell_type": "code",
   "execution_count": null,
   "metadata": {},
   "outputs": [],
   "source": []
  },
  {
   "cell_type": "code",
   "execution_count": 15,
   "metadata": {},
   "outputs": [],
   "source": [
    "def IP(u,v,nabla=False):\n",
    "    if nabla:\n",
    "        return sum( [ grad(u[i])*grad(v[i]) for i in range(len(u))] )\n",
    "    else:\n",
    "        return sum( [u[i]*v[i] for i in range(len(u))] )\n",
    "\n",
    "def IP_conv(u,v,beta):\n",
    "    return beta[0]*grad(u[0])[0]*v[0]+beta[1]*grad(u[0])[1]*v[0]+beta[0]*grad(u[1])[0]*v[1]+beta[1]*grad(u[1])[1]*v[1]\n",
    "    \n",
    "def IP_ut_v(u_cur,u_prev,v):\n",
    "    return sum( [ (u_cur[i] - u_prev[i] ) * v[i] for i in range(len(u_cur))] )\n",
    "    #help(IP(u[0],v[0]))\n",
    "def IP_mixed_stab(u_cur,u_prev,v_cur,v_prev):\n",
    "    return sum( [ ( grad(u_cur[i]) - grad(u_prev[i]) ) * ( grad(v_cur[i]) - grad(v_prev[i]) )  for i in range(len(u_cur))] )\n",
    "\n",
    "def IP_CIP(u,v):\n",
    "    return sum( [ (u[i] - u[i].Other()) * (v[i] - v[i].Other()) for i in range(len(u))  ] )\n",
    "\n",
    "def IP_jump_avg(u,v):\n",
    "    return sum( [ (u[i] - u[i].Other()) * 0.5 * (v[i] + v[i].Other()) for i in range(len(u))  ] )\n",
    "\n",
    "def IP_divu_q(u,q):\n",
    "    u1_dx = grad(u[0])[0]\n",
    "    u2_dy = grad(u[1])[1]\n",
    "    div_u = u1_dx + u2_dy\n",
    "    return div_u * q  "
   ]
  },
  {
   "cell_type": "code",
   "execution_count": 16,
   "metadata": {},
   "outputs": [],
   "source": [
    "gfu = GridFunction(X)\n",
    "beta_prev = GridFunction(X)\n",
    "#beta_prev.vec.FV().NumPy()[:] = 1e1*np.random.rand(len( beta_prev.vec.FV().NumPy() ))[:]\n",
    "beta_prev.vec.FV().NumPy()[:] = 0.0"
   ]
  },
  {
   "cell_type": "code",
   "execution_count": 17,
   "metadata": {},
   "outputs": [],
   "source": [
    "def SolveOseen(beta_prev):\n",
    "    \n",
    "    a = BilinearForm(X,symmetric=False)\n",
    "\n",
    "    # add mean value pressure constraint \n",
    "    for i in range(1,N+1):\n",
    "        a += (mu[i] * p[i] + lam[i] * q[i]) * dx  \n",
    "        a += (eta[i] * yy[i] + xi[i] * xx[i]) * dx \n",
    "\n",
    "    # A1 \n",
    "    for i in range(1,N+1):\n",
    "        beta = CoefficientFunction((beta_prev.components[0].components[i-1].components[0], beta_prev.components[0].components[i-1].components[1] ) ) \n",
    "        \n",
    "        a += IP_ut_v(u[i],u[i-1],w[i]) * dx\n",
    "        a += tau * IP(u[i],w[i],nabla=True) * dx \n",
    "        a += tau * IP_conv(u[i], w[i],beta) * dx \n",
    "        a += tau *(-1)*IP_divu_q(w[i],p[i]) * dx\n",
    "        a += tau * IP_divu_q(u[i],xx[i]) * dx \n",
    "        a +=  (-1)*tau * InnerProduct(beta , n ) * IP_jump_avg(u[i],w[i]) * dx(skeleton=True)\n",
    "        #a +=  tau * (0.5*IfPos(InnerProduct(beta,n),InnerProduct(beta,n),-InnerProduct(beta,n))) * IP_CIP(u[i],w[i]) * dx(skeleton=True)\n",
    "\n",
    "    # A2 \n",
    "    a += gamma0 * h**2 * IP(u[0],v[0],nabla=True) * dx\n",
    "    for i in range(1,N+1):\n",
    "        beta = CoefficientFunction((beta_prev.components[0].components[i-1].components[0], beta_prev.components[0].components[i-1].components[1] ) ) \n",
    "    #     a += gamma_M * tau * IP(u[i],v[i]) * dx(definedon=mesh.Materials(\"omega\"))\n",
    "        a += gamma_M * tau * IP(u[i],v[i]) * dx(definedon=mesh.Materials(\"only_B\"))\n",
    "        a += gamma1 * tau * IP_mixed_stab(u[i],u[i-1],v[i],v[i-1]) * dx \n",
    "        a +=  tau * (1/h)  * IP_CIP(u[i],v[i]) * dx(skeleton=True)\n",
    "        a +=  (-1)*tau * InnerProduct(beta , n ) * IP_jump_avg(v[i],z[i]) * dx(skeleton=True)\n",
    "        #a +=  tau * (0.5*IfPos(InnerProduct(beta,n),InnerProduct(beta,n),-InnerProduct(beta,n))) * IP_CIP(v[i],z[i]) * dx(skeleton=True)\n",
    "        a += IP_ut_v(v[i],v[i-1],z[i]) * dx\n",
    "        a += tau * IP(v[i],z[i],nabla=True) * dx \n",
    "        a += tau * IP_conv(v[i], z[i],beta) * dx \n",
    "\n",
    "        a += (-1)*IP_divu_q(z[i],q[i]) * dx \n",
    "        a += IP_divu_q(v[i],yy[i]) * dx\n",
    "        \n",
    "    f = LinearForm(X)\n",
    "    for i in range(1,N+1):\n",
    "        t.Set(tau*i)\n",
    "        f += tau * IP(w[i],rhs,nabla=False)  * dx\n",
    "        f +=  gamma_M * tau * IP(v[i],u_sol) * dx(definedon=mesh.Materials(\"only_B\"))\n",
    "\n",
    "    with TaskManager():\n",
    "        a.Assemble()\n",
    "        f.Assemble()\n",
    "    \n",
    "    gfu.vec.data = a.mat.Inverse(X.FreeDofs(),inverse=solver) * f.vec\n",
    "    \n",
    "    uhx = gfu.components[0].components[N].components[0]\n",
    "    uhy = gfu.components[0].components[N].components[1]\n",
    "    uh = [uhx,uhy]\n",
    "    p_primal = gfu.components[1].components[N-1]\n",
    "    p_dual = gfu.components[4].components[N-1]\n",
    "    \n",
    "    t.Set(tau*N)\n",
    "    Draw (u_sol[0] , mesh);\n",
    "    \n",
    "    Draw (uhx, mesh);\n",
    "    \n",
    "    # compute error \n",
    "    t.Set(tau*N)\n",
    "    error=sqrt(Integrate( (u_sol[0]-uhx)**2 + (u_sol[1]-uhy)**2 , mesh))\n",
    "    ref_error=sqrt(Integrate( (u_sol[0])**2 + (u_sol[1])**2 , mesh))\n",
    "    print (\"L2-error:\", error/ref_error)\n",
    "    beta_prev.vec.data = gfu.vec.data \n",
    "    return error/ref_error\n",
    "    "
   ]
  },
  {
   "cell_type": "code",
   "execution_count": 18,
   "metadata": {
    "scrolled": true
   },
   "outputs": [
    {
     "data": {
      "application/vnd.jupyter.widget-view+json": {
       "model_id": "90b97b91445f41e38049e873af86913b",
       "version_major": 2,
       "version_minor": 0
      },
      "text/plain": [
       "WebGuiWidget(layout=Layout(height='50vh', width='100%'), value={'gui_settings': {}, 'ngsolve_version': '6.2.23…"
      ]
     },
     "metadata": {},
     "output_type": "display_data"
    },
    {
     "data": {
      "application/vnd.jupyter.widget-view+json": {
       "model_id": "f6a4ff6e666d419294548a4fbcbbfe6f",
       "version_major": 2,
       "version_minor": 0
      },
      "text/plain": [
       "WebGuiWidget(layout=Layout(height='50vh', width='100%'), value={'gui_settings': {}, 'ngsolve_version': '6.2.23…"
      ]
     },
     "metadata": {},
     "output_type": "display_data"
    },
    {
     "name": "stdout",
     "output_type": "stream",
     "text": [
      "L2-error: 0.8234928585675927\n"
     ]
    },
    {
     "data": {
      "application/vnd.jupyter.widget-view+json": {
       "model_id": "b65239ae87494f37ac5f6d016b200723",
       "version_major": 2,
       "version_minor": 0
      },
      "text/plain": [
       "WebGuiWidget(layout=Layout(height='50vh', width='100%'), value={'gui_settings': {}, 'ngsolve_version': '6.2.23…"
      ]
     },
     "metadata": {},
     "output_type": "display_data"
    },
    {
     "data": {
      "application/vnd.jupyter.widget-view+json": {
       "model_id": "df22bc1b644e407a9a3af9f31d333439",
       "version_major": 2,
       "version_minor": 0
      },
      "text/plain": [
       "WebGuiWidget(layout=Layout(height='50vh', width='100%'), value={'gui_settings': {}, 'ngsolve_version': '6.2.23…"
      ]
     },
     "metadata": {},
     "output_type": "display_data"
    },
    {
     "name": "stdout",
     "output_type": "stream",
     "text": [
      "L2-error: 0.8229191975754475\n"
     ]
    },
    {
     "data": {
      "application/vnd.jupyter.widget-view+json": {
       "model_id": "7a356a087bda42d7a769e3a546b45077",
       "version_major": 2,
       "version_minor": 0
      },
      "text/plain": [
       "WebGuiWidget(layout=Layout(height='50vh', width='100%'), value={'gui_settings': {}, 'ngsolve_version': '6.2.23…"
      ]
     },
     "metadata": {},
     "output_type": "display_data"
    },
    {
     "data": {
      "application/vnd.jupyter.widget-view+json": {
       "model_id": "63913f8bdccc419fbefb80a822469496",
       "version_major": 2,
       "version_minor": 0
      },
      "text/plain": [
       "WebGuiWidget(layout=Layout(height='50vh', width='100%'), value={'gui_settings': {}, 'ngsolve_version': '6.2.23…"
      ]
     },
     "metadata": {},
     "output_type": "display_data"
    },
    {
     "name": "stdout",
     "output_type": "stream",
     "text": [
      "L2-error: 0.8229271014892526\n"
     ]
    },
    {
     "data": {
      "application/vnd.jupyter.widget-view+json": {
       "model_id": "160259b92b9e476b8361a25d70c97a69",
       "version_major": 2,
       "version_minor": 0
      },
      "text/plain": [
       "WebGuiWidget(layout=Layout(height='50vh', width='100%'), value={'gui_settings': {}, 'ngsolve_version': '6.2.23…"
      ]
     },
     "metadata": {},
     "output_type": "display_data"
    },
    {
     "data": {
      "application/vnd.jupyter.widget-view+json": {
       "model_id": "4885b0d0cabf4cc4becdebacabecfc9c",
       "version_major": 2,
       "version_minor": 0
      },
      "text/plain": [
       "WebGuiWidget(layout=Layout(height='50vh', width='100%'), value={'gui_settings': {}, 'ngsolve_version': '6.2.23…"
      ]
     },
     "metadata": {},
     "output_type": "display_data"
    },
    {
     "name": "stdout",
     "output_type": "stream",
     "text": [
      "L2-error: 0.8229271106560385\n"
     ]
    },
    {
     "data": {
      "application/vnd.jupyter.widget-view+json": {
       "model_id": "07ce2cea16c54b6ab94b8650d701b794",
       "version_major": 2,
       "version_minor": 0
      },
      "text/plain": [
       "WebGuiWidget(layout=Layout(height='50vh', width='100%'), value={'gui_settings': {}, 'ngsolve_version': '6.2.23…"
      ]
     },
     "metadata": {},
     "output_type": "display_data"
    },
    {
     "data": {
      "application/vnd.jupyter.widget-view+json": {
       "model_id": "bcb819ee3949442891e6f67699101ff0",
       "version_major": 2,
       "version_minor": 0
      },
      "text/plain": [
       "WebGuiWidget(layout=Layout(height='50vh', width='100%'), value={'gui_settings': {}, 'ngsolve_version': '6.2.23…"
      ]
     },
     "metadata": {},
     "output_type": "display_data"
    },
    {
     "name": "stdout",
     "output_type": "stream",
     "text": [
      "L2-error: 0.8229271104435444\n"
     ]
    }
   ],
   "source": [
    "l2_errors = [ ]\n",
    "# Fixed point iteration \n",
    "maxiter = 5 \n",
    "for i in range(maxiter): \n",
    "    l2err = SolveOseen(beta_prev)\n",
    "    l2_errors.append(l2err) "
   ]
  },
  {
   "cell_type": "code",
   "execution_count": 19,
   "metadata": {},
   "outputs": [
    {
     "data": {
      "text/plain": [
       "[0.8234928585675927,\n",
       " 0.8229191975754475,\n",
       " 0.8229271014892526,\n",
       " 0.8229271106560385,\n",
       " 0.8229271104435444]"
      ]
     },
     "execution_count": 19,
     "metadata": {},
     "output_type": "execute_result"
    }
   ],
   "source": [
    "l2_errors"
   ]
  },
  {
   "cell_type": "code",
   "execution_count": 20,
   "metadata": {},
   "outputs": [
    {
     "name": "stdout",
     "output_type": "stream",
     "text": [
      "[0.0005657481240483042, 7.912868096870973e-06, 8.954291752516497e-09, 2.1249413340029832e-10]\n"
     ]
    }
   ],
   "source": [
    "print([ abs(l2_errors[i] - l2_errors[-1] ) for i in range(len(l2_errors)-1 ) ])"
   ]
  },
  {
   "cell_type": "code",
   "execution_count": 21,
   "metadata": {},
   "outputs": [
    {
     "name": "stdout",
     "output_type": "stream",
     "text": [
      "[-0.9951401442749396, 0.9276661203241289, 2.525505418920296]\n"
     ]
    }
   ],
   "source": [
    "# Oseen pardiso failed for N=16\n",
    "# l2_errors = [0.8250961364400698,0.9787851609597009,0.34084671037149683, 0.10168199089645942 ]\n",
    "l2_errors = [0.8229271104435444,1.6403193317390699, 0.8623291657013326, 0.149768399853506 ]\n",
    "#hm = [ 0.8,0.4,0.2,0.1,0.05]\n",
    "#Ns = [1,2,4,8,16]\n",
    "eoc = [ log(l2_errors[i-1]/l2_errors[i])/log(2) for i in range(1,len(l2_errors))]\n",
    "print(eoc)"
   ]
  },
  {
   "cell_type": "code",
   "execution_count": null,
   "metadata": {},
   "outputs": [],
   "source": []
  }
 ],
 "metadata": {
  "kernelspec": {
   "display_name": "Python 3 (ipykernel)",
   "language": "python",
   "name": "python3"
  },
  "language_info": {
   "codemirror_mode": {
    "name": "ipython",
    "version": 3
   },
   "file_extension": ".py",
   "mimetype": "text/x-python",
   "name": "python",
   "nbconvert_exporter": "python",
   "pygments_lexer": "ipython3",
   "version": "3.7.9"
  }
 },
 "nbformat": 4,
 "nbformat_minor": 2
}
