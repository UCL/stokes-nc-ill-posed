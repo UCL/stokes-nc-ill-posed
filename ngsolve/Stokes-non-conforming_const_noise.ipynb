{
 "cells": [
  {
   "cell_type": "markdown",
   "metadata": {},
   "source": [
    "Stokes Equation\n",
    "==="
   ]
  },
  {
   "cell_type": "markdown",
   "metadata": {},
   "source": [
    "Import Netgen/NGSolve Python modules:"
   ]
  },
  {
   "cell_type": "code",
   "execution_count": 1,
   "metadata": {},
   "outputs": [],
   "source": [
    "from ngsolve import *\n",
    "from netgen.geom2d import SplineGeometry\n",
    "from ngsolve.webgui import Draw\n",
    "from math import log\n",
    "import numpy as np\n",
    "import scipy.sparse as sp\n",
    "import matplotlib.pyplot as plt"
   ]
  },
  {
   "cell_type": "code",
   "execution_count": 2,
   "metadata": {},
   "outputs": [],
   "source": [
    "N = 16\n",
    "T = 0.2\n",
    "tau = T/N \n",
    "gamma0 = 1e-2\n",
    "gamma1 = 1\n",
    "gamma_dual = 1e-5\n",
    "gamma_M = 1e3\n",
    "maxh = 0.0375\n",
    "solver = \"pardiso\"\n",
    "noise_lvl = 0.0\n",
    "constant_noise_data = 2e-1\n",
    "#constant_noise_data = 2e-1\n",
    "epsilon = T/2\n",
    "sample_points = np.linspace(epsilon,T,100)"
   ]
  },
  {
   "cell_type": "code",
   "execution_count": 3,
   "metadata": {},
   "outputs": [],
   "source": [
    "class quad_rule:\n",
    "    def __init__(self,name,npoints):\n",
    "        self.name = name\n",
    "        self.npoints = npoints\n",
    "\n",
    "        gauss_lobatto = {\n",
    "            3: ( [ -1, 0, 1 ],\n",
    "                 [ 1/3, 4/3, 1/3 ] ),\n",
    "            4: ( [ -1, -np.sqrt(1/5), np.sqrt(1/5), 1],\n",
    "                 [ 1/6, 5/6, 5/6, 1/6 ] ),\n",
    "            5: ( [ -1, -(1/7)*np.sqrt(21),0.0, (1/7)*np.sqrt(21), 1.0 ],\n",
    "                 [ 1/10,49/90,32/45, 49/90, 1/10  ] ),\n",
    "            6: ( [ -1, -np.sqrt((1/21)*(7+2*np.sqrt(7))), -np.sqrt((1/21)*(7-2*np.sqrt(7))), np.sqrt((1/21)*(7-2*np.sqrt(7))), np.sqrt((1/21)*(7+2*np.sqrt(7))), 1.0 ],\n",
    "                 [ 1/15, (1/30)*(14-np.sqrt(7)), (1/30)*(14+np.sqrt(7)), (1/30)*(14+np.sqrt(7)), (1/30)*(14-np.sqrt(7)),  1/15 ] ),\n",
    "        }\n",
    "\n",
    "        if name == \"Gauss-Lobatto\":\n",
    "            self.points = gauss_lobatto[npoints][0]\n",
    "            self.weights = gauss_lobatto[npoints][1]\n",
    "        \n",
    "    def current_pts(self,a,b):\n",
    "        if self.name == \"Gauss-Radau\" or self.name == \"Gauss\" or self.name == \"Gauss-Lobatto\":\n",
    "            return [0.5*(b-a) * pt + 0.5*(b+a)  for pt in self.points]\n",
    "    \n",
    "    def t_weights(self,delta_t):\n",
    "        if self.name == \"Gauss-Radau\" or self.name == \"Gauss\" or self.name == \"Gauss-Lobatto\":\n",
    "            return [0.5*delta_t*w for w in self.weights]"
   ]
  },
  {
   "cell_type": "code",
   "execution_count": 4,
   "metadata": {},
   "outputs": [],
   "source": [
    "qr = quad_rule(\"Gauss-Lobatto\",5)"
   ]
  },
  {
   "cell_type": "markdown",
   "metadata": {},
   "source": [
    "The unit_square is a predefined domain, use Netgen to generate a mesh:"
   ]
  },
  {
   "cell_type": "code",
   "execution_count": 5,
   "metadata": {},
   "outputs": [],
   "source": [
    "def freedofs_converter(fd):\n",
    "    frees = [] \n",
    "    for i in range(len(fd)):\n",
    "        if fd[i]:\n",
    "            frees.append(i)\n",
    "    return frees\n",
    "\n",
    "def cond_est(a,frees):\n",
    "    rows,cols,vals = a.mat.COO()\n",
    "    A = sp.csr_matrix((vals,(rows,cols)))\n",
    "    A_red = A.todense()[frees,:][:,frees] \n",
    "    return np.linalg.cond(A_red)"
   ]
  },
  {
   "cell_type": "code",
   "execution_count": 6,
   "metadata": {},
   "outputs": [],
   "source": [
    "def GetMeshDataAllAround(maxh):\n",
    "    geo = SplineGeometry()\n",
    "    # data domain\n",
    "    p1 = geo.AppendPoint (0,0)\n",
    "    p2 = geo.AppendPoint (1,0)\n",
    "    p4 = geo.AppendPoint (0.75,0.75)\n",
    "    p5 = geo.AppendPoint (0.75,0.25)\n",
    "    p6 = geo.AppendPoint (0.25,0.25)\n",
    "    p7 = geo.AppendPoint (0.25,0.75)\n",
    "    p11 = geo.AppendPoint(1.0,1.0)\n",
    "    p12 = geo.AppendPoint(0.0,1.0)\n",
    "    # omega\n",
    "    geo.Append ([\"line\", p1, p2], leftdomain=1, rightdomain=0,bc=\"bc_Omega\")\n",
    "    geo.Append ([\"line\", p2, p11], leftdomain=1, rightdomain=0,bc=\"bc_Omega\")\n",
    "    geo.Append ([\"line\", p11, p12], leftdomain=1, rightdomain=0,bc=\"bc_Omega\")\n",
    "    geo.Append ([\"line\", p12, p1], leftdomain=1, rightdomain=0,bc=\"bc_Omega\")\n",
    "    # only_B\n",
    "    geo.Append ([\"line\", p6, p5], leftdomain=2, rightdomain=1)\n",
    "    geo.Append ([\"line\", p5, p4], leftdomain=2, rightdomain=1)\n",
    "    geo.Append ([\"line\", p4, p7], leftdomain=2, rightdomain=1)\n",
    "    geo.Append ([\"line\", p7, p6], leftdomain=2, rightdomain=1)\n",
    "    geo.SetMaterial(1, \"omega\")\n",
    "    geo.SetMaterial(2, \"only_B\")\n",
    "    return geo.GenerateMesh(maxh=maxh)"
   ]
  },
  {
   "cell_type": "code",
   "execution_count": 7,
   "metadata": {},
   "outputs": [],
   "source": [
    "def GetMeshDataLeft(maxh):\n",
    "    geo = SplineGeometry()\n",
    "    p1 = geo.AppendPoint (0,0)\n",
    "    p2 = geo.AppendPoint (0.25,0)\n",
    "    p3 = geo.AppendPoint (0.25,1)\n",
    "    p4 = geo.AppendPoint (0,1)\n",
    "    p5 = geo.AppendPoint (1,0)\n",
    "    p6 = geo.AppendPoint (1,1)\n",
    "    # omega \n",
    "    geo.Append ([\"line\", p1, p2], leftdomain=1, rightdomain=0,bc=\"bc_Omega\")\n",
    "    geo.Append ([\"line\", p2, p3], leftdomain=1, rightdomain=2)\n",
    "    geo.Append ([\"line\", p3, p4], leftdomain=1, rightdomain=0,bc=\"bc_Omega\")\n",
    "    geo.Append ([\"line\", p4, p1], leftdomain=1, rightdomain=0,bc=\"bc_Omega\")\n",
    "    # only_B \n",
    "    geo.Append ([\"line\", p2, p5], leftdomain=2, rightdomain=0,bc=\"bc_Omega\")\n",
    "    geo.Append ([\"line\", p5, p6], leftdomain=2, rightdomain=0,bc=\"bc_Omega\")\n",
    "    geo.Append ([\"line\", p6, p3], leftdomain=2, rightdomain=0,bc=\"bc_Omega\")\n",
    "    geo.SetMaterial(1, \"omega\")\n",
    "    geo.SetMaterial(2, \"only_B\")\n",
    "    return geo.GenerateMesh(maxh=maxh)"
   ]
  },
  {
   "cell_type": "code",
   "execution_count": 8,
   "metadata": {},
   "outputs": [
    {
     "data": {
      "application/vnd.jupyter.widget-view+json": {
       "model_id": "34f29e1ddbae49a8a7d85457e165f640",
       "version_major": 2,
       "version_minor": 0
      },
      "text/plain": [
       "WebGuiWidget(layout=Layout(height='50vh', width='100%'), value={'gui_settings': {}, 'ngsolve_version': '6.2.24…"
      ]
     },
     "metadata": {},
     "output_type": "display_data"
    }
   ],
   "source": [
    "mesh = Mesh(GetMeshDataAllAround(maxh) )\n",
    "h = specialcf.mesh_size\n",
    "n = specialcf.normal(2)\n",
    "Draw (mesh);"
   ]
  },
  {
   "cell_type": "code",
   "execution_count": 9,
   "metadata": {},
   "outputs": [],
   "source": [
    "t = Parameter(0.0)\n",
    "\n",
    "noise_t = exp(-t)\n",
    "\n",
    "u_sol = CoefficientFunction( (  2*x**2*y*(2*y-1)*(x-1)**2*(y-1)*exp(-t), \n",
    "                            -2*x*y**2*(2*x-1)*(x-1)*(y-1)**2*exp(-t) ) )\n",
    "\n",
    "grad_u_sol_x = CoefficientFunction( (  (2*(4*x**3-6*x**2+2*x))*(2*y**3-3*y**2+y)*exp(-t), \n",
    "                             (2*(x**4-2*x**3+x**2)*(6*y**2-6*y+1))*exp(-t) ) )\n",
    "grad_u_sol_y = CoefficientFunction( (-2*(6*x**2-6*x+1)*(y**4-2*y**3+y**2) *exp(-t), \n",
    "                            -2*(2*x**3-3*x**2+x)*(4*y**3-6*y**2+2*y)*exp(-t)) ) \n",
    "\n",
    "p_sol = (2*cos(x)*sin(y) - 2*sin(1)*(1 - cos(1)))*exp(-t) \n",
    "rhs = CoefficientFunction( ( 2*(-x**2*y*(x - 1)**2*(y - 1)*(2*y - 1) + 6*x**2*(1 - 2*y)*(x - 1)**2 \n",
    "              - 2*y*(y - 1)*(2*y - 1)*(x**2 + 4*x*(x - 1) + (x - 1)**2) - sin(x)*sin(y))*exp(-t)  , \n",
    "                           2*(x*y**2*(x - 1)*(2*x - 1)*(y - 1)**2 + 2*x*(x - 1)*(2*x - 1)*(y**2 + 4*y*(y - 1) \n",
    "                    + (y - 1)**2) + 6*y**2*(2*x - 1)*(y - 1)**2 + cos(x)*cos(y))*exp(-t)\n",
    "                           )  ) #+ CoefficientFunction( ( noise_lvl_direct/sqrt(T)  ,  0.0     )  )"
   ]
  },
  {
   "cell_type": "markdown",
   "metadata": {},
   "source": [
    "Define a finite element space on that mesh. "
   ]
  },
  {
   "cell_type": "code",
   "execution_count": 10,
   "metadata": {},
   "outputs": [
    {
     "name": "stdout",
     "output_type": "stream",
     "text": [
      "X-ndof = 210308\n"
     ]
    }
   ],
   "source": [
    "#fes = H1(mesh, order=3, dirichlet=\"left|right|bottom|top\")\n",
    "fes_NC = FESpace(\"nonconforming\",mesh, dirichlet=\"bc_Omega\", dgjumps = True) \n",
    "fes_lam = NumberSpace(mesh)\n",
    "fes_L2 = L2(mesh, order=0)\n",
    "fes_primal_vel = FESpace([fes_NC*fes_NC for i in range(N+1) ])\n",
    "fes_primal_pressure = FESpace([ fes_L2 for i in range(N+1) ])\n",
    "fes_dual_vel = FESpace([fes_NC*fes_NC for i in range(N) ])\n",
    "fes_dual_pressure = FESpace([ fes_L2 for i in range(N) ])\n",
    "fes_primal_lam = FESpace([fes_lam for i in range(N)])\n",
    "fes_dual_lam = FESpace([fes_lam for i in range(N)])\n",
    "X = FESpace( [fes_primal_vel, fes_primal_pressure,fes_primal_lam, fes_dual_vel, fes_dual_pressure,fes_dual_lam])\n",
    "print (\"X-ndof = {0}\".format(X.ndof ))"
   ]
  },
  {
   "cell_type": "code",
   "execution_count": 11,
   "metadata": {},
   "outputs": [],
   "source": [
    "u, pp, llam, zz, yyy, xxi =  X.TrialFunction()\n",
    "v, qq, mmu, ww, xxx, eeta =  X.TestFunction()\n",
    "#print(len(u[0]) )\n",
    "#print\n",
    "\n",
    "p = [pp[i] for i in range(len(pp)) ]\n",
    "z = [None] + [zz[i] for i in range(len(zz)) ]\n",
    "yy = [None] + [yyy[i] for i in range(len(yyy)) ]\n",
    "lam = [None] + [llam[i] for i in range(len(llam)) ]\n",
    "xi = [None] + [xxi[i] for i in range(len(xxi)) ]\n",
    "\n",
    "q = [qq[i] for i in range(len(qq)) ]\n",
    "w = [None] + [ww[i] for i in range(len(ww)) ]\n",
    "xx = [None] + [xxx[i] for i in range(len(xxx)) ]\n",
    "mu = [None] + [mmu[i] for i in range(len(mmu)) ]\n",
    "eta = [None] + [eeta[i] for i in range(len(eeta)) ]"
   ]
  },
  {
   "cell_type": "code",
   "execution_count": 12,
   "metadata": {},
   "outputs": [],
   "source": [
    "def IP(u,v,nabla=False):\n",
    "    if nabla:\n",
    "        return sum( [ grad(u[i])*grad(v[i]) for i in range(len(u))] )\n",
    "    else:\n",
    "        return sum( [u[i]*v[i] for i in range(len(u))] )\n",
    "def IP_ut_v(u_cur,u_prev,v):\n",
    "    return sum( [ (u_cur[i] - u_prev[i] ) * v[i] for i in range(len(u_cur))] )\n",
    "    #help(IP(u[0],v[0]))\n",
    "def IP_mixed_stab(u_cur,u_prev,v_cur,v_prev):\n",
    "    return sum( [ ( grad(u_cur[i]) - grad(u_prev[i]) ) * ( grad(v_cur[i]) - grad(v_prev[i]) )  for i in range(len(u_cur))] )\n",
    "\n",
    "def IP_CIP(u,v):\n",
    "    return sum( [ (u[i] - u[i].Other()) * (v[i] - v[i].Other()) for i in range(len(u))  ] )\n",
    "\n",
    "def IP_divu_q(u,q):\n",
    "    u1_dx = grad(u[0])[0]\n",
    "    u2_dy = grad(u[1])[1]\n",
    "    div_u = u1_dx + u2_dy\n",
    "    return div_u * q  "
   ]
  },
  {
   "cell_type": "code",
   "execution_count": 13,
   "metadata": {},
   "outputs": [],
   "source": [
    "a = BilinearForm(X,symmetric=False)\n",
    "\n",
    "# add mean value pressure constraint \n",
    "for i in range(1,N+1):\n",
    "    a += (mu[i] * p[i] + lam[i] * q[i]) * dx  \n",
    "    a += (eta[i] * yy[i] + xi[i] * xx[i]) * dx \n",
    "\n",
    "# divergence zero constraint for initial data\n",
    "a +=  IP_divu_q(u[0],q[0]) * dx \n",
    "a +=  (-1)*IP_divu_q(v[0],p[0]) * dx \n",
    "    \n",
    "# A1 \n",
    "for i in range(1,N+1):\n",
    "    a += IP_ut_v(u[i],u[i-1],w[i]) * dx\n",
    "    a += tau * IP(u[i],w[i],nabla=True) * dx \n",
    "    a += tau *(-1)*IP_divu_q(w[i],p[i]) * dx\n",
    "    a += tau * IP_divu_q(u[i],xx[i]) * dx \n",
    "\n",
    "# A2 \n",
    "a += gamma0 * h**2 * IP(u[0],v[0],nabla=True) * dx\n",
    "for i in range(1,N+1):\n",
    "#     a += gamma_M * tau * IP(u[i],v[i]) * dx(definedon=mesh.Materials(\"omega\"))\n",
    "    a += gamma_M * tau * IP(u[i],v[i]) * dx(definedon=mesh.Materials(\"only_B\"))\n",
    "    a += gamma1 * tau * IP_mixed_stab(u[i],u[i-1],v[i],v[i-1]) * dx \n",
    "    a +=  tau * (1/h) *  IP_CIP(u[i],v[i]) * dx(skeleton=True)\n",
    "    a += IP_ut_v(v[i],v[i-1],z[i]) * dx\n",
    "    a += tau * IP(v[i],z[i],nabla=True) * dx \n",
    "    \n",
    "    a += (-1)*IP_divu_q(z[i],q[i]) * dx \n",
    "    a += IP_divu_q(v[i],yy[i]) * dx"
   ]
  },
  {
   "cell_type": "code",
   "execution_count": 14,
   "metadata": {},
   "outputs": [],
   "source": [
    "if abs(noise_lvl) > 1e-15:\n",
    "    #V_perturb = H1(mesh, order=1, dirichlet=\"bc_Omega\")\n",
    "    V_perturb = L2(mesh, order=0)\n",
    "    fes_perturb = FESpace([V_perturb * V_perturb  for i in range(N) ])\n",
    "    data_perturb = GridFunction(fes_perturb)\n",
    "    rhs_perturb  = GridFunction(fes_perturb)\n",
    "    # fill in vector with random values\n",
    "    data_perturb.vec.FV().NumPy()[:] = np.random.rand(len( data_perturb.vec.FV().NumPy()) )[:] \n",
    "    rhs_perturb.vec.FV().NumPy()[:] = np.random.rand(len( rhs_perturb.vec.FV().NumPy()) )[:] \n",
    "    #data_perturb.vec.FV().NumPy()[:] = 1.0 \n",
    "    #rhs_perturb.vec.FV().NumPy()[:] = 1.0\n",
    "    # compute L2L2 norm and normalize to one \n",
    "    norm_perturb = 0.0\n",
    "    for i in range(N):\n",
    "        t.Set(tau*i)\n",
    "        for j in range(2):\n",
    "            norm_perturb += Integrate(  data_perturb.components[i].components[j]**2  , mesh, definedon=mesh.Materials(\"only_B\"))\n",
    "            norm_perturb += Integrate(  rhs_perturb.components[i].components[j]**2  , mesh)\n",
    "    norm_perturb = sqrt(tau * norm_perturb)\n",
    "    print(\"norm_perturbations =\", norm_perturb)\n",
    "    data_perturb.vec.FV().NumPy()[:] *= noise_lvl/norm_perturb\n",
    "    rhs_perturb.vec.FV().NumPy()[:] *= noise_lvl/norm_perturb\n",
    "    \n",
    "    norm_perturb = 0.0\n",
    "    for i in range(N):\n",
    "        t.Set(tau*i)\n",
    "        for j in range(2):\n",
    "            norm_perturb += Integrate(  data_perturb.components[i].components[j]**2  , mesh, definedon=mesh.Materials(\"only_B\"))\n",
    "            norm_perturb += Integrate(  rhs_perturb.components[i].components[j]**2  , mesh)\n",
    "    norm_perturb = sqrt(tau * norm_perturb)\n",
    "    print(\"norm_perturbations =\", norm_perturb)\n"
   ]
  },
  {
   "cell_type": "code",
   "execution_count": 15,
   "metadata": {},
   "outputs": [],
   "source": [
    "f = LinearForm(X)\n",
    "for i in range(1,N+1):\n",
    "    t.Set(tau*i)\n",
    "    f += tau * IP(w[i],rhs,nabla=False)  * dx\n",
    "#     f +=  gamma_M * tau * IP(v[i],u_sol) * dx(definedon=mesh.Materials(\"omega\"))\n",
    "    #f +=  gamma_M * tau * IP(v[i],u_sol) * dx(definedon=mesh.Materials(\"only_B\"))\n",
    "    f +=  gamma_M * tau * IP(v[i],u_sol) * dx(definedon=mesh.Materials(\"only_B\"))\n",
    "    \n",
    "    \n",
    "    #f +=  gamma_M * tau * IP(v[i],noise_lvl * CoefficientFunction((1.0,1.0))) * dx\n",
    "    #only_B\n",
    "    # data perturbation \n",
    "    if constant_noise_data:\n",
    "        omega_vol = Integrate( 1.0 , mesh,definedon=mesh.Materials(\"only_B\"))\n",
    "        f +=  gamma_M * tau * IP(v[i],constant_noise_data/sqrt(T*omega_vol)*CoefficientFunction( ( 1/sqrt(2)  ,  1/sqrt(2)     )  )) * dx(definedon=mesh.Materials(\"only_B\"))  \n",
    "    if abs(noise_lvl) > 1e-15:\n",
    "        for j in range(2):\n",
    "            #print(\"i = {0}, j = {1}\".format(i,j))\n",
    "            f += gamma_M *  tau * v[i][j] * data_perturb.components[i-1].components[j]  * dx(definedon=mesh.Materials(\"only_B\"))\n",
    "            f +=  tau * w[i][j] * rhs_perturb.components[i-1].components[j] * dx\n",
    "\n",
    "with TaskManager():\n",
    "    a.Assemble()\n",
    "    f.Assemble()"
   ]
  },
  {
   "cell_type": "markdown",
   "metadata": {},
   "source": [
    "Solve the problem:"
   ]
  },
  {
   "cell_type": "code",
   "execution_count": 16,
   "metadata": {},
   "outputs": [],
   "source": [
    "gfu = GridFunction(X)"
   ]
  },
  {
   "cell_type": "code",
   "execution_count": 17,
   "metadata": {},
   "outputs": [],
   "source": [
    "gfu = GridFunction(X)\n",
    "gfu.vec.data = a.mat.Inverse(X.FreeDofs(),inverse=solver) * f.vec"
   ]
  },
  {
   "cell_type": "code",
   "execution_count": 18,
   "metadata": {},
   "outputs": [
    {
     "data": {
      "application/vnd.jupyter.widget-view+json": {
       "model_id": "06e8ee0d946d40e088e58c0664b2c496",
       "version_major": 2,
       "version_minor": 0
      },
      "text/plain": [
       "WebGuiWidget(layout=Layout(height='50vh', width='100%'), value={'gui_settings': {}, 'ngsolve_version': '6.2.24…"
      ]
     },
     "metadata": {},
     "output_type": "display_data"
    },
    {
     "data": {
      "application/vnd.jupyter.widget-view+json": {
       "model_id": "57b1ea2874bd492396c9e32983df4e37",
       "version_major": 2,
       "version_minor": 0
      },
      "text/plain": [
       "WebGuiWidget(layout=Layout(height='50vh', width='100%'), value={'gui_settings': {}, 'ngsolve_version': '6.2.24…"
      ]
     },
     "metadata": {},
     "output_type": "display_data"
    }
   ],
   "source": [
    "uhx = gfu.components[0].components[N].components[0]\n",
    "uhy = gfu.components[0].components[N].components[1]\n",
    "uh = [uhx,uhy]\n",
    "p_primal = gfu.components[1].components[N]\n",
    "p_dual = gfu.components[4].components[N-1]\n",
    "t.Set(tau*N)\n",
    "Draw (uhx, mesh);\n",
    "Draw (u_sol[0] , mesh);"
   ]
  },
  {
   "cell_type": "markdown",
   "metadata": {},
   "source": [
    "Plot the solution:"
   ]
  },
  {
   "cell_type": "code",
   "execution_count": 19,
   "metadata": {},
   "outputs": [
    {
     "data": {
      "application/vnd.jupyter.widget-view+json": {
       "model_id": "83fb8eea9518432296cf20ad32131a07",
       "version_major": 2,
       "version_minor": 0
      },
      "text/plain": [
       "WebGuiWidget(layout=Layout(height='50vh', width='100%'), value={'gui_settings': {}, 'ngsolve_version': '6.2.24…"
      ]
     },
     "metadata": {},
     "output_type": "display_data"
    },
    {
     "data": {
      "application/vnd.jupyter.widget-view+json": {
       "model_id": "a435aadf1ada4de4a5557a8738758e14",
       "version_major": 2,
       "version_minor": 0
      },
      "text/plain": [
       "WebGuiWidget(layout=Layout(height='50vh', width='100%'), value={'gui_settings': {}, 'ngsolve_version': '6.2.24…"
      ]
     },
     "metadata": {},
     "output_type": "display_data"
    }
   ],
   "source": [
    "t.Set(tau*0)\n",
    "uhx = gfu.components[0].components[0].components[0]\n",
    "uhy = gfu.components[0].components[0].components[1]\n",
    "Draw (uhx, mesh);\n",
    "Draw (u_sol[0] , mesh);\n",
    "#Draw (uhy, mesh);\n",
    "#Draw (u_sol[1] , mesh);"
   ]
  },
  {
   "cell_type": "markdown",
   "metadata": {},
   "source": [
    "Calculate error:"
   ]
  },
  {
   "cell_type": "code",
   "execution_count": 20,
   "metadata": {},
   "outputs": [
    {
     "name": "stdout",
     "output_type": "stream",
     "text": [
      "pressure primal mean : 2.5587914775850214e-11\n",
      "pressure dual mean : -6.725924071165901e-14\n",
      "divergence uh : 9.879163609144697e-17\n"
     ]
    }
   ],
   "source": [
    "# compute mean value of pressure \n",
    "print (\"pressure primal mean :\", Integrate(p_primal, mesh)  )\n",
    "print (\"pressure dual mean :\", Integrate( p_dual, mesh)  )\n",
    "print (\"divergence uh :\", Integrate(  grad(uhx)[0] + grad(uhy)[1]  , mesh)  )"
   ]
  },
  {
   "cell_type": "code",
   "execution_count": 21,
   "metadata": {
    "scrolled": true
   },
   "outputs": [
    {
     "name": "stdout",
     "output_type": "stream",
     "text": [
      "L2 error velocity at time step 0 = 1.2401777828575051\n",
      "L2 error pressure at time step 0 = 1500.5727925760368\n",
      "L2 error velocity at time step 1 = 0.5586620243073925\n",
      "L2 error pressure at time step 1 = 12.381863413069496\n",
      "L2 error velocity at time step 2 = 0.2576512251317578\n",
      "L2 error pressure at time step 2 = 5.2576240544678265\n",
      "L2 error velocity at time step 3 = 0.11971357177758694\n",
      "L2 error pressure at time step 3 = 2.308007239066437\n",
      "L2 error velocity at time step 4 = 0.0557619134935369\n",
      "L2 error pressure at time step 4 = 1.0280940541779509\n",
      "L2 error velocity at time step 5 = 0.026009729264441936\n",
      "L2 error pressure at time step 5 = 0.4597905870818431\n",
      "L2 error velocity at time step 6 = 0.012161672027181273\n",
      "L2 error pressure at time step 6 = 0.212562286243071\n",
      "L2 error velocity at time step 7 = 0.005729339383087109\n",
      "L2 error pressure at time step 7 = 0.11871913973042125\n",
      "L2 error velocity at time step 8 = 0.0027655792499794657\n",
      "L2 error pressure at time step 8 = 0.09212606633579191\n",
      "L2 error velocity at time step 9 = 0.0014320032861392465\n",
      "L2 error pressure at time step 9 = 0.08327102806982471\n",
      "L2 error velocity at time step 10 = 0.000857742206540319\n",
      "L2 error pressure at time step 10 = 0.07570081743106487\n",
      "L2 error velocity at time step 11 = 0.0006094650941450523\n",
      "L2 error pressure at time step 11 = 0.06700458101455449\n",
      "L2 error velocity at time step 12 = 0.0004789157731495965\n",
      "L2 error pressure at time step 12 = 0.057560789530907354\n",
      "L2 error velocity at time step 13 = 0.000385813900914581\n",
      "L2 error pressure at time step 13 = 0.048043312324819565\n",
      "L2 error velocity at time step 14 = 0.0003061119444623705\n",
      "L2 error pressure at time step 14 = 0.03921545240525444\n",
      "L2 error velocity at time step 15 = 0.000234970865657084\n",
      "L2 error pressure at time step 15 = 0.0322143449187426\n",
      "L2 error velocity at time step 16 = 0.00017573909532509708\n",
      "L2 error pressure at time step 16 = 0.028802789652156185\n",
      "\n",
      " L2 error velocity at time steps =  [1.2401777828575051, 0.5586620243073925, 0.2576512251317578, 0.11971357177758694, 0.0557619134935369, 0.026009729264441936, 0.012161672027181273, 0.005729339383087109, 0.0027655792499794657, 0.0014320032861392465, 0.000857742206540319, 0.0006094650941450523, 0.0004789157731495965, 0.000385813900914581, 0.0003061119444623705, 0.000234970865657084, 0.00017573909532509708]\n",
      "\n",
      " L2 error pressure at time steps =  [1500.5727925760368, 12.381863413069496, 5.2576240544678265, 2.308007239066437, 1.0280940541779509, 0.4597905870818431, 0.212562286243071, 0.11871913973042125, 0.09212606633579191, 0.08327102806982471, 0.07570081743106487, 0.06700458101455449, 0.057560789530907354, 0.048043312324819565, 0.03921545240525444, 0.0322143449187426, 0.028802789652156185]\n"
     ]
    }
   ],
   "source": [
    "l2_errors_at_nodes = []\n",
    "l2_errors_pressure_at_nodes = []\n",
    "for n in range(0,N+1):\n",
    "    t.Set(n*tau)\n",
    "    uhx = gfu.components[0].components[n].components[0]\n",
    "    uhy = gfu.components[0].components[n].components[1]\n",
    "    u_error= sqrt(Integrate( (u_sol[0]-uhx)**2 + (u_sol[1]-uhy)**2 , mesh))\n",
    "    u_ref=sqrt(Integrate( (u_sol[0])**2 + (u_sol[1])**2 , mesh))\n",
    "    #l2_errors_at_nodes.append(u_error/u_ref)\n",
    "    l2_errors_at_nodes.append(u_error)\n",
    "    print(\"L2 error velocity at time step {0} = {1}\".format(n,l2_errors_at_nodes[-1] ))\n",
    "    \n",
    "    if n >= 0: \n",
    "        p_primal = gfu.components[1].components[n]\n",
    "        p_error= sqrt(Integrate( (p_sol-p_primal)**2  , mesh))\n",
    "        p_ref= sqrt(Integrate( (p_sol)**2  , mesh))\n",
    "        l2_errors_pressure_at_nodes.append(p_error/p_ref)\n",
    "        print(\"L2 error pressure at time step {0} = {1}\".format(n,l2_errors_pressure_at_nodes[-1] ))\n",
    "    \n",
    "print(\"\\n L2 error velocity at time steps = \",l2_errors_at_nodes  )  \n",
    "print(\"\\n L2 error pressure at time steps = \",l2_errors_pressure_at_nodes  )  "
   ]
  },
  {
   "cell_type": "code",
   "execution_count": 22,
   "metadata": {},
   "outputs": [],
   "source": [
    "def get_linear_interpolation(n,t_sample,t_n,t_nn,take_gradient=False): \n",
    "    if take_gradient:\n",
    "        uhx_n = grad(gfu.components[0].components[n].components[0])\n",
    "        uhy_n = grad(gfu.components[0].components[n].components[1])\n",
    "        uhx_nn = grad(gfu.components[0].components[n+1].components[0])\n",
    "        uhy_nn = grad(gfu.components[0].components[n+1].components[1])\n",
    "    else:\n",
    "        uhx_n = gfu.components[0].components[n].components[0]\n",
    "        uhy_n = gfu.components[0].components[n].components[1]\n",
    "        uhx_nn = gfu.components[0].components[n+1].components[0]\n",
    "        uhy_nn = gfu.components[0].components[n+1].components[1]\n",
    "    uhx_at_t_sample = uhx_nn * (t_sample-t_n)/tau +  uhx_n * (t_nn-t_sample  )/tau\n",
    "    uhy_at_t_sample = uhy_nn * (t_sample-t_n)/tau +  uhy_n * (t_nn-t_sample  )/tau\n",
    "    return uhx_at_t_sample, uhy_at_t_sample"
   ]
  },
  {
   "cell_type": "code",
   "execution_count": 23,
   "metadata": {},
   "outputs": [
    {
     "name": "stdout",
     "output_type": "stream",
     "text": [
      "max(l2_norm_at_sample_points) =  0.0027655792499794653\n",
      "l2_err at t = [0,T/8,T/4,T/2,T] = [1.2401777828575054, 0.2576512251317579, 0.055761913493536895, 0.0027655792499794653, 0.0001757390953250937]\n",
      "l2_norm_time_nabla  0.004380538220150837\n",
      "delta norm =   0.0071461174701303014\n"
     ]
    }
   ],
   "source": [
    "# measuring delta norm\n",
    "l2_norm_at_sample_points = [ ]\n",
    "for t_sample in sample_points:\n",
    "    #print(\"t_sample =\", t_sample)\n",
    "    for n in range(0,N):\n",
    "        t_n = n*tau\n",
    "        t_nn = (n+1)*tau\n",
    "        if t_sample >= t_n and t_sample <= t_nn:\n",
    "            #print(\"t_sample = \", t_sample)\n",
    "            t.Set(t_sample)\n",
    "            uhx_at_t_sample, uhy_at_t_sample = get_linear_interpolation(n,t_sample,t_n,t_nn)\n",
    "            u_error_at_sample = sqrt(Integrate( (u_sol[0]-uhx_at_t_sample)**2 + (u_sol[1]-uhy_at_t_sample)**2 , mesh))\n",
    "            l2_norm_at_sample_points.append(u_error_at_sample )\n",
    "#print(\"l2_norm_at_sample_points =\", l2_norm_at_sample_points )   \n",
    "print(\"max(l2_norm_at_sample_points) = \", max(l2_norm_at_sample_points ))\n",
    "\n",
    "l2_err_at_ts = [ ]\n",
    "for t_sample in [0,T/8,T/4,T/2,T]:\n",
    "    for n in range(0,N):\n",
    "        t_n = n*tau\n",
    "        t_nn = (n+1)*tau\n",
    "        bool_right = t_sample < t_nn\n",
    "        if n == N-1:\n",
    "            bool_right = t_sample <= t_nn\n",
    "        if t_sample >= t_n and bool_right:\n",
    "            #print(\"t_sample = \", t_sample)\n",
    "            t.Set(t_sample)\n",
    "            uhx_at_t_sample, uhy_at_t_sample = get_linear_interpolation(n,t_sample,t_n,t_nn)\n",
    "            u_error_at_sample = sqrt(Integrate( (u_sol[0]-uhx_at_t_sample)**2 + (u_sol[1]-uhy_at_t_sample)**2 , mesh))\n",
    "            l2_err_at_ts.append(u_error_at_sample )\n",
    "\n",
    "print(\"l2_err at t = [0,T/8,T/4,T/2,T] =\", l2_err_at_ts)\n",
    "\n",
    "\n",
    "# find out in which interval is epsilon\n",
    "n_epsilon = 0\n",
    "for n in range(0,N):\n",
    "    t_n = n*tau\n",
    "    t_nn = (n+1)*tau\n",
    "    if epsilon >= t_n and epsilon <= t_nn:\n",
    "        n_epsilon = n\n",
    "#print(\"n_epsilon =\", n_epsilon)  \n",
    "    \n",
    "l2_norm_time_nabla = 0 \n",
    "interval_length = (n_epsilon+1)*tau - epsilon \n",
    "t_n = n_epsilon*tau\n",
    "t_nn = (n_epsilon+1)*tau\n",
    "for tau_i,omega_i in zip(qr.current_pts(epsilon,(n_epsilon+1)*tau),qr.t_weights(interval_length)):\n",
    "    t.Set(tau_i )\n",
    "    grad_uhx_at_t_sample, grad_uhy_at_t_sample = get_linear_interpolation(n_epsilon, tau_i,t_n,t_nn,take_gradient=True)\n",
    "    l2_norm_time_nabla += omega_i * Integrate( (grad_uhx_at_t_sample - grad_u_sol_x)*(grad_uhx_at_t_sample - grad_u_sol_x) , mesh)\n",
    "    l2_norm_time_nabla += omega_i * Integrate( (grad_uhy_at_t_sample - grad_u_sol_y)*(grad_uhy_at_t_sample - grad_u_sol_y) , mesh)\n",
    "\n",
    "for n in range(n_epsilon+1,N):\n",
    "    t_n = n*tau\n",
    "    t_nn = (n+1)*tau\n",
    "    for tau_i,omega_i in zip(qr.current_pts(n*tau ,(n+1)*tau),qr.t_weights(tau)):\n",
    "        #print(\"tau_i = \", tau_i)\n",
    "        t.Set(tau_i )\n",
    "        grad_uhx_at_t_sample, grad_uhy_at_t_sample = get_linear_interpolation(n, tau_i,t_n,t_nn,take_gradient=True)\n",
    "        l2_norm_time_nabla += omega_i * Integrate( (grad_uhx_at_t_sample - grad_u_sol_x)*(grad_uhx_at_t_sample - grad_u_sol_x) , mesh)\n",
    "        l2_norm_time_nabla += omega_i * Integrate( (grad_uhy_at_t_sample - grad_u_sol_y)*(grad_uhy_at_t_sample - grad_u_sol_y) , mesh)\n",
    "        #print(\" l2_norm_time_nabla =\", l2_norm_time_nabla)\n",
    "        #print(\"  omega_i  =\",  omega_i )\n",
    "l2_norm_time_nabla = sqrt(l2_norm_time_nabla)\n",
    "print(\"l2_norm_time_nabla \",l2_norm_time_nabla)\n",
    "print(\"delta norm =  \", max(l2_norm_at_sample_points ) + l2_norm_time_nabla )\n",
    "    "
   ]
  },
  {
   "cell_type": "code",
   "execution_count": 24,
   "metadata": {},
   "outputs": [],
   "source": [
    "###################### NEW RESULTS (12.06, Janosch) ############################ \n",
    "\n",
    "#experiment for  constant_noise_data, N = 16, maxh = 0.0375\n",
    "#output of l2_err at t = [0,T/8,T/4,T/2,T] \n",
    "\n",
    "#constant_noise_data = 1e-5\n",
    "# [0.00415446274945523, 0.0013475385151289516, 0.0011451903133811137, 0.0007902157706701661, 0.00017493583286370945]\n",
    "# delta norm =  0.004443877662915414 \n",
    "\n",
    "#constant_noise_data = 1e-4\n",
    "# [0.004193721366758814, 0.0013535706104209303, 0.001145855097615819, 0.0007902475249467483, 0.0001749361509469147]\n",
    "# delta norm = 0.004443919526316986 \n",
    "\n",
    "#constant_noise_data = 1e-3\n",
    "# [0.00742357121662582, 0.0018638026254299877, 0.001182120786321123, 0.0007906624281791001, 0.00017493933416154055]\n",
    "#delta norm =  0.004444452829623838\n",
    "\n",
    "#constant_noise_data = 1e-2\n",
    "# [0.06210116873976516, 0.012952110307921913, 0.0030267441320789533, 0.0008044329161366637, 0.00017497138190400782]\n",
    "# delta norm = 0.004461137164975223  \n",
    "\n",
    "#constant_noise_data = 1e-1\n",
    "# [0.6200748541057143, 0.12883060382460682, 0.02790609763042631, 0.0015515683042016616, 0.00017531338681039957]\n",
    "# delta norm =  0.0054050686772011474\n",
    "\n",
    "#constant_noise_data = 1e0\n",
    "# [6.201051286317319, 1.288241564505492, 0.2786929876016462, 0.013193552608721104, 0.00018082821715640417]\n",
    "# delta norm =  0.025688571900333468\n",
    "\n",
    "#constant_noise_data = 1e1\n",
    "# [62.01093953437304, 12.882413960599512, 2.78677126658984, 0.1315168781198697, 0.00035909108856450054]\n",
    "#delta norm =  0.25075827597698686  \n"
   ]
  },
  {
   "cell_type": "code",
   "execution_count": 25,
   "metadata": {},
   "outputs": [
    {
     "data": {
      "image/png": "[encoded data removed]",
      "text/plain": [
       "<Figure size 640x480 with 1 Axes>"
      ]
     },
     "metadata": {},
     "output_type": "display_data"
    }
   ],
   "source": [
    "import matplotlib.pyplot as plt\n",
    "constant_noise_data = np.array([1e-5,1e-4,1e-3,1e-2,1e-1,1e0,1e1 ])\n",
    "t_0 = np.array([0.00415446274945523,0.004193721366758814,0.00742357121662582,0.06210116873976516,0.6200748541057143,6.201051286317319,62.01093953437304])\n",
    "t_TEights = np.array([0.0013475385151289516, 0.0013535706104209303,0.0018638026254299877,0.012952110307921913, 0.12883060382460682,1.288241564505492,12.882413960599512] )\n",
    "t_Tquarter = np.array([0.0011451903133811137,0.001145855097615819,0.001182120786321123, 0.0030267441320789533, 0.02790609763042631,0.2786929876016462,2.78677126658984 ] )\n",
    "t_Thalf = np.array([0.0007902157706701661,0.0007902475249467483,0.0007906624281791001,0.0008044329161366637,0.0015515683042016616, 0.013193552608721104, 0.1315168781198697 ])\n",
    "t_T = np.array([0.00017493583286370945,0.0001749361509469147,0.00017493933416154055,0.00017497138190400782,0.00017531338681039957,0.00018082821715640417,  0.00035909108856450054] )\n",
    "eps_norm = np.array([0.004443877662915414 , 0.004443919526316986 , 0.004444452829623838, 0.004461137164975223,  0.0054050686772011474, 0.025688571900333468,0.25075827597698686 ])\n",
    "\n",
    "plt.loglog(constant_noise_data, t_0, label=\"t=0\")\n",
    "plt.loglog(constant_noise_data,t_TEights , label=\"t=T/8\")\n",
    "plt.loglog(constant_noise_data,t_Tquarter , label=\"t=T/4\")\n",
    "plt.loglog(constant_noise_data,t_Thalf , label=\"t=T/2\")\n",
    "plt.loglog(constant_noise_data,t_T , label=\"t=T\")\n",
    "plt.loglog(constant_noise_data,eps_norm , label=\"eps-norm\")\n",
    "plt.xlabel(\"Perturbation\")\n",
    "plt.legend()\n",
    "plt.title(\"Absolute L^2 error velocity, N=16\")\n",
    "plt.show()"
   ]
  },
  {
   "cell_type": "code",
   "execution_count": 26,
   "metadata": {},
   "outputs": [],
   "source": [
    "# Ns = [1,2,4,8,16]\n",
    "# hmax = [0.6,0.3,0.15,0.075,0.0375]\n",
    "# constant_noise_data = 2e-1\n",
    "\n",
    "# N = 1, epsilon norm = 1.0153067812853287 , [0,T/4,T/2,T] = [0.7800122957290042, 0.6937297128139982, 0.6074529180618123, 0.4349304372746175, 0.090839735053392]\n",
    "# N = 2, epsilon norm = 0.21142327264350502 , [0,T/8,T/4,T/2,T] = [0.6277536620344598, 0.4906021815272352, 0.35346916577530235, 0.07964080471436939, 0.012450913812223584]\n",
    "# N = 4, epsilon norm = 0.0612971870806628 , [0,T/8,T/4,T/2,T] = [0.691453539051661, 0.41075965867991093, 0.130274656571624, 0.024899516436921645, 0.0024296023690081707]\n",
    "# N = 8, epsilon norm = 0.02159084045425886 , [0,T/8,T/4,T/2,T] = [1.0132017231979054, 0.3095051539398356, 0.09523095241380429, 0.009186267668691198, 0.0006661707789940282]\n",
    "# N = 16, epsilon norm = 0.0071461174701303014 , [0,T/8,T/4,T/2,T] = [1.2401777828575054, 0.2576512251317579, 0.055761913493536895, 0.0027655792499794653, 0.0001757390953250937]"
   ]
  },
  {
   "cell_type": "code",
   "execution_count": 27,
   "metadata": {
    "scrolled": true
   },
   "outputs": [
    {
     "data": {
      "image/png": "[encoded data removed]",
      "text/plain": [
       "<Figure size 640x480 with 1 Axes>"
      ]
     },
     "metadata": {},
     "output_type": "display_data"
    }
   ],
   "source": [
    "delta_t = np.array([T/1,T/2,T/4,T/8,T/16]) \n",
    "epsilon_norm = np.array([1.0153067812853287,0.21142327264350502,0.0612971870806628,0.02159084045425886,0.0071461174701303014   ])\n",
    "t_0 = np.array([0.7800122957290042,0.6277536620344598,0.691453539051661,1.0132017231979054, 1.2401777828575054 ])\n",
    "t_TEights = np.array([ 0.6937297128139982,0.4906021815272352,0.41075965867991093,0.3095051539398356, 0.2576512251317579     ])\n",
    "t_Tquarter = np.array( [0.6074529180618123,0.35346916577530235, 0.130274656571624,0.09523095241380429, 0.055761913493536895       ])\n",
    "t_Thalf = np.array([0.4349304372746175,0.07964080471436939, 0.024899516436921645,0.009186267668691198, 0.0027655792499794653       ])\n",
    "t_T = np.array([0.090839735053392, 0.012450913812223584,0.0024296023690081707,0.0006661707789940282, 0.0001757390953250937      ] )\n",
    "plt.loglog(delta_t, t_0, label=\"t=0\")\n",
    "plt.loglog(delta_t,t_TEights , label=\"t=T/8\")\n",
    "plt.loglog(delta_t,t_Tquarter , label=\"t=T/4\")\n",
    "plt.loglog(delta_t,t_Thalf , label=\"t=T/2\")\n",
    "plt.loglog(delta_t,t_T , label=\"t=T\")\n",
    "plt.loglog(delta_t,epsilon_norm  , label=\"eps-norm\")\n",
    "plt.xlabel(\"tau\")\n",
    "plt.legend()\n",
    "plt.title(\"Absolute L^2 error velocity, perturb = 0.2\")\n",
    "plt.show()"
   ]
  }
 ],
 "metadata": {
  "kernelspec": {
   "display_name": "Python 3 (ipykernel)",
   "language": "python",
   "name": "python3"
  },
  "language_info": {
   "codemirror_mode": {
    "name": "ipython",
    "version": 3
   },
   "file_extension": ".py",
   "mimetype": "text/x-python",
   "name": "python",
   "nbconvert_exporter": "python",
   "pygments_lexer": "ipython3",
   "version": "3.11.6"
  }
 },
 "nbformat": 4,
 "nbformat_minor": 4
}
