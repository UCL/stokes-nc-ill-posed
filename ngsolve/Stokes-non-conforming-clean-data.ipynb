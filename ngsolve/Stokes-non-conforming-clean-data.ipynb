{
 "cells": [
  {
   "cell_type": "markdown",
   "metadata": {},
   "source": [
    "Stokes Equation\n",
    "==="
   ]
  },
  {
   "cell_type": "markdown",
   "metadata": {},
   "source": [
    "Import Netgen/NGSolve Python modules:"
   ]
  },
  {
   "cell_type": "code",
   "execution_count": 1,
   "metadata": {},
   "outputs": [],
   "source": [
    "from ngsolve import *\n",
    "from netgen.geom2d import SplineGeometry\n",
    "from ngsolve.webgui import Draw\n",
    "from math import log\n",
    "import numpy as np\n",
    "import scipy.sparse as sp"
   ]
  },
  {
   "cell_type": "code",
   "execution_count": 2,
   "metadata": {},
   "outputs": [],
   "source": [
    "N = 8\n",
    "T = 0.2\n",
    "tau = T/N \n",
    "gamma0 = 1e-2\n",
    "gamma1 = 1\n",
    "gamma_dual = 1e-5\n",
    "gamma_M = 1e4\n",
    "maxh = 0.075\n",
    "solver = \"pardiso\"\n",
    "noise_lvl = 0.0\n",
    "epsilon = T/2\n",
    "sample_points = np.linspace(epsilon,T,100)\n",
    "\n",
    "# maxh =  [0.6, 0.3, 0.15, 0.075,0.0375] \n",
    "# N = [1,2,4,8,16]"
   ]
  },
  {
   "cell_type": "code",
   "execution_count": 3,
   "metadata": {},
   "outputs": [],
   "source": [
    "class quad_rule:\n",
    "    def __init__(self,name,npoints):\n",
    "        self.name = name\n",
    "        self.npoints = npoints\n",
    "\n",
    "        gauss_lobatto = {\n",
    "            3: ( [ -1, 0, 1 ],\n",
    "                 [ 1/3, 4/3, 1/3 ] ),\n",
    "            4: ( [ -1, -np.sqrt(1/5), np.sqrt(1/5), 1],\n",
    "                 [ 1/6, 5/6, 5/6, 1/6 ] ),\n",
    "            5: ( [ -1, -(1/7)*np.sqrt(21),0.0, (1/7)*np.sqrt(21), 1.0 ],\n",
    "                 [ 1/10,49/90,32/45, 49/90, 1/10  ] ),\n",
    "            6: ( [ -1, -np.sqrt((1/21)*(7+2*np.sqrt(7))), -np.sqrt((1/21)*(7-2*np.sqrt(7))), np.sqrt((1/21)*(7-2*np.sqrt(7))), np.sqrt((1/21)*(7+2*np.sqrt(7))), 1.0 ],\n",
    "                 [ 1/15, (1/30)*(14-np.sqrt(7)), (1/30)*(14+np.sqrt(7)), (1/30)*(14+np.sqrt(7)), (1/30)*(14-np.sqrt(7)),  1/15 ] ),\n",
    "        }\n",
    "\n",
    "        if name == \"Gauss-Lobatto\":\n",
    "            self.points = gauss_lobatto[npoints][0]\n",
    "            self.weights = gauss_lobatto[npoints][1]\n",
    "        \n",
    "    def current_pts(self,a,b):\n",
    "        if self.name == \"Gauss-Radau\" or self.name == \"Gauss\" or self.name == \"Gauss-Lobatto\":\n",
    "            return [0.5*(b-a) * pt + 0.5*(b+a)  for pt in self.points]\n",
    "    \n",
    "    def t_weights(self,delta_t):\n",
    "        if self.name == \"Gauss-Radau\" or self.name == \"Gauss\" or self.name == \"Gauss-Lobatto\":\n",
    "            return [0.5*delta_t*w for w in self.weights]"
   ]
  },
  {
   "cell_type": "code",
   "execution_count": 4,
   "metadata": {},
   "outputs": [],
   "source": [
    "qr = quad_rule(\"Gauss-Lobatto\",5)"
   ]
  },
  {
   "cell_type": "markdown",
   "metadata": {},
   "source": [
    "The unit_square is a predefined domain, use Netgen to generate a mesh:"
   ]
  },
  {
   "cell_type": "code",
   "execution_count": 5,
   "metadata": {},
   "outputs": [],
   "source": [
    "def freedofs_converter(fd):\n",
    "    frees = [] \n",
    "    for i in range(len(fd)):\n",
    "        if fd[i]:\n",
    "            frees.append(i)\n",
    "    return frees\n",
    "\n",
    "def cond_est(a,frees):\n",
    "    rows,cols,vals = a.mat.COO()\n",
    "    A = sp.csr_matrix((vals,(rows,cols)))\n",
    "    A_red = A.todense()[frees,:][:,frees] \n",
    "    return np.linalg.cond(A_red)"
   ]
  },
  {
   "cell_type": "code",
   "execution_count": 6,
   "metadata": {},
   "outputs": [],
   "source": [
    "def GetMeshDataAllAround(maxh):\n",
    "    geo = SplineGeometry()\n",
    "    # data domain\n",
    "    p1 = geo.AppendPoint (0,0)\n",
    "    p2 = geo.AppendPoint (1,0)\n",
    "    p4 = geo.AppendPoint (0.75,0.75)\n",
    "    p5 = geo.AppendPoint (0.75,0.25)\n",
    "    p6 = geo.AppendPoint (0.25,0.25)\n",
    "    p7 = geo.AppendPoint (0.25,0.75)\n",
    "    p11 = geo.AppendPoint(1.0,1.0)\n",
    "    p12 = geo.AppendPoint(0.0,1.0)\n",
    "    # omega\n",
    "    geo.Append ([\"line\", p1, p2], leftdomain=1, rightdomain=0,bc=\"bc_Omega\")\n",
    "    geo.Append ([\"line\", p2, p11], leftdomain=1, rightdomain=0,bc=\"bc_Omega\")\n",
    "    geo.Append ([\"line\", p11, p12], leftdomain=1, rightdomain=0,bc=\"bc_Omega\")\n",
    "    geo.Append ([\"line\", p12, p1], leftdomain=1, rightdomain=0,bc=\"bc_Omega\")\n",
    "    # only_B\n",
    "    geo.Append ([\"line\", p6, p5], leftdomain=2, rightdomain=1)\n",
    "    geo.Append ([\"line\", p5, p4], leftdomain=2, rightdomain=1)\n",
    "    geo.Append ([\"line\", p4, p7], leftdomain=2, rightdomain=1)\n",
    "    geo.Append ([\"line\", p7, p6], leftdomain=2, rightdomain=1)\n",
    "    geo.SetMaterial(1, \"omega\")\n",
    "    geo.SetMaterial(2, \"only_B\")\n",
    "    return geo.GenerateMesh(maxh=maxh)"
   ]
  },
  {
   "cell_type": "code",
   "execution_count": 7,
   "metadata": {},
   "outputs": [],
   "source": [
    "def GetMeshDataLeft(maxh):\n",
    "    geo = SplineGeometry()\n",
    "    p1 = geo.AppendPoint (0,0)\n",
    "    p2 = geo.AppendPoint (0.25,0)\n",
    "    p3 = geo.AppendPoint (0.25,1)\n",
    "    p4 = geo.AppendPoint (0,1)\n",
    "    p5 = geo.AppendPoint (1,0)\n",
    "    p6 = geo.AppendPoint (1,1)\n",
    "    # omega \n",
    "    geo.Append ([\"line\", p1, p2], leftdomain=1, rightdomain=0,bc=\"bc_Omega\")\n",
    "    geo.Append ([\"line\", p2, p3], leftdomain=1, rightdomain=2)\n",
    "    geo.Append ([\"line\", p3, p4], leftdomain=1, rightdomain=0,bc=\"bc_Omega\")\n",
    "    geo.Append ([\"line\", p4, p1], leftdomain=1, rightdomain=0,bc=\"bc_Omega\")\n",
    "    # only_B \n",
    "    geo.Append ([\"line\", p2, p5], leftdomain=2, rightdomain=0,bc=\"bc_Omega\")\n",
    "    geo.Append ([\"line\", p5, p6], leftdomain=2, rightdomain=0,bc=\"bc_Omega\")\n",
    "    geo.Append ([\"line\", p6, p3], leftdomain=2, rightdomain=0,bc=\"bc_Omega\")\n",
    "    geo.SetMaterial(1, \"omega\")\n",
    "    geo.SetMaterial(2, \"only_B\")\n",
    "    return geo.GenerateMesh(maxh=maxh)"
   ]
  },
  {
   "cell_type": "code",
   "execution_count": 8,
   "metadata": {},
   "outputs": [
    {
     "data": {
      "application/vnd.jupyter.widget-view+json": {
       "model_id": "97029496dd9540548f00defced62c917",
       "version_major": 2,
       "version_minor": 0
      },
      "text/plain": [
       "WebGuiWidget(layout=Layout(height='50vh', width='100%'), value={'gui_settings': {}, 'ngsolve_version': '6.2.24…"
      ]
     },
     "metadata": {},
     "output_type": "display_data"
    }
   ],
   "source": [
    "#mesh = Mesh(unit_square.GenerateMesh(maxh=0.2))\n",
    "mesh = Mesh(GetMeshDataAllAround(maxh) )\n",
    "# mesh = Mesh(GetMeshDataLeft(maxh))\n",
    "h = specialcf.mesh_size\n",
    "n = specialcf.normal(2)\n",
    "Draw (mesh);"
   ]
  },
  {
   "cell_type": "code",
   "execution_count": 9,
   "metadata": {},
   "outputs": [],
   "source": [
    "t = Parameter(0.0)\n",
    "\n",
    "noise_t = exp(-t)\n",
    "\n",
    "u_sol = CoefficientFunction( (  2*x**2*y*(2*y-1)*(x-1)**2*(y-1)*exp(-t), \n",
    "                            -2*x*y**2*(2*x-1)*(x-1)*(y-1)**2*exp(-t) ) )\n",
    "\n",
    "grad_u_sol_x = CoefficientFunction( (  (2*(4*x**3-6*x**2+2*x))*(2*y**3-3*y**2+y)*exp(-t), \n",
    "                             (2*(x**4-2*x**3+x**2)*(6*y**2-6*y+1))*exp(-t) ) )\n",
    "grad_u_sol_y = CoefficientFunction( (-2*(6*x**2-6*x+1)*(y**4-2*y**3+y**2) *exp(-t), \n",
    "                            -2*(2*x**3-3*x**2+x)*(4*y**3-6*y**2+2*y)*exp(-t)) ) \n",
    "\n",
    "p_sol = (2*cos(x)*sin(y) - 2*sin(1)*(1 - cos(1)))*exp(-t) \n",
    "rhs = CoefficientFunction( ( 2*(-x**2*y*(x - 1)**2*(y - 1)*(2*y - 1) + 6*x**2*(1 - 2*y)*(x - 1)**2 \n",
    "              - 2*y*(y - 1)*(2*y - 1)*(x**2 + 4*x*(x - 1) + (x - 1)**2) - sin(x)*sin(y))*exp(-t)  , \n",
    "                           2*(x*y**2*(x - 1)*(2*x - 1)*(y - 1)**2 + 2*x*(x - 1)*(2*x - 1)*(y**2 + 4*y*(y - 1) \n",
    "                    + (y - 1)**2) + 6*y**2*(2*x - 1)*(y - 1)**2 + cos(x)*cos(y))*exp(-t)\n",
    "                           )  )"
   ]
  },
  {
   "cell_type": "markdown",
   "metadata": {},
   "source": [
    "Define a finite element space on that mesh. "
   ]
  },
  {
   "cell_type": "code",
   "execution_count": 10,
   "metadata": {},
   "outputs": [
    {
     "name": "stdout",
     "output_type": "stream",
     "text": [
      "X-ndof = 210308\n"
     ]
    }
   ],
   "source": [
    "#fes = H1(mesh, order=3, dirichlet=\"left|right|bottom|top\")\n",
    "fes_NC = FESpace(\"nonconforming\",mesh, dirichlet=\"bc_Omega\", dgjumps = True) \n",
    "fes_lam = NumberSpace(mesh)\n",
    "fes_L2 = L2(mesh, order=0)\n",
    "fes_primal_vel = FESpace([fes_NC*fes_NC for i in range(N+1) ])\n",
    "fes_primal_pressure = FESpace([ fes_L2 for i in range(N+1) ])\n",
    "fes_dual_vel = FESpace([fes_NC*fes_NC for i in range(N) ])\n",
    "fes_dual_pressure = FESpace([ fes_L2 for i in range(N) ])\n",
    "fes_primal_lam = FESpace([fes_lam for i in range(N)])\n",
    "fes_dual_lam = FESpace([fes_lam for i in range(N)])\n",
    "X = FESpace( [fes_primal_vel, fes_primal_pressure,fes_primal_lam, fes_dual_vel, fes_dual_pressure,fes_dual_lam])\n",
    "print (\"X-ndof = {0}\".format(X.ndof ))"
   ]
  },
  {
   "cell_type": "code",
   "execution_count": 11,
   "metadata": {},
   "outputs": [],
   "source": [
    "u, pp, llam, zz, yyy, xxi =  X.TrialFunction()\n",
    "v, qq, mmu, ww, xxx, eeta =  X.TestFunction()\n",
    "#print(len(u[0]) )\n",
    "#print\n",
    "\n",
    "p =  [pp[i] for i in range(len(pp)) ]\n",
    "z = [None] + [zz[i] for i in range(len(zz)) ]\n",
    "yy = [None] + [yyy[i] for i in range(len(yyy)) ]\n",
    "lam = [None] + [llam[i] for i in range(len(llam)) ]\n",
    "xi = [None] + [xxi[i] for i in range(len(xxi)) ]\n",
    "\n",
    "q =  [qq[i] for i in range(len(qq)) ]\n",
    "w = [None] + [ww[i] for i in range(len(ww)) ]\n",
    "xx = [None] + [xxx[i] for i in range(len(xxx)) ]\n",
    "mu = [None] + [mmu[i] for i in range(len(mmu)) ]\n",
    "eta = [None] + [eeta[i] for i in range(len(eeta)) ]\n"
   ]
  },
  {
   "cell_type": "code",
   "execution_count": 12,
   "metadata": {},
   "outputs": [],
   "source": [
    "def IP(u,v,nabla=False):\n",
    "    if nabla:\n",
    "        return sum( [ grad(u[i])*grad(v[i]) for i in range(len(u))] )\n",
    "    else:\n",
    "        return sum( [u[i]*v[i] for i in range(len(u))] )\n",
    "def IP_ut_v(u_cur,u_prev,v):\n",
    "    return sum( [ (u_cur[i] - u_prev[i] ) * v[i] for i in range(len(u_cur))] )\n",
    "    #help(IP(u[0],v[0]))\n",
    "def IP_mixed_stab(u_cur,u_prev,v_cur,v_prev):\n",
    "    return sum( [ ( grad(u_cur[i]) - grad(u_prev[i]) ) * ( grad(v_cur[i]) - grad(v_prev[i]) )  for i in range(len(u_cur))] )\n",
    "\n",
    "def IP_CIP(u,v):\n",
    "    return sum( [ (u[i] - u[i].Other()) * (v[i] - v[i].Other()) for i in range(len(u))  ] )\n",
    "\n",
    "def IP_divu_q(u,q):\n",
    "    u1_dx = grad(u[0])[0]\n",
    "    u2_dy = grad(u[1])[1]\n",
    "    div_u = u1_dx + u2_dy\n",
    "    return div_u * q  "
   ]
  },
  {
   "cell_type": "code",
   "execution_count": 13,
   "metadata": {},
   "outputs": [],
   "source": [
    "a = BilinearForm(X,symmetric=False)\n",
    "\n",
    "# add mean value pressure constraint \n",
    "for i in range(1,N+1):\n",
    "    a += (mu[i] * p[i] + lam[i] * q[i]) * dx  \n",
    "    a += (eta[i] * yy[i] + xi[i] * xx[i]) * dx \n",
    "    \n",
    "# divergence zero constraint for initial data\n",
    "a +=  IP_divu_q(u[0],q[0]) * dx \n",
    "a +=  (-1)*IP_divu_q(v[0],p[0]) * dx \n",
    "\n",
    "# A1 \n",
    "for i in range(1,N+1):\n",
    "    a += IP_ut_v(u[i],u[i-1],w[i]) * dx\n",
    "    a += tau * IP(u[i],w[i],nabla=True) * dx \n",
    "    a += tau *(-1)*IP_divu_q(w[i],p[i]) * dx\n",
    "    a += tau * IP_divu_q(u[i],xx[i]) * dx \n",
    "\n",
    "# A2 \n",
    "a += gamma0 * h**2 * IP(u[0],v[0],nabla=True) * dx\n",
    "for i in range(1,N+1):\n",
    "#     a += gamma_M * tau * IP(u[i],v[i]) * dx(definedon=mesh.Materials(\"omega\"))\n",
    "    a += gamma_M * tau * IP(u[i],v[i]) * dx(definedon=mesh.Materials(\"only_B\"))\n",
    "    a += gamma1 * tau * IP_mixed_stab(u[i],u[i-1],v[i],v[i-1]) * dx \n",
    "    a +=  tau * (1/h) *  IP_CIP(u[i],v[i]) * dx(skeleton=True)\n",
    "    a += IP_ut_v(v[i],v[i-1],z[i]) * dx\n",
    "    a += tau * IP(v[i],z[i],nabla=True) * dx     \n",
    "    a += tau * (-1)*IP_divu_q(z[i],q[i]) * dx \n",
    "    a += tau * IP_divu_q(v[i],yy[i]) * dx"
   ]
  },
  {
   "cell_type": "code",
   "execution_count": 14,
   "metadata": {},
   "outputs": [],
   "source": [
    "if abs(noise_lvl) > 1e-15:\n",
    "    V_perturb = H1(mesh, order=1, dirichlet=\"bc_Omega\")\n",
    "    fes_perturb = FESpace([V_perturb * V_perturb  for i in range(N) ])\n",
    "    data_perturb = GridFunction(fes_perturb)\n",
    "    rhs_perturb  = GridFunction(fes_perturb)\n",
    "    # fill in vector with random values\n",
    "    data_perturb.vec.FV().NumPy()[:] = np.random.rand(len( data_perturb.vec.FV().NumPy()) )[:] \n",
    "    rhs_perturb.vec.FV().NumPy()[:] = np.random.rand(len( rhs_perturb.vec.FV().NumPy()) )[:] \n",
    "    # compute L2L2 norm and normalize to one \n",
    "    norm_perturb = 0.0\n",
    "    norm_rhs_perturb = 0.0\n",
    "    #norm_u_data_set = 0.0\n",
    "    #norm_rhs = 0.0\n",
    "    for i in range(N):\n",
    "        t.Set(tau*i)\n",
    "        for j in range(2):\n",
    "            norm_perturb += tau * Integrate(  data_perturb.components[i].components[j]**2  , mesh, definedon=mesh.Materials(\"only_B\"))\n",
    "            norm_rhs_perturb += tau * Integrate(  rhs_perturb.components[i].components[j]**2  , mesh)\n",
    "            #norm_u_data_set +=  tau * Integrate(u_sol**2, mesh, definedon=mesh.Materials(\"only_B\"))\n",
    "            #norm_rhs +=  tau * Integrate(rhs**2 , mesh)                        \n",
    "        #print(\"i = {0}, norm_perturb = {1}\".format(i,norm_perturb))\n",
    "    norm_perturb = sqrt(norm_perturb)\n",
    "    norm_rhs_perturb = sqrt(norm_rhs_perturb)\n",
    "    norm_perturbations = norm_perturb + maxh * norm_rhs_perturb\n",
    "    print(\"norm_perturbations =\", norm_perturbations)\n",
    "    data_perturb.vec.FV().NumPy()[:] *= 1/norm_perturbations\n",
    "    rhs_perturb.vec.FV().NumPy()[:] *= 1/norm_perturbations\n",
    "    \n",
    "    norm_perturb = 0.0\n",
    "    norm_rhs_perturb = 0.0\n",
    "    for i in range(N):\n",
    "        t.Set(tau*i)\n",
    "        for j in range(2):\n",
    "            norm_perturb += tau * Integrate(  data_perturb.components[i].components[j]**2  , mesh, definedon=mesh.Materials(\"only_B\"))\n",
    "            norm_rhs_perturb +=  tau  * Integrate( rhs_perturb.components[i].components[j]**2  , mesh)\n",
    "    norm_perturb = sqrt(norm_perturb)\n",
    "    norm_rhs_perturb = sqrt(norm_rhs_perturb)\n",
    "    norm_perturbations = norm_perturb + norm_rhs_perturb\n",
    "    print(\"norm_perturbations =\", norm_perturbations)\n",
    "    \n",
    "    #norm_u_data_set = sqrt(norm_u_data_set)\n",
    "    #norm_rhs = sqrt(norm_rhs)\n",
    "    #print(\"delta_preliminary =  \", delta_preliminary)\n",
    "    #noise_lvl *= 1/delta_preliminary\n",
    "    #print(\"norm_u_data_set = \", norm_u_data_set)\n",
    "    #print(\"norm_rhs = \", norm_rhs)\n",
    "    \n",
    "    #print(\"norm_perturb =\", norm_perturb )\n",
    "    #data_perturb.vec.FV().NumPy()[:] *= 1/norm_perturb\n",
    "    #print(\"norm_rhs_perturb \", norm_rhs_perturb)\n",
    "    #rhs_perturb.vec.FV().NumPy()[:] *= 1/norm_rhs_perturb\n",
    "    #for i in range(N):\n",
    "    #    print(\"data_perturb.components[i] =  \", data_perturb.components[i].vec.FV().NumPy()[:])\n",
    "              \n",
    "#input(\"a\")"
   ]
  },
  {
   "cell_type": "code",
   "execution_count": 15,
   "metadata": {},
   "outputs": [],
   "source": [
    "f = LinearForm(X)\n",
    "for i in range(1,N+1):\n",
    "    t.Set(tau*i)\n",
    "    f += tau * IP(w[i],rhs,nabla=False)  * dx\n",
    "#     f +=  gamma_M * tau * IP(v[i],u_sol) * dx(definedon=mesh.Materials(\"omega\"))\n",
    "    f +=  gamma_M * tau * IP(v[i],u_sol) * dx(definedon=mesh.Materials(\"only_B\"))\n",
    "    \n",
    "    #f +=  gamma_M * tau * IP(v[i],noise_lvl * CoefficientFunction((1.0,1.0))) * dx\n",
    "    #only_B\n",
    "    # data perturbation \n",
    "    if abs(noise_lvl) > 1e-15:\n",
    "        for j in range(2):\n",
    "            #print(\"i = {0}, j = {1}\".format(i,j))\n",
    "            f += noise_lvl * gamma_M *  tau * v[i][j] * data_perturb.components[i-1].components[j]  * dx(definedon=mesh.Materials(\"only_B\"))\n",
    "            f +=  noise_lvl * tau * w[i][j] * rhs_perturb.components[i-1].components[j] * dx\n",
    "            #f += noise_lvl * tau * w[i][j] * rhs_perturb.components[i-1].components[j] * dx\n",
    "\n",
    "with TaskManager():\n",
    "    a.Assemble()\n",
    "    f.Assemble()"
   ]
  },
  {
   "cell_type": "markdown",
   "metadata": {},
   "source": [
    "Solve the problem:"
   ]
  },
  {
   "cell_type": "code",
   "execution_count": 16,
   "metadata": {},
   "outputs": [],
   "source": [
    "gfu = GridFunction(X)"
   ]
  },
  {
   "cell_type": "code",
   "execution_count": 17,
   "metadata": {},
   "outputs": [],
   "source": [
    "gfu = GridFunction(X)\n",
    "gfu.vec.data = a.mat.Inverse(X.FreeDofs(),inverse=solver) * f.vec"
   ]
  },
  {
   "cell_type": "code",
   "execution_count": 18,
   "metadata": {},
   "outputs": [],
   "source": [
    "uhx = gfu.components[0].components[N].components[0]\n",
    "uhy = gfu.components[0].components[N].components[1]\n",
    "uh = [uhx,uhy]\n",
    "p_primal = gfu.components[1].components[N]\n",
    "p_dual = gfu.components[4].components[N-1]"
   ]
  },
  {
   "cell_type": "markdown",
   "metadata": {},
   "source": [
    "Plot the solution:"
   ]
  },
  {
   "cell_type": "code",
   "execution_count": 19,
   "metadata": {},
   "outputs": [
    {
     "data": {
      "application/vnd.jupyter.widget-view+json": {
       "model_id": "9df91c4c95714aacbc8c247015d5df5f",
       "version_major": 2,
       "version_minor": 0
      },
      "text/plain": [
       "WebGuiWidget(layout=Layout(height='50vh', width='100%'), value={'gui_settings': {}, 'ngsolve_version': '6.2.24…"
      ]
     },
     "metadata": {},
     "output_type": "display_data"
    }
   ],
   "source": [
    "Draw (uhx, mesh);"
   ]
  },
  {
   "cell_type": "code",
   "execution_count": 20,
   "metadata": {},
   "outputs": [
    {
     "data": {
      "application/vnd.jupyter.widget-view+json": {
       "model_id": "f4bb449234d849db9e6a5eafb33634e5",
       "version_major": 2,
       "version_minor": 0
      },
      "text/plain": [
       "WebGuiWidget(layout=Layout(height='50vh', width='100%'), value={'gui_settings': {}, 'ngsolve_version': '6.2.24…"
      ]
     },
     "metadata": {},
     "output_type": "display_data"
    }
   ],
   "source": [
    "t.Set(tau*0)\n",
    "Draw (u_sol[0] , mesh);"
   ]
  },
  {
   "cell_type": "code",
   "execution_count": 21,
   "metadata": {},
   "outputs": [
    {
     "data": {
      "application/vnd.jupyter.widget-view+json": {
       "model_id": "af17d2bf332049f1ae947b2f3b1a1300",
       "version_major": 2,
       "version_minor": 0
      },
      "text/plain": [
       "WebGuiWidget(layout=Layout(height='50vh', width='100%'), value={'gui_settings': {}, 'ngsolve_version': '6.2.24…"
      ]
     },
     "metadata": {},
     "output_type": "display_data"
    }
   ],
   "source": [
    "Draw (uhy, mesh);"
   ]
  },
  {
   "cell_type": "code",
   "execution_count": 22,
   "metadata": {},
   "outputs": [
    {
     "data": {
      "application/vnd.jupyter.widget-view+json": {
       "model_id": "daf9b44cf1fe4960a8e2917e222c060c",
       "version_major": 2,
       "version_minor": 0
      },
      "text/plain": [
       "WebGuiWidget(layout=Layout(height='50vh', width='100%'), value={'gui_settings': {}, 'ngsolve_version': '6.2.24…"
      ]
     },
     "metadata": {},
     "output_type": "display_data"
    }
   ],
   "source": [
    "t.Set(tau*N)\n",
    "Draw (u_sol[1] , mesh);"
   ]
  },
  {
   "cell_type": "markdown",
   "metadata": {},
   "source": [
    "Calculate error:"
   ]
  },
  {
   "cell_type": "code",
   "execution_count": 23,
   "metadata": {},
   "outputs": [
    {
     "name": "stdout",
     "output_type": "stream",
     "text": [
      "pressure primal mean : 0.0004958446113484829\n",
      "pressure dual mean : -0.0024950059707058857\n",
      "divergence uh : 3.490855213387099e-19\n",
      "grad(ux0) : 2.210755992333724e-19\n"
     ]
    }
   ],
   "source": [
    "# compute mean value of pressure \n",
    "print (\"pressure primal mean :\", Integrate(p_primal, mesh)  )\n",
    "print (\"pressure dual mean :\", Integrate( p_dual, mesh)  )\n",
    "print (\"divergence uh :\", Integrate(  grad(uhx)[0] + grad(uhy)[1]  , mesh)  )\n",
    "print (\"grad(ux0) :\", Integrate(  grad(uhx)[0]   , mesh)  )\n",
    "#help(uhx)\n",
    "#print(\"uhx[0].vec =\", uhx[0].vec)"
   ]
  },
  {
   "cell_type": "code",
   "execution_count": 24,
   "metadata": {},
   "outputs": [
    {
     "name": "stdout",
     "output_type": "stream",
     "text": [
      "ux0 : -1.2281977735187355e-19\n",
      "divergence uh : 2.199685019940011e-19\n"
     ]
    }
   ],
   "source": [
    "# check divergence of initial data reconstruction\n",
    "uhx0 = gfu.components[0].components[0].components[0]\n",
    "uhy0 = gfu.components[0].components[0].components[1]\n",
    "print (\"ux0 :\", Integrate(  grad(uhx0)[0]   , mesh)  )\n",
    "print (\"divergence uh :\", Integrate(  grad(uhx0)[0] + grad(uhy0)[1]  , mesh)  )\n",
    "#input(\"\")"
   ]
  },
  {
   "cell_type": "code",
   "execution_count": 25,
   "metadata": {
    "scrolled": true
   },
   "outputs": [
    {
     "name": "stdout",
     "output_type": "stream",
     "text": [
      "L2 error velocity at time step 0 = 0.15181071331927098\n",
      "L2 error pressure at time step 0 = 563923.30507525\n",
      "L2 error velocity at time step 1 = 0.15465139951786303\n",
      "L2 error pressure at time step 1 = 0.17921363408238147\n",
      "L2 error velocity at time step 2 = 0.15646934554192585\n",
      "L2 error pressure at time step 2 = 0.16642413603551198\n",
      "L2 error velocity at time step 3 = 0.15374937893648813\n",
      "L2 error pressure at time step 3 = 0.15519027215081252\n",
      "L2 error velocity at time step 4 = 0.14795301253259976\n",
      "L2 error pressure at time step 4 = 0.14438831460442134\n",
      "L2 error velocity at time step 5 = 0.14023125396619215\n",
      "L2 error pressure at time step 5 = 0.1336844522140049\n",
      "L2 error velocity at time step 6 = 0.13129820253030783\n",
      "L2 error pressure at time step 6 = 0.12296846118749102\n",
      "L2 error velocity at time step 7 = 0.12158841946210418\n",
      "L2 error pressure at time step 7 = 0.1122054369752347\n",
      "L2 error velocity at time step 8 = 0.11136349682607714\n",
      "L2 error pressure at time step 8 = 0.10138003597944582\n",
      "L2 error velocity at time step 9 = 0.10079477864332509\n",
      "L2 error pressure at time step 9 = 0.09058096805857829\n",
      "L2 error velocity at time step 10 = 0.09003024433268074\n",
      "L2 error pressure at time step 10 = 0.07972994154881365\n",
      "L2 error velocity at time step 11 = 0.07911480021230465\n",
      "L2 error pressure at time step 11 = 0.06897420203710099\n",
      "L2 error velocity at time step 12 = 0.06801714362833051\n",
      "L2 error pressure at time step 12 = 0.05823212962819205\n",
      "L2 error velocity at time step 13 = 0.05727299153462214\n",
      "L2 error pressure at time step 13 = 0.04752158894082481\n",
      "L2 error velocity at time step 14 = 0.04699974195677595\n",
      "L2 error pressure at time step 14 = 0.036976439009407516\n",
      "L2 error velocity at time step 15 = 0.03737679486507333\n",
      "L2 error pressure at time step 15 = 0.04514228088323075\n",
      "L2 error velocity at time step 16 = 0.026478700974706806\n",
      "L2 error pressure at time step 16 = 0.02910489861243856\n",
      "\n",
      " L2 error velocity at time steps =  [0.15181071331927098, 0.15465139951786303, 0.15646934554192585, 0.15374937893648813, 0.14795301253259976, 0.14023125396619215, 0.13129820253030783, 0.12158841946210418, 0.11136349682607714, 0.10079477864332509, 0.09003024433268074, 0.07911480021230465, 0.06801714362833051, 0.05727299153462214, 0.04699974195677595, 0.03737679486507333, 0.026478700974706806]\n",
      "\n",
      " L2 error pressure at time steps =  [563923.30507525, 0.17921363408238147, 0.16642413603551198, 0.15519027215081252, 0.14438831460442134, 0.1336844522140049, 0.12296846118749102, 0.1122054369752347, 0.10138003597944582, 0.09058096805857829, 0.07972994154881365, 0.06897420203710099, 0.05823212962819205, 0.04752158894082481, 0.036976439009407516, 0.04514228088323075, 0.02910489861243856]\n"
     ]
    }
   ],
   "source": [
    "l2_errors_at_nodes = []\n",
    "l2_errors_pressure_at_nodes = []\n",
    "for n in range(0,N+1):\n",
    "    t.Set(n*tau)\n",
    "    uhx = gfu.components[0].components[n].components[0]\n",
    "    uhy = gfu.components[0].components[n].components[1]\n",
    "    u_error= sqrt(Integrate( (u_sol[0]-uhx)**2 + (u_sol[1]-uhy)**2 , mesh))\n",
    "    u_ref=sqrt(Integrate( (u_sol[0])**2 + (u_sol[1])**2 , mesh))\n",
    "    l2_errors_at_nodes.append(u_error/u_ref)\n",
    "    #l2_errors_at_nodes.append(u_error)\n",
    "    print(\"L2 error velocity at time step {0} = {1}\".format(n,l2_errors_at_nodes[-1] ))\n",
    "    \n",
    "    if n >= 0: \n",
    "        p_primal = gfu.components[1].components[n]\n",
    "        p_error= sqrt(Integrate( (p_sol-p_primal)**2  , mesh))\n",
    "        p_ref= sqrt(Integrate( (p_sol)**2  , mesh))\n",
    "        l2_errors_pressure_at_nodes.append(p_error/p_ref)\n",
    "        print(\"L2 error pressure at time step {0} = {1}\".format(n,l2_errors_pressure_at_nodes[-1] ))\n",
    "    \n",
    "print(\"\\n L2 error velocity at time steps = \",l2_errors_at_nodes  )  \n",
    "print(\"\\n L2 error pressure at time steps = \",l2_errors_pressure_at_nodes  )  "
   ]
  },
  {
   "cell_type": "code",
   "execution_count": 26,
   "metadata": {},
   "outputs": [],
   "source": [
    "def get_linear_interpolation(n,t_sample,t_n,t_nn,take_gradient=False): \n",
    "    if take_gradient:\n",
    "        uhx_n = grad(gfu.components[0].components[n].components[0])\n",
    "        uhy_n = grad(gfu.components[0].components[n].components[1])\n",
    "        uhx_nn = grad(gfu.components[0].components[n+1].components[0])\n",
    "        uhy_nn = grad(gfu.components[0].components[n+1].components[1])\n",
    "    else:\n",
    "        uhx_n = gfu.components[0].components[n].components[0]\n",
    "        uhy_n = gfu.components[0].components[n].components[1]\n",
    "        uhx_nn = gfu.components[0].components[n+1].components[0]\n",
    "        uhy_nn = gfu.components[0].components[n+1].components[1]\n",
    "    uhx_at_t_sample = uhx_nn * (t_sample-t_n)/tau +  uhx_n * (t_nn-t_sample  )/tau\n",
    "    uhy_at_t_sample = uhy_nn * (t_sample-t_n)/tau +  uhy_n * (t_nn-t_sample  )/tau\n",
    "    return uhx_at_t_sample, uhy_at_t_sample"
   ]
  },
  {
   "cell_type": "code",
   "execution_count": 27,
   "metadata": {},
   "outputs": [
    {
     "name": "stdout",
     "output_type": "stream",
     "text": [
      "max(l2_norm_at_sample_points) =  0.000783571231351165\n",
      "l2_norm_time_nabla  0.003673974798100366\n",
      "delta norm =   0.004457546029451531\n"
     ]
    }
   ],
   "source": [
    "# measuring epsilon norm\n",
    "l2_norm_at_sample_points = [ ]\n",
    "for t_sample in sample_points:\n",
    "    #print(\"t_sample =\", t_sample)\n",
    "    for n in range(0,N):\n",
    "        t_n = n*tau\n",
    "        t_nn = (n+1)*tau\n",
    "        if t_sample >= t_n and t_sample <= t_nn:\n",
    "            #print(\"t_sample = \", t_sample)\n",
    "            t.Set(t_sample)\n",
    "            uhx_at_t_sample, uhy_at_t_sample = get_linear_interpolation(n,t_sample,t_n,t_nn)\n",
    "            u_error_at_sample = sqrt(Integrate( (u_sol[0]-uhx_at_t_sample)**2 + (u_sol[1]-uhy_at_t_sample)**2 , mesh))\n",
    "            l2_norm_at_sample_points.append(u_error_at_sample )\n",
    "#print(\"l2_norm_at_sample_points =\", l2_norm_at_sample_points )   \n",
    "print(\"max(l2_norm_at_sample_points) = \", max(l2_norm_at_sample_points ))\n",
    "\n",
    "# find out in which interval is epsilon\n",
    "n_epsilon = 0\n",
    "for n in range(0,N):\n",
    "    t_n = n*tau\n",
    "    t_nn = (n+1)*tau\n",
    "    if epsilon >= t_n and epsilon <= t_nn:\n",
    "        n_epsilon = n\n",
    "#print(\"n_epsilon =\", n_epsilon)  \n",
    "    \n",
    "l2_norm_time_nabla = 0 \n",
    "interval_length = (n_epsilon+1)*tau - epsilon \n",
    "t_n = n_epsilon*tau\n",
    "t_nn = (n_epsilon+1)*tau\n",
    "for tau_i,omega_i in zip(qr.current_pts(epsilon,(n_epsilon+1)*tau),qr.t_weights(interval_length)):\n",
    "    t.Set(tau_i )\n",
    "    grad_uhx_at_t_sample, grad_uhy_at_t_sample = get_linear_interpolation(n_epsilon, tau_i,t_n,t_nn,take_gradient=True)\n",
    "    l2_norm_time_nabla += omega_i * Integrate( (grad_uhx_at_t_sample - grad_u_sol_x)*(grad_uhx_at_t_sample - grad_u_sol_x) , mesh)\n",
    "    l2_norm_time_nabla += omega_i * Integrate( (grad_uhy_at_t_sample - grad_u_sol_y)*(grad_uhy_at_t_sample - grad_u_sol_y) , mesh)\n",
    "\n",
    "for n in range(n_epsilon+1,N):\n",
    "    t_n = n*tau\n",
    "    t_nn = (n+1)*tau\n",
    "    for tau_i,omega_i in zip(qr.current_pts(n*tau ,(n+1)*tau),qr.t_weights(tau)):\n",
    "        #print(\"tau_i = \", tau_i)\n",
    "        t.Set(tau_i )\n",
    "        grad_uhx_at_t_sample, grad_uhy_at_t_sample = get_linear_interpolation(n, tau_i,t_n,t_nn,take_gradient=True)\n",
    "        l2_norm_time_nabla += omega_i * Integrate( (grad_uhx_at_t_sample - grad_u_sol_x)*(grad_uhx_at_t_sample - grad_u_sol_x) , mesh)\n",
    "        l2_norm_time_nabla += omega_i * Integrate( (grad_uhy_at_t_sample - grad_u_sol_y)*(grad_uhy_at_t_sample - grad_u_sol_y) , mesh)\n",
    "        #print(\" l2_norm_time_nabla =\", l2_norm_time_nabla)\n",
    "        #print(\"  omega_i  =\",  omega_i )\n",
    "l2_norm_time_nabla = sqrt(l2_norm_time_nabla)\n",
    "print(\"l2_norm_time_nabla \",l2_norm_time_nabla)\n",
    "print(\"delta norm =  \", max(l2_norm_at_sample_points ) + l2_norm_time_nabla )\n",
    "    "
   ]
  },
  {
   "cell_type": "code",
   "execution_count": 28,
   "metadata": {},
   "outputs": [],
   "source": [
    "###################### NEW RESULTS (11.06, Janosch) ############################"
   ]
  },
  {
   "cell_type": "code",
   "execution_count": 29,
   "metadata": {},
   "outputs": [],
   "source": [
    "# gamma1 = 1, gamma0 = 1e-2\n",
    "l2_vel_initial_time = [6.797704465331967,2.4493136972394254,0.8560749170039574,0.2579717626310671,0.15181071331927098 ] \n",
    "l2_vel_final_time = [ 1.4966723173683347,1.009187709420986,0.3401785786193164,0.10168132924085432,0.026478700974706806] \n",
    "delta_norm = [0.05581261259255116,0.028136547824863755,0.01607176023222945,0.00840214572024854,0.004457546029451531 ] \n",
    "#l2_p_initial_time = [1.2419013971378652,1.0751666801061024,1.0154605636512946,1.0228856734751093,563923.30507525 ]\n",
    "l2_p_final_time = [ 0.44069173233105763,0.24147444168741708,0.12225301389429274,0.06148418539158725,0.02910489861243856]"
   ]
  },
  {
   "cell_type": "code",
   "execution_count": 30,
   "metadata": {},
   "outputs": [
    {
     "data": {
      "image/png": "[encoded data removed]",
      "text/plain": [
       "<Figure size 640x480 with 1 Axes>"
      ]
     },
     "metadata": {},
     "output_type": "display_data"
    }
   ],
   "source": [
    "import matplotlib.pyplot as plt\n",
    "hm = [0.6,0.3,0.15,0.075,0.0375]\n",
    "Ns = [1,2,4,8,16]\n",
    "hnp = np.array(hm)\n",
    "plt.loglog(hnp, l2_vel_initial_time,label=\"u(t=0)\",marker= '+' ) \n",
    "plt.loglog(hnp, l2_vel_final_time,label=\"u(t=T)\",marker= 'x' ) \n",
    "plt.loglog(hnp, delta_norm,label=\"eps-norm\",marker= 'o' ) \n",
    "plt.loglog(hnp,l2_p_final_time,label=\"p(T)\",marker= 'v' ) \n",
    "plt.loglog(hnp,5.25*hnp**1,label=\"$\\mathcal{O}(h^{1})$\",color='gray')\n",
    "plt.loglog(hnp,12.25*hnp**2,label=\"$\\mathcal{O}(h^{2})$\",color='gray',linestyle='dashed')\n",
    "plt.legend()\n",
    "plt.show()"
   ]
  },
  {
   "cell_type": "code",
   "execution_count": 31,
   "metadata": {},
   "outputs": [],
   "source": [
    "# gamma1 = 0, gamma0 = 1e-2\n",
    "l2_vel_initial_time_nostab = [ 17.177253620318748  ,7.583869118505473,3.2619031192130943,0.875585174189847, 0.38420570224939027]\n",
    "delta_norm_nostab = [0.15515270530382008,0.023517796874833595,0.01594558459327258,0.00839172882314557,0.004427410053035475 ] "
   ]
  },
  {
   "cell_type": "code",
   "execution_count": 32,
   "metadata": {},
   "outputs": [
    {
     "data": {
      "image/png": "[encoded data removed]",
      "text/plain": [
       "<Figure size 640x480 with 1 Axes>"
      ]
     },
     "metadata": {},
     "output_type": "display_data"
    }
   ],
   "source": [
    "hnp = np.array(hm)\n",
    "plt.loglog(hnp, l2_vel_initial_time,label=\"u(t=0), gamma1=1\",marker= '+' ) \n",
    "plt.loglog(hnp, l2_vel_initial_time_nostab,label=\"u(t=0), gamma1=0\",marker= 'o' ) \n",
    "plt.loglog(hnp, delta_norm,label=\"delta-norm, gamma1 = 1\",marker= 'v' ) \n",
    "plt.loglog(hnp, delta_norm_nostab,label=\"delta-norm, gamma1 = 0\",marker= '.' ) \n",
    "plt.loglog(hnp,5.25*hnp**1,label=\"$\\mathcal{O}(h^{1})$\",color='gray')\n",
    "plt.legend()\n",
    "plt.show()"
   ]
  },
  {
   "cell_type": "code",
   "execution_count": null,
   "metadata": {},
   "outputs": [],
   "source": []
  }
 ],
 "metadata": {
  "kernelspec": {
   "display_name": "Python 3 (ipykernel)",
   "language": "python",
   "name": "python3"
  },
  "language_info": {
   "codemirror_mode": {
    "name": "ipython",
    "version": 3
   },
   "file_extension": ".py",
   "mimetype": "text/x-python",
   "name": "python",
   "nbconvert_exporter": "python",
   "pygments_lexer": "ipython3",
   "version": "3.11.6"
  }
 },
 "nbformat": 4,
 "nbformat_minor": 4
}
