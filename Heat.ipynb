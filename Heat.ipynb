{
 "cells": [
  {
   "cell_type": "code",
   "execution_count": 1,
   "id": "1b7ff132-2179-4d42-ba14-2721cb856c7a",
   "metadata": {},
   "outputs": [],
   "source": [
    "#!python3 -m pip install git+https://github.com/UCL/dxh.git"
   ]
  },
  {
   "cell_type": "code",
   "execution_count": 2,
   "id": "554176ac-1c6f-4827-a0dc-163c0e559206",
   "metadata": {},
   "outputs": [],
   "source": [
    "import dolfinx\n",
    "import dxh\n",
    "import ufl\n",
    "import numpy as np\n",
    "import matplotlib.pyplot as plt\n",
    "from mpi4py import MPI\n",
    "from petsc4py import PETSc\n",
    "from scipy.sparse import csr_matrix\n",
    "import logging\n",
    "logger = logging.getLogger()\n",
    "logger.setLevel(logging.WARNING)\n",
    "from petsc4py.PETSc import ScalarType\n",
    "from GMREs import GMRes, MinRes"
   ]
  },
  {
   "cell_type": "code",
   "execution_count": null,
   "id": "81049286-79e9-430a-8e1d-89397be8b4d4",
   "metadata": {},
   "outputs": [],
   "source": []
  },
  {
   "cell_type": "markdown",
   "id": "410228dd-4c31-4edc-ade2-cdc7745cf6d7",
   "metadata": {},
   "source": [
    "Define experiment parameters"
   ]
  },
  {
   "cell_type": "code",
   "execution_count": 3,
   "id": "bb61670a-8015-4bbe-91e4-5139cdb5b6fd",
   "metadata": {},
   "outputs": [],
   "source": [
    "final_time = 0.02\n",
    "number_of_time_slices = 4\n",
    "number_spatial_mesh_cells = 40\n",
    "time_step = final_time / number_of_time_slices\n",
    "include_initial_condition = True\n",
    "solve_iterative =True\n",
    "spatial_element_degree = 1\n",
    "temporal_element_degree = 1\n",
    "# stabilization parameters\n",
    "lambda_nitsche = 5 * spatial_element_degree**2\n",
    "gamma_0 = 1\n",
    "gamma_1 = 1\n",
    "gamma_m = 1\n",
    "#gamma_primal_jump = gamma_primal\n",
    "#gamma_dual = 1\n",
    "#gamma_data = 1"
   ]
  },
  {
   "cell_type": "markdown",
   "id": "4b48b181-b7e5-44b4-8a9c-9e6fb9eace85",
   "metadata": {},
   "source": [
    "Set up temporal basis functions for trial and test function spaces"
   ]
  },
  {
   "cell_type": "code",
   "execution_count": 4,
   "id": "3d5d47f7-a483-490c-8a8a-9982f42b9104",
   "metadata": {},
   "outputs": [],
   "source": [
    "phi_test = phi_trial = (lambda t: 1-t, lambda t: t)\n",
    "dt_phi_test = dt_phi_trial = (lambda t: -1, lambda t: 1)"
   ]
  },
  {
   "cell_type": "markdown",
   "id": "c77288e4-1fe2-4cca-ae71-0fe98ed9f332",
   "metadata": {},
   "source": [
    "Define integrals in time of temporal basis functions, hardcoded here for simplicity"
   ]
  },
  {
   "cell_type": "code",
   "execution_count": 5,
   "id": "57e2b619-e8e4-4774-bc9b-a5b4e7879293",
   "metadata": {},
   "outputs": [],
   "source": [
    "integral_phi_phi = np.array([[1/3, 1/6], [1/6, 1/3]])\n",
    "integral_dphi_phi = np.array([[-1/2, 1/2], [-1/2, 1/2]])\n",
    "integral_dphi_dphi = np.array([[1.0, -1.0], [-1.0, 1.0]])"
   ]
  },
  {
   "cell_type": "markdown",
   "id": "fbea2f73-06aa-4d4c-bc8f-41277dc59829",
   "metadata": {},
   "source": [
    "Define quadrature rule for integrating right-hand side with respect to time"
   ]
  },
  {
   "cell_type": "code",
   "execution_count": 6,
   "id": "aa9b4028-0250-49b8-b5f5-63767ba8391e",
   "metadata": {},
   "outputs": [],
   "source": [
    "class GaussRadauQuadratureRule:\n",
    "\n",
    "    def __init__(self, number_of_points):\n",
    "        self.number_of_points = number_of_points\n",
    "        gauss_radau = {\n",
    "            3: (\n",
    "                [-1, (1 - np.sqrt(6)) / 5, (1 + np.sqrt(6)) / 5],\n",
    "                [2 / 9, (16 + np.sqrt(6)) / 18, (16 - np.sqrt(6)) / 18]\n",
    "            ),\n",
    "            4: (\n",
    "                [-1, -0.575319, 0.181066, 0.822824],\n",
    "                [0.125, 0.657689, 0.776387, 0.440924]\n",
    "            )\n",
    "        }\n",
    "        self.points, self.weights = gauss_radau[number_of_points]\n",
    "        \n",
    "    def current_pts(self, a, b):\n",
    "        return [0.5 * (b - a) * pt + 0.5 * (b + a)  for pt in self.points]\n",
    "    \n",
    "    def t_weights(self, delta_t):\n",
    "        return [0.5 * delta_t * w for w in self.weights]\n",
    "\n",
    "quadrature_rule = GaussRadauQuadratureRule(4) # quad rule for integrating rhs"
   ]
  },
  {
   "cell_type": "markdown",
   "id": "fb930835-0415-4b69-895a-58cab11494b1",
   "metadata": {},
   "source": [
    "Construct mesh on one-dimensional unit interval spatial domain"
   ]
  },
  {
   "cell_type": "code",
   "execution_count": 7,
   "id": "9ed0e6da-82c9-44d9-8c57-8c8534d2ed2f",
   "metadata": {},
   "outputs": [],
   "source": [
    "communicator = MPI.COMM_WORLD\n",
    "mesh = dolfinx.mesh.create_unit_interval(communicator, number_spatial_mesh_cells)\n",
    "#mesh = dolfinx.mesh.create_unit_square(communicator, number_spatial_mesh_cells,number_spatial_mesh_cells)"
   ]
  },
  {
   "cell_type": "code",
   "execution_count": 8,
   "id": "a5de3b31-21c5-42a2-8583-2f86d487ea74",
   "metadata": {},
   "outputs": [],
   "source": [
    "#dolfinx.mesh.create_unit_square?"
   ]
  },
  {
   "cell_type": "markdown",
   "id": "1216491b-d8b9-4da8-b99f-46a0c2c665a2",
   "metadata": {},
   "source": [
    "Create base vector finite element with continuous Galerkin family and dimension proportional to number slices temporal interval is split into"
   ]
  },
  {
   "cell_type": "code",
   "execution_count": 9,
   "id": "fb8cc193-8622-458b-b4a2-dc8bf91fd0a3",
   "metadata": {},
   "outputs": [],
   "source": [
    "# need to implement divergence freeb CR element in basix\n",
    "vector_element_primal = ufl.VectorElement(\n",
    "    family=\"CG\",\n",
    "    cell=mesh.ufl_cell(),\n",
    "    degree=spatial_element_degree,\n",
    "    dim= number_of_time_slices+1\n",
    ")\n",
    "vector_element_dual = ufl.VectorElement(\n",
    "    family=\"CG\",\n",
    "    cell=mesh.ufl_cell(),\n",
    "    degree=spatial_element_degree,\n",
    "    dim= number_of_time_slices\n",
    ")"
   ]
  },
  {
   "cell_type": "markdown",
   "id": "51c62e87-0f5a-4668-92a9-accc035f125a",
   "metadata": {},
   "source": [
    "Create a mixed element corresponding to outer level of nesting for each of four variables (displacement primal, velocity primal, displacement dual, velocity dual) and corresponding function space"
   ]
  },
  {
   "cell_type": "code",
   "execution_count": 10,
   "id": "eefb6ebe-f54c-42be-a48c-42aaf0f235de",
   "metadata": {},
   "outputs": [],
   "source": [
    "mixed_element = ufl.MixedElement([vector_element_primal,vector_element_dual ])\n",
    "mixed_function_space = dolfinx.fem.FunctionSpace(mesh, mixed_element)"
   ]
  },
  {
   "cell_type": "markdown",
   "id": "69e65731-8f38-4824-ae63-2cf5c010eb48",
   "metadata": {},
   "source": [
    "Construct trial and test functions for primal and dual variables (for both displacement and velocity)"
   ]
  },
  {
   "cell_type": "code",
   "execution_count": 11,
   "id": "fd7ab99d-3d71-4016-9db7-9957b16ed581",
   "metadata": {},
   "outputs": [],
   "source": [
    "(velocity_primal_trial_function,\n",
    "    velocity_dual_trial_function,\n",
    ") = ufl.TrialFunctions(mixed_function_space)\n",
    "(  velocity_primal_test_function,\n",
    "    velocity_dual_test_function,\n",
    ") = ufl.TestFunctions(mixed_function_space)\n",
    "#(\n",
    "##    velocity_primal_test_function,\n",
    "#    velocity_dual_test_function_tmp,\n",
    "#) = ufl.TestFunctions(mixed_function_space)\n",
    "#velocity_dual_test_function = [0,velocity_dual_test_function_tmp] "
   ]
  },
  {
   "cell_type": "code",
   "execution_count": null,
   "id": "403625a4-d518-4472-ad87-e95fa715fd40",
   "metadata": {},
   "outputs": [],
   "source": []
  },
  {
   "cell_type": "code",
   "execution_count": 12,
   "id": "d2cbce8d-a762-45e5-adc0-228c0e5db9d0",
   "metadata": {},
   "outputs": [],
   "source": [
    "#help( velocity_dual_test_function )"
   ]
  },
  {
   "cell_type": "markdown",
   "id": "9915eacd-f2fe-4d3a-8765-7e9e401e11f9",
   "metadata": {},
   "source": [
    "Create indicator function on spatial domain for where data is available"
   ]
  },
  {
   "cell_type": "code",
   "execution_count": 13,
   "id": "1fbf8d35-74f7-4f77-bdcf-b4111dba3338",
   "metadata": {},
   "outputs": [],
   "source": [
    "def data_domain_indicator(spatial_coordinate, lower_bound=0.2, upper_bound=0.8):\n",
    "    return ~((spatial_coordinate[0] <= lower_bound) | (spatial_coordinate[0] >= upper_bound)) * 1\n",
    "\n",
    "indicator_function_space = dolfinx.fem.FunctionSpace(mesh, (\"DG\", 0))\n",
    "data_domain_indicator_function = dolfinx.fem.Function(indicator_function_space)\n",
    "data_domain_indicator_function.interpolate(data_domain_indicator)\n",
    "#print(data_domain_indicator_function.x.array)"
   ]
  },
  {
   "cell_type": "markdown",
   "id": "1d3682f3-fe66-4ce5-97e7-74aa68b269c8",
   "metadata": {},
   "source": [
    "Define function for constructing required measures / integrals on spatial domain and create instances of measures for mesh"
   ]
  },
  {
   "cell_type": "code",
   "execution_count": 14,
   "id": "e449311b-592e-4707-a75e-3b0cd9776c63",
   "metadata": {},
   "outputs": [],
   "source": [
    "def construct_measures(mesh, spatial_element_degree):\n",
    "    metadata = {\"quadrature_degree\": 2 * spatial_element_degree + 3}\n",
    "    cell_integral = ufl.Measure(\"cell\", domain=mesh, metadata=metadata)\n",
    "    exterior_facet_integral = ufl.Measure(\"exterior_facet\", domain=mesh, metadata=metadata)\n",
    "    interior_facet_integral = ufl.Measure(\"interior_facet\", domain=mesh, metadata=metadata)\n",
    "    return cell_integral, exterior_facet_integral, interior_facet_integral\n",
    "\n",
    "cell_integral, exterior_facet_integral, interior_facet_integral = construct_measures(mesh, spatial_element_degree)\n",
    "spatial_coordinate = ufl.SpatialCoordinate(mesh)"
   ]
  },
  {
   "cell_type": "markdown",
   "id": "cbdb466b-4801-4b3d-b5c9-8d034530086e",
   "metadata": {},
   "source": [
    "Definition  of $\\tau \\partial_{\\tau}u^n$"
   ]
  },
  {
   "cell_type": "code",
   "execution_count": 15,
   "id": "242da491-068c-4f71-a136-4f56505fb75b",
   "metadata": {},
   "outputs": [],
   "source": [
    "def num_par_der(\n",
    "    velocity_primal_trial_function_current,\n",
    "    velocity_primal_trial_function_previous   \n",
    "):\n",
    "    return(\n",
    "            velocity_primal_trial_function_current-velocity_primal_trial_function_previous\n",
    "            \n",
    "        )"
   ]
  },
  {
   "cell_type": "markdown",
   "id": "50030cf4-93c8-4807-8a56-eaee38375adb",
   "metadata": {},
   "source": [
    "$A_1(u,w)=\\tau \\sum^{N}_{n=1}((\\partial_{\\tau}u^n,w^n)+a_h(u^n,w^n))$"
   ]
  },
  {
   "cell_type": "code",
   "execution_count": 16,
   "id": "f30c9252-bc9a-46de-a59e-d0647c68bdf9",
   "metadata": {},
   "outputs": [],
   "source": [
    "def problem_bilinear_form( \n",
    "    #velocity_primal_trial_function,\n",
    "    velocity_primal_trial_function_current,\n",
    "    velocity_primal_trial_function_previous,\n",
    "    velocity_dual_test_function,\n",
    "    #integral_phi_phi,\n",
    "    #integral_dphi_phi,\n",
    "    time_step,\n",
    "    mesh,\n",
    "    spatial_element_degree,\n",
    "):\n",
    "    cell_integral, exterior_facet_integral, _ = construct_measures(\n",
    "        mesh, spatial_element_degree\n",
    "    )\n",
    "    facet_normal = ufl.FacetNormal(mesh)\n",
    "    return (\n",
    "        #integral_dphi_phi\n",
    "         ufl.inner(\n",
    "            num_par_der(velocity_primal_trial_function_current, velocity_primal_trial_function_previous),\n",
    "            velocity_dual_test_function,\n",
    "        )\n",
    "        * cell_integral\n",
    "        + time_step\n",
    "        * ufl.inner(\n",
    "            ufl.grad(velocity_primal_trial_function_current),\n",
    "            ufl.grad(velocity_dual_test_function),\n",
    "        )\n",
    "        * cell_integral\n",
    "     )"
   ]
  },
  {
   "cell_type": "markdown",
   "id": "9499646d-2655-4c2a-9800-19d6d639d759",
   "metadata": {},
   "source": [
    "$A_{2}((u,z),v)= \\gamma_M\\tau \\sum^{N}_{n=1}(u^n,v^n)_{\\omega}+\\gamma_0(h \\nabla u^0,h \\nabla v^0) +\\gamma_1 \\tau\\sum^{N}_{n=1}(\\tau \\nabla \\partial_{\\tau}u^n, \\tau \\nabla \\partial_{\\tau}v^n) +\\tau\\sum^{N}_{n=1}\\sum_{F \\in \\mathcal{F}_h}\\frac{1}{h}(\\mathcal{J}(u^n),\\mathcal{J}({v^n}))_F+\\tau \\sum^{N}_{n=1}((\\partial_{\\tau}v^n,z^n)+a_h(v^n,z^n))$"
   ]
  },
  {
   "cell_type": "code",
   "execution_count": 17,
   "id": "1a1d53ee-76c1-4aef-a3b3-181727b054e0",
   "metadata": {},
   "outputs": [],
   "source": [
    "def primal_stabilizer_bilinear_form(\n",
    "    velocity_primal_trial_function_current,\n",
    "    velocity_primal_trial_function_previous,\n",
    "    velocity_primal_test_function_current,\n",
    "    velocity_primal_test_function_previous,\n",
    "    velocity_dual_trial_function,\n",
    "    time_step,\n",
    "    mesh,\n",
    "    spatial_element_degree,\n",
    "    gamma_0,\n",
    "    gamma_1,\n",
    "    gamma_m,\n",
    "):\n",
    "    (\n",
    "        cell_integral,\n",
    "        exterior_facet_integral,\n",
    "        interior_facet_integral\n",
    "    ) = construct_measures(mesh, spatial_element_degree)\n",
    "    cell_diameter = ufl.CellDiameter(mesh)\n",
    "    return (\n",
    "        #subdomain indicator term\n",
    "        gamma_m\n",
    "        * time_step\n",
    "        #* integral_phi_phi\n",
    "        * data_domain_indicator_function\n",
    "        #* 1.0\n",
    "        * ufl.inner(\n",
    "                    velocity_primal_trial_function_current,\n",
    "                    velocity_primal_test_function_current,\n",
    "                )\n",
    "        * cell_integral\n",
    "        #  initial gradient velocity term\n",
    "        # + gamma_0\n",
    "        # * cell_diameter**2\n",
    "        # * ufl.inner(\n",
    "        #     ufl.grad(velocity_primal_trial_function_initial),\n",
    "        #     ufl.grad(velocity_primal_test_function_initial),\n",
    "        # )\n",
    "        # * cell_integral\n",
    "        # time gradient velocity term\n",
    "        + gamma_1\n",
    "        * time_step\n",
    "        * ufl.inner(\n",
    "             ufl.grad(num_par_der(velocity_primal_trial_function_current, velocity_primal_trial_function_previous)),\n",
    "            ufl.grad(num_par_der(velocity_primal_test_function_current, velocity_primal_test_function_previous)),\n",
    "        )\n",
    "        * cell_integral\n",
    "        # jump term\n",
    "        + time_step\n",
    "        * (1 / 0.5*(cell_diameter('+')+cell_diameter('-')))\n",
    "        * ufl.inner(\n",
    "            ufl.jump(velocity_primal_trial_function_current),\n",
    "            ufl.jump(velocity_primal_test_function_current),\n",
    "        )\n",
    "        * interior_facet_integral\n",
    "        #+ integral_dphi_phi\n",
    "        + ufl.inner(\n",
    "            num_par_der(velocity_primal_test_function_current, velocity_primal_test_function_previous),\n",
    "            velocity_dual_trial_function,\n",
    "        )\n",
    "        * cell_integral\n",
    "        + time_step\n",
    "        #* integral_phi_phi\n",
    "        * ufl.inner(\n",
    "            ufl.grad(velocity_primal_test_function_current),\n",
    "            ufl.grad(velocity_dual_trial_function),\n",
    "        )\n",
    "        * cell_integral\n",
    "         \n",
    "    )"
   ]
  },
  {
   "cell_type": "code",
   "execution_count": 18,
   "id": "e9b6091b-6cb3-4679-94e1-95060ecb8376",
   "metadata": {},
   "outputs": [],
   "source": [
    "def sample_sol(t,xu):\n",
    "    #return ufl.cos(ufl.pi*(t))*ufl.sin(ufl.pi*xu[0])\n",
    "    return ufl.exp(-4*ufl.pi**2*(t))*ufl.sin(2*ufl.pi*xu[0])"
   ]
  },
  {
   "cell_type": "code",
   "execution_count": 19,
   "id": "d177b4cc-b654-455c-bf0c-c36a46c804a2",
   "metadata": {},
   "outputs": [],
   "source": [
    "def sample_sol_np(t,xu):\n",
    "    #return np.cos(np.pi*(t))*np.sin(np.pi*xu[0])\n",
    "    return np.exp(-4*np.pi**2*(t))*np.sin(2*ufl.pi*xu[0])"
   ]
  },
  {
   "cell_type": "code",
   "execution_count": 20,
   "id": "6753d2cc-3d6e-47f8-8220-4fee0a5829fa",
   "metadata": {},
   "outputs": [],
   "source": [
    "def rhs(t,xu):\n",
    "    #return (-ufl.pi*ufl.sin(ufl.pi*t)+ufl.pi**2*ufl.cos(ufl.pi*t))*ufl.sin(ufl.pi*xu[0])\n",
    "    return dolfinx.fem.Constant(mesh, ScalarType(0))"
   ]
  },
  {
   "cell_type": "code",
   "execution_count": 21,
   "id": "c623c018-207d-4407-bc09-21a6e2efb027",
   "metadata": {},
   "outputs": [],
   "source": [
    "# # # right hand side\n",
    "#  from petsc4py.PETSc import ScalarType\n",
    "#f = ufl.cos(ufl.pi * final_time) * ufl.sin(ufl.pi * spatial_coordinate[0])*pi-ufl.sin(ufl.pi * final_time) * ufl.sin(ufl.pi * spatial_coordinate[0])*pi*pi\n",
    "#  q = dolfinx.fem.Constant(mesh, ScalarType(1))\n",
    "#f=dolfinx.fem.Constant(mesh, ScalarType(0))"
   ]
  },
  {
   "cell_type": "code",
   "execution_count": 22,
   "id": "bbe5d0d9-971e-470e-a70c-6e6f5ea8a37e",
   "metadata": {},
   "outputs": [],
   "source": [
    "#if include_initial_condition:\n",
    "if False:\n",
    "    initial_velocity_function_space, dofmap_initial_displacement_to_mixed = (\n",
    "        mixed_function_space.sub(0).sub(0).collapse()\n",
    "    )\n",
    "    initial_velocity = dolfinx.fem.Function(initial_velocity_function_space)\n",
    "    initial_velocity.x.array[:] = 0.0\n",
    "    bilinear_form += (\n",
    "        gamma_0\n",
    "        * (1 / time_step)\n",
    "        * ufl.inner(\n",
    "            velocity_primal_trial_function[0], velocity_primal_test_function[0]\n",
    "        )\n",
    "        * cell_integral\n",
    "    ) \n",
    "     \n",
    "    linear_form += (\n",
    "        gamma_primal_jump\n",
    "        * (1 / time_step)\n",
    "        * ufl.inner(initial_velocity, velocity_primal_test_function[0])\n",
    "        * cell_integral\n",
    "    )"
   ]
  },
  {
   "cell_type": "code",
   "execution_count": 23,
   "id": "686102b7-a9a8-42ce-9240-185544762965",
   "metadata": {},
   "outputs": [],
   "source": [
    "cell_diameter = ufl.CellDiameter(mesh)\n",
    "cell_integral,exterior_facet_integral,interior_facet_integral = construct_measures(mesh, spatial_element_degree)\n",
    "\n",
    "if include_initial_condition:\n",
    "    bilinear_form = ufl.inner(velocity_primal_trial_function[0],\n",
    "                                             velocity_primal_test_function[0]) * cell_integral\n",
    "else:\n",
    "    bilinear_form = gamma_0 * cell_diameter**2 * ufl.inner(ufl.grad(velocity_primal_trial_function[0]),\n",
    "                                             ufl.grad(velocity_primal_test_function[0])) * cell_integral\n",
    "linear_form = 0\n",
    "\n",
    "for time_slice_index in range(1,number_of_time_slices+1):\n",
    "    time_slice = time_slice_index * time_step\n",
    "    # A_1[primal_trial, primal_test]\n",
    "    bilinear_form += problem_bilinear_form(\n",
    "        velocity_primal_trial_function[time_slice_index],\n",
    "        velocity_primal_trial_function[time_slice_index-1],\n",
    "        velocity_dual_test_function[time_slice_index-1],\n",
    "        time_step,\n",
    "        mesh,\n",
    "        spatial_element_degree,\n",
    "    )\n",
    "    # A_2[(primal_trial, dual_trial), primal_test]\n",
    "    bilinear_form += primal_stabilizer_bilinear_form(\n",
    "        velocity_primal_trial_function[time_slice_index],\n",
    "        velocity_primal_trial_function[time_slice_index-1],\n",
    "        velocity_primal_test_function[time_slice_index],\n",
    "        velocity_primal_test_function[time_slice_index-1],\n",
    "        velocity_dual_trial_function[time_slice_index-1],\n",
    "        time_step,\n",
    "        mesh,\n",
    "        spatial_element_degree,\n",
    "        gamma_0,\n",
    "        gamma_1,\n",
    "        gamma_m,\n",
    "    )\n",
    "    f=rhs(time_slice,spatial_coordinate)\n",
    "    q=sample_sol(time_slice,spatial_coordinate)\n",
    "    linear_form += (\n",
    "        time_step*f* velocity_dual_test_function[time_slice_index-1]* cell_integral\n",
    "                    +time_step*gamma_m* data_domain_indicator_function * q * velocity_primal_test_function[time_slice_index] * cell_integral\n",
    "    )\n",
    "\n",
    "if include_initial_condition:\n",
    "    linear_form += sample_sol(0.0,spatial_coordinate) * velocity_primal_test_function[0] * cell_integral\n",
    "    \n",
    "for time_slice_index in range(0,number_of_time_slices+1):\n",
    "    pass\n",
    "\n",
    "    #if time_slice_index < number_of_time_slices: \n",
    "    #    bilinear_form += 1e-5 * ufl.inner(ufl.grad(velocity_dual_trial_function[time_slice_index]),\n",
    "     #  ufl.grad(velocity_dual_test_function[time_slice_index])) * cell_integral\n",
    "    \n",
    "    \n",
    "    #bilinear_form += 1e-11 * ufl.inner(ufl.grad(velocity_primal_trial_function[time_slice_index]),\n",
    "    #                                 ufl.grad(velocity_primal_test_function[time_slice_index])) * cell_integral\n",
    "    #if time_slice_index < number_of_time_slices:\n",
    "    #if time_slice_index < number_of_time_slices: \n",
    "    #       bilinear_form += 1e-11 * ufl.inner(velocity_primal_trial_function[time_slice_index],\n",
    "    #                                  velocity_dual_test_function[time_slice_index]) * cell_integral\n",
    "    #bilinear_form += 1e-11 * ufl.inner(velocity_primal_test_function[time_slice_index],\n",
    "    #                                  velocity_dual_trial_function[time_slice_index]) * cell_integral\n"
   ]
  },
  {
   "cell_type": "markdown",
   "id": "a388cb4f-e3b2-4d4a-a8ef-6b6681b09073",
   "metadata": {},
   "source": [
    "Assemble matrix for bilinear form (left-hand side of linear system)"
   ]
  },
  {
   "cell_type": "code",
   "execution_count": 24,
   "id": "c6750990-77ec-45a3-bb3d-e98e519dd89e",
   "metadata": {},
   "outputs": [],
   "source": [
    "#W0,W0_to_VW = primal_dual_function_space.sub(1).collapse()\n",
    "bc_function = dolfinx.fem.Function(mixed_function_space)\n",
    "bc_function.x.array[:] = 0.0\n",
    "tdim = mesh.topology.dim\n",
    "fdim = tdim - 1\n",
    "mesh.topology.create_connectivity(fdim, tdim)\n",
    "boundary_facets = dolfinx.mesh.exterior_facet_indices(mesh.topology)\n",
    "boundary_dofs = dolfinx.fem.locate_dofs_topological( mixed_function_space, fdim, boundary_facets)\n",
    "bc = [dolfinx.fem.dirichletbc(bc_function, boundary_dofs)]\n",
    "#print(boundary_dofs)"
   ]
  },
  {
   "cell_type": "code",
   "execution_count": 25,
   "id": "18b7303c-da27-4e94-b5b0-b62a37ece732",
   "metadata": {},
   "outputs": [],
   "source": [
    "bilinear_form = dolfinx.fem.form(bilinear_form)\n",
    "bilinear_form_matrix = dolfinx.fem.petsc.assemble_matrix(bilinear_form, bcs=bc)\n",
    "bilinear_form_matrix.assemble()"
   ]
  },
  {
   "cell_type": "markdown",
   "id": "3b87249f-1d41-442c-bfe8-11048719d9ae",
   "metadata": {},
   "source": [
    "Set up solver"
   ]
  },
  {
   "cell_type": "code",
   "execution_count": null,
   "id": "a3845c69-8cc0-4e13-bcae-476956243cb5",
   "metadata": {},
   "outputs": [],
   "source": []
  },
  {
   "cell_type": "code",
   "execution_count": null,
   "id": "26a32d8a-9dee-4f2f-a58c-0da6edc623b0",
   "metadata": {},
   "outputs": [],
   "source": []
  },
  {
   "cell_type": "markdown",
   "id": "4842ee17-c551-443c-9a54-f0d22b0a5f27",
   "metadata": {},
   "source": [
    "Assemble vector for linear form (right-hand side of linear system)"
   ]
  },
  {
   "cell_type": "code",
   "execution_count": 26,
   "id": "02aa7946-7b27-462f-816f-3564b65b11d8",
   "metadata": {},
   "outputs": [],
   "source": [
    "linear_form = dolfinx.fem.form(linear_form)\n",
    "linear_form_vector = dolfinx.fem.petsc.create_vector(linear_form)\n",
    "dolfinx.fem.petsc.assemble_vector(linear_form_vector, linear_form);"
   ]
  },
  {
   "cell_type": "markdown",
   "id": "1540f32e-f567-4940-b9d6-d1d639097a07",
   "metadata": {},
   "source": [
    "Solve system and extract solution components for displacement / velocity primal / dual variables"
   ]
  },
  {
   "cell_type": "code",
   "execution_count": null,
   "id": "c6f5f8c5-5e1e-4a19-a0b5-e2edd9df65bf",
   "metadata": {},
   "outputs": [],
   "source": [
    "\n"
   ]
  },
  {
   "cell_type": "code",
   "execution_count": 27,
   "id": "2b6f7c4c-1889-4cf4-a677-088536498071",
   "metadata": {},
   "outputs": [
    {
     "name": "stdout",
     "output_type": "stream",
     "text": [
      "ResNorm =  0.11157906566182474\n",
      "369\n",
      "(369, 369)\n"
     ]
    }
   ],
   "source": [
    "solution = dolfinx.fem.Function(mixed_function_space)\n",
    "if solve_iterative: \n",
    "    def pre(x,y):\n",
    "        x.copy(y)\n",
    "    u_sol,res = MinRes(bilinear_form_matrix,\n",
    "                  linear_form_vector,\n",
    "                  pre=pre,\n",
    "                  maxsteps = 100000, \n",
    "                  tol = 1e-7, \n",
    "                   #tol = 1e-4,\n",
    "                  printrates = False)\n",
    "    \n",
    "    solution.x.array[:] = u_sol.array[:]\n",
    "    solution.x.scatter_forward()\n",
    "    \n",
    "else:  \n",
    "    print(\"Solve using direct solver\")\n",
    "    solver = PETSc.KSP().create(mesh.comm)\n",
    "    #solver = PETSc.KSP().create()\n",
    "    solver.setOperators(bilinear_form_matrix)\n",
    "    solver.setType(PETSc.KSP.Type.PREONLY)\n",
    "    solver.getPC().setType(PETSc.PC.Type.LU)\n",
    "    solver.solve(linear_form_vector, solution.vector)\n",
    "    solution.x.scatter_forward()\n",
    "\n",
    "(\n",
    "    velocity_primal_solution,\n",
    "    velocity_dual_solution\n",
    ") = solution.split()\n",
    "\n",
    "#np.any(np.isinf(velocity_primal_solution.x.array))\n",
    "#np.any(np.isinf(velocity_dual_solution.x.array))\n",
    "print( len(solution.x.array ) ) \n",
    "print(bilinear_form_matrix.getSize())"
   ]
  },
  {
   "cell_type": "code",
   "execution_count": 28,
   "id": "334b2856-f728-4e26-a949-b9b03b12bd16",
   "metadata": {},
   "outputs": [],
   "source": [
    "#u_sol.array"
   ]
  },
  {
   "cell_type": "code",
   "execution_count": 29,
   "id": "d3645616-db09-40d4-a455-4c50ab3e6092",
   "metadata": {},
   "outputs": [],
   "source": [
    "#len(solution.x.array)"
   ]
  },
  {
   "cell_type": "code",
   "execution_count": 30,
   "id": "242ad5f1-434c-499b-9e25-a8ae1f38de92",
   "metadata": {},
   "outputs": [],
   "source": [
    "#velocity_primal_solution.x.array"
   ]
  },
  {
   "cell_type": "code",
   "execution_count": 31,
   "id": "5dc0bec9-6e95-4ce8-907c-609df6b15eae",
   "metadata": {},
   "outputs": [],
   "source": [
    "#%%timeit\n",
    "#solver.solve(linear_form_vector, solution.vector)"
   ]
  },
  {
   "cell_type": "code",
   "execution_count": 32,
   "id": "4e332c82-4954-4113-ab81-c8453b43267f",
   "metadata": {},
   "outputs": [
    {
     "data": {
      "image/png": "[encoded data removed]",
      "text/plain": [
       "<Figure size 1200x600 with 2 Axes>"
      ]
     },
     "metadata": {},
     "output_type": "display_data"
    }
   ],
   "source": [
    "bilinear_form_csr_matrix = csr_matrix(bilinear_form_matrix.getValuesCSR()[::-1])\n",
    "fig, axes = plt.subplots(1, 2, figsize=(12, 6))\n",
    "axes[0].spy(bilinear_form_csr_matrix, markersize=0.5)\n",
    "axes[0].set_title(f\"True sparsity pattern (number of non-zeros = {bilinear_form_csr_matrix.count_nonzero()})\")\n",
    "axes[1].spy(bilinear_form_csr_matrix, markersize=0.5, precision=\"present\")\n",
    "axes[1].set_title(f\"Inferred sparsity pattern (number of entries = {bilinear_form_csr_matrix.nnz})\");"
   ]
  },
  {
   "cell_type": "code",
   "execution_count": 33,
   "id": "76b14fa0-edb8-4e2b-8d2b-a2c40dfe2aac",
   "metadata": {},
   "outputs": [
    {
     "data": {
      "text/plain": [
       "623.9638736301572"
      ]
     },
     "execution_count": 33,
     "metadata": {},
     "output_type": "execute_result"
    }
   ],
   "source": [
    "A_numpy = bilinear_form_csr_matrix.todense() \n",
    "np.linalg.cond(A_numpy)\n",
    "#eigenvalues, eigenvectors = np.linalg.eig(A_numpy)\n",
    "#eigenvalues "
   ]
  },
  {
   "cell_type": "markdown",
   "id": "e5b065d3-a638-4a62-9e31-a0a3fa4080b8",
   "metadata": {},
   "source": [
    "Extract solution at final time"
   ]
  },
  {
   "cell_type": "code",
   "execution_count": 34,
   "id": "0665125c-2841-4958-ac77-26a8a6aaaf68",
   "metadata": {},
   "outputs": [],
   "source": [
    "final_velocity_function_space, dofmap_final_velocity_to_mixed = mixed_function_space.sub(0).sub( number_of_time_slices ).collapse()\n",
    "final_velocity = dolfinx.fem.Function(final_velocity_function_space)\n",
    "final_velocity.x.array[:] = velocity_primal_solution.x.array[dofmap_final_velocity_to_mixed] \n",
    "\n",
    "final_velocity_dual_function_space, dofmap_final_dual_velocity_to_mixed_dual = mixed_function_space.sub(1).sub( number_of_time_slices -1 ).collapse()\n",
    "final_velocity_dual = dolfinx.fem.Function(final_velocity_dual_function_space)\n",
    "final_velocity_dual.x.array[:] = velocity_dual_solution.x.array[dofmap_final_dual_velocity_to_mixed_dual] "
   ]
  },
  {
   "cell_type": "code",
   "execution_count": 35,
   "id": "48c8e277-674c-4dce-9f37-e0592dbf4658",
   "metadata": {},
   "outputs": [
    {
     "data": {
      "text/plain": [
       "False"
      ]
     },
     "execution_count": 35,
     "metadata": {},
     "output_type": "execute_result"
    }
   ],
   "source": [
    "np.any(np.isinf(final_velocity.x.array))"
   ]
  },
  {
   "cell_type": "code",
   "execution_count": 36,
   "id": "bf6feb2b-a636-41b2-b4fe-74961d3c79ce",
   "metadata": {},
   "outputs": [],
   "source": [
    "#final_velocity.x.array"
   ]
  },
  {
   "cell_type": "code",
   "execution_count": 37,
   "id": "dc884894-6c6a-4b61-9f98-c6d046f11a55",
   "metadata": {},
   "outputs": [],
   "source": [
    "#final_velocity_dual.x.array"
   ]
  },
  {
   "cell_type": "markdown",
   "id": "6de9caa9-66d4-4cc6-b93e-1949dd826368",
   "metadata": {},
   "source": [
    "Compute L2 error of numerical solution compared to exact"
   ]
  },
  {
   "cell_type": "code",
   "execution_count": 38,
   "id": "646b5769-8d75-4162-b02b-d1bb84615336",
   "metadata": {},
   "outputs": [
    {
     "name": "stdout",
     "output_type": "stream",
     "text": [
      "t = 0.02, L2 error = 0.017813972255097413 \n"
     ]
    }
   ],
   "source": [
    "# measuring error \n",
    "exact_velocity_solution =sample_sol(final_time,spatial_coordinate) \n",
    "l2_error_squared_form = dolfinx.fem.form(\n",
    "    ufl.inner(\n",
    "        final_velocity - exact_velocity_solution, \n",
    "        final_velocity - exact_velocity_solution\n",
    "    ) * cell_integral\n",
    ")\n",
    "l2_error_squared_local = dolfinx.fem.assemble_scalar(l2_error_squared_form)\n",
    "l2_error_global = np.sqrt(mesh.comm.allreduce(l2_error_squared_local, op=MPI.SUM))\n",
    "print(f\"t = {final_time}, L2 error = {l2_error_global} \")"
   ]
  },
  {
   "cell_type": "code",
   "execution_count": 39,
   "id": "337c1b5d-8672-40c5-9d1e-a041bab59529",
   "metadata": {},
   "outputs": [
    {
     "name": "stdout",
     "output_type": "stream",
     "text": [
      "t = 0.02, dual L2 = 0.011016991006678068 \n"
     ]
    }
   ],
   "source": [
    "# measuring error \n",
    "#exact_velocity_solution =sample_sol(final_time,spatial_coordinate) \n",
    "l2_error_squared_form = dolfinx.fem.form(\n",
    "    ufl.inner(\n",
    "        final_velocity_dual, \n",
    "        final_velocity_dual\n",
    "    ) * cell_integral\n",
    ")\n",
    "l2_error_squared_local = dolfinx.fem.assemble_scalar(l2_error_squared_form)\n",
    "l2_error_global = np.sqrt(mesh.comm.allreduce(l2_error_squared_local, op=MPI.SUM))\n",
    "print(f\"t = {final_time}, dual L2 = {l2_error_global} \")"
   ]
  },
  {
   "cell_type": "code",
   "execution_count": 40,
   "id": "a83accb8-06d2-42cb-8305-52d280bcc1e8",
   "metadata": {},
   "outputs": [],
   "source": [
    "velocity_exact = dolfinx.fem.Function(final_velocity_function_space)\n",
    "velocity_exact.interpolate(lambda x: sample_sol_np(final_time,x))"
   ]
  },
  {
   "cell_type": "code",
   "execution_count": 41,
   "id": "28783a54-53c3-48d4-80b5-bc88436d7f88",
   "metadata": {},
   "outputs": [
    {
     "data": {
      "image/png": "[encoded data removed]",
      "text/plain": [
       "<Figure size 1000x500 with 2 Axes>"
      ]
     },
     "execution_count": 41,
     "metadata": {},
     "output_type": "execute_result"
    },
    {
     "data": {
      "image/png": "[encoded data removed]",
      "text/plain": [
       "<Figure size 1000x500 with 2 Axes>"
      ]
     },
     "metadata": {},
     "output_type": "display_data"
    }
   ],
   "source": [
    "dxh.plot_1d_functions({\"Numerical solution\": final_velocity,\"exact solution\": velocity_exact } )"
   ]
  },
  {
   "cell_type": "code",
   "execution_count": null,
   "id": "c0f19b47-3414-4676-8052-b539d2734cc4",
   "metadata": {},
   "outputs": [],
   "source": []
  }
 ],
 "metadata": {
  "kernelspec": {
   "display_name": "Python 3 (ipykernel)",
   "language": "python",
   "name": "python3"
  },
  "language_info": {
   "codemirror_mode": {
    "name": "ipython",
    "version": 3
   },
   "file_extension": ".py",
   "mimetype": "text/x-python",
   "name": "python",
   "nbconvert_exporter": "python",
   "pygments_lexer": "ipython3",
   "version": "3.10.4"
  }
 },
 "nbformat": 4,
 "nbformat_minor": 5
}
